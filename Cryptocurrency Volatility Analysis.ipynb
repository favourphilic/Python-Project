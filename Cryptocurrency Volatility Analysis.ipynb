{
  "cells": [
    {
      "cell_type": "markdown",
      "metadata": {
        "id": "view-in-github",
        "colab_type": "text"
      },
      "source": [
        "<a href=\"https://colab.research.google.com/github/favourphilic/Python-Project/blob/main/Cryptocurrency_Volatility.ipynb\" target=\"_parent\"><img src=\"https://colab.research.google.com/assets/colab-badge.svg\" alt=\"Open In Colab\"/></a>"
      ]
    },
    {
      "cell_type": "code",
      "execution_count": null,
      "metadata": {
        "id": "qZlRWDn_jay5"
      },
      "outputs": [],
      "source": [
        "import pandas as pd\n",
        "import numpy as np\n",
        "import matplotlib.pyplot as plt\n",
        "%matplotlib inline"
      ]
    },
    {
      "cell_type": "code",
      "source": [
        "from pandas_profiling import ProfileReport"
      ],
      "metadata": {
        "id": "LJltDjj1Eq3_"
      },
      "execution_count": null,
      "outputs": []
    },
    {
      "cell_type": "code",
      "execution_count": null,
      "metadata": {
        "colab": {
          "base_uri": "https://localhost:8080/"
        },
        "id": "wNAoeBmWjqJH",
        "outputId": "63bcbc46-b7a7-40c3-bc35-deb9bf7eab3e"
      },
      "outputs": [
        {
          "output_type": "stream",
          "name": "stdout",
          "text": [
            "Mounted at /content/drive/\n"
          ]
        }
      ],
      "source": [
        "from google.colab import drive \n",
        "drive.mount('/content/drive/')"
      ]
    },
    {
      "cell_type": "code",
      "execution_count": null,
      "metadata": {
        "id": "QCB27EoplNbZ"
      },
      "outputs": [],
      "source": [
        "df= pd.read_csv('/content/drive/MyDrive/MyFolder/DataSet/coingeko.csv')\n",
        "#df.head()\n"
      ]
    },
    {
      "cell_type": "code",
      "source": [
        "profile = ProfileReport(df, title=\"Pandas Profilling Report\")"
      ],
      "metadata": {
        "colab": {
          "base_uri": "https://localhost:8080/",
          "height": 606
        },
        "id": "clzWaifsFiij",
        "outputId": "c11e1cc4-9dfb-44f0-ee31-4abeefea9b66"
      },
      "execution_count": null,
      "outputs": [
        {
          "output_type": "error",
          "ename": "TypeError",
          "evalue": "ignored",
          "traceback": [
            "\u001b[0;31m---------------------------------------------------------------------------\u001b[0m",
            "\u001b[0;31mRemoteTraceback\u001b[0m                           Traceback (most recent call last)",
            "\u001b[0;31mRemoteTraceback\u001b[0m: \n\"\"\"\nTraceback (most recent call last):\n  File \"/usr/lib/python3.7/multiprocessing/pool.py\", line 121, in worker\n    result = (True, func(*args, **kwds))\n  File \"/usr/lib/python3.7/multiprocessing/pool.py\", line 44, in mapstar\n    return list(map(*args))\n  File \"/usr/local/lib/python3.7/dist-packages/pandas_profiling/describe.py\", line 282, in multiprocess_func\n    return x[0], describe_1d(x[1], **kwargs)\n  File \"/usr/local/lib/python3.7/dist-packages/pandas_profiling/describe.py\", line 274, in describe_1d\n    result = result.append(describe_unique_1d(data, **kwargs))\nTypeError: describe_unique_1d() got an unexpected keyword argument 'title'\n\"\"\"",
            "\nThe above exception was the direct cause of the following exception:\n",
            "\u001b[0;31mTypeError\u001b[0m                                 Traceback (most recent call last)",
            "\u001b[0;32m<ipython-input-6-83cc0385bca7>\u001b[0m in \u001b[0;36m<module>\u001b[0;34m()\u001b[0m\n\u001b[0;32m----> 1\u001b[0;31m \u001b[0mprofile\u001b[0m \u001b[0;34m=\u001b[0m \u001b[0mProfileReport\u001b[0m\u001b[0;34m(\u001b[0m\u001b[0mdf\u001b[0m\u001b[0;34m,\u001b[0m \u001b[0mtitle\u001b[0m\u001b[0;34m=\u001b[0m\u001b[0;34m\"Pandas Profilling Report\"\u001b[0m\u001b[0;34m)\u001b[0m\u001b[0;34m\u001b[0m\u001b[0;34m\u001b[0m\u001b[0m\n\u001b[0m",
            "\u001b[0;32m/usr/local/lib/python3.7/dist-packages/pandas_profiling/__init__.py\u001b[0m in \u001b[0;36m__init__\u001b[0;34m(self, df, **kwargs)\u001b[0m\n\u001b[1;32m     64\u001b[0m         \u001b[0msample\u001b[0m \u001b[0;34m=\u001b[0m \u001b[0mkwargs\u001b[0m\u001b[0;34m.\u001b[0m\u001b[0mget\u001b[0m\u001b[0;34m(\u001b[0m\u001b[0;34m'sample'\u001b[0m\u001b[0;34m,\u001b[0m \u001b[0mdf\u001b[0m\u001b[0;34m.\u001b[0m\u001b[0mhead\u001b[0m\u001b[0;34m(\u001b[0m\u001b[0;34m)\u001b[0m\u001b[0;34m)\u001b[0m\u001b[0;34m\u001b[0m\u001b[0;34m\u001b[0m\u001b[0m\n\u001b[1;32m     65\u001b[0m \u001b[0;34m\u001b[0m\u001b[0m\n\u001b[0;32m---> 66\u001b[0;31m         \u001b[0mdescription_set\u001b[0m \u001b[0;34m=\u001b[0m \u001b[0mdescribe\u001b[0m\u001b[0;34m(\u001b[0m\u001b[0mdf\u001b[0m\u001b[0;34m,\u001b[0m \u001b[0;34m**\u001b[0m\u001b[0mkwargs\u001b[0m\u001b[0;34m)\u001b[0m\u001b[0;34m\u001b[0m\u001b[0;34m\u001b[0m\u001b[0m\n\u001b[0m\u001b[1;32m     67\u001b[0m \u001b[0;34m\u001b[0m\u001b[0m\n\u001b[1;32m     68\u001b[0m         self.html = to_html(sample,\n",
            "\u001b[0;32m/usr/local/lib/python3.7/dist-packages/pandas_profiling/describe.py\u001b[0m in \u001b[0;36mdescribe\u001b[0;34m(df, bins, check_correlation, correlation_threshold, correlation_overrides, check_recoded, pool_size, **kwargs)\u001b[0m\n\u001b[1;32m    349\u001b[0m     \u001b[0mpool\u001b[0m \u001b[0;34m=\u001b[0m \u001b[0mmultiprocessing\u001b[0m\u001b[0;34m.\u001b[0m\u001b[0mPool\u001b[0m\u001b[0;34m(\u001b[0m\u001b[0mpool_size\u001b[0m\u001b[0;34m)\u001b[0m\u001b[0;34m\u001b[0m\u001b[0;34m\u001b[0m\u001b[0m\n\u001b[1;32m    350\u001b[0m     \u001b[0mlocal_multiprocess_func\u001b[0m \u001b[0;34m=\u001b[0m \u001b[0mpartial\u001b[0m\u001b[0;34m(\u001b[0m\u001b[0mmultiprocess_func\u001b[0m\u001b[0;34m,\u001b[0m \u001b[0;34m**\u001b[0m\u001b[0mkwargs\u001b[0m\u001b[0;34m)\u001b[0m\u001b[0;34m\u001b[0m\u001b[0;34m\u001b[0m\u001b[0m\n\u001b[0;32m--> 351\u001b[0;31m     \u001b[0mldesc\u001b[0m \u001b[0;34m=\u001b[0m \u001b[0;34m{\u001b[0m\u001b[0mcol\u001b[0m\u001b[0;34m:\u001b[0m \u001b[0ms\u001b[0m \u001b[0;32mfor\u001b[0m \u001b[0mcol\u001b[0m\u001b[0;34m,\u001b[0m \u001b[0ms\u001b[0m \u001b[0;32min\u001b[0m \u001b[0mpool\u001b[0m\u001b[0;34m.\u001b[0m\u001b[0mmap\u001b[0m\u001b[0;34m(\u001b[0m\u001b[0mlocal_multiprocess_func\u001b[0m\u001b[0;34m,\u001b[0m \u001b[0mdf\u001b[0m\u001b[0;34m.\u001b[0m\u001b[0miteritems\u001b[0m\u001b[0;34m(\u001b[0m\u001b[0;34m)\u001b[0m\u001b[0;34m)\u001b[0m\u001b[0;34m}\u001b[0m\u001b[0;34m\u001b[0m\u001b[0;34m\u001b[0m\u001b[0m\n\u001b[0m\u001b[1;32m    352\u001b[0m     \u001b[0mpool\u001b[0m\u001b[0;34m.\u001b[0m\u001b[0mclose\u001b[0m\u001b[0;34m(\u001b[0m\u001b[0;34m)\u001b[0m\u001b[0;34m\u001b[0m\u001b[0;34m\u001b[0m\u001b[0m\n\u001b[1;32m    353\u001b[0m \u001b[0;34m\u001b[0m\u001b[0m\n",
            "\u001b[0;32m/usr/lib/python3.7/multiprocessing/pool.py\u001b[0m in \u001b[0;36mmap\u001b[0;34m(self, func, iterable, chunksize)\u001b[0m\n\u001b[1;32m    266\u001b[0m         \u001b[0;32min\u001b[0m \u001b[0ma\u001b[0m \u001b[0mlist\u001b[0m \u001b[0mthat\u001b[0m \u001b[0;32mis\u001b[0m \u001b[0mreturned\u001b[0m\u001b[0;34m.\u001b[0m\u001b[0;34m\u001b[0m\u001b[0;34m\u001b[0m\u001b[0m\n\u001b[1;32m    267\u001b[0m         '''\n\u001b[0;32m--> 268\u001b[0;31m         \u001b[0;32mreturn\u001b[0m \u001b[0mself\u001b[0m\u001b[0;34m.\u001b[0m\u001b[0m_map_async\u001b[0m\u001b[0;34m(\u001b[0m\u001b[0mfunc\u001b[0m\u001b[0;34m,\u001b[0m \u001b[0miterable\u001b[0m\u001b[0;34m,\u001b[0m \u001b[0mmapstar\u001b[0m\u001b[0;34m,\u001b[0m \u001b[0mchunksize\u001b[0m\u001b[0;34m)\u001b[0m\u001b[0;34m.\u001b[0m\u001b[0mget\u001b[0m\u001b[0;34m(\u001b[0m\u001b[0;34m)\u001b[0m\u001b[0;34m\u001b[0m\u001b[0;34m\u001b[0m\u001b[0m\n\u001b[0m\u001b[1;32m    269\u001b[0m \u001b[0;34m\u001b[0m\u001b[0m\n\u001b[1;32m    270\u001b[0m     \u001b[0;32mdef\u001b[0m \u001b[0mstarmap\u001b[0m\u001b[0;34m(\u001b[0m\u001b[0mself\u001b[0m\u001b[0;34m,\u001b[0m \u001b[0mfunc\u001b[0m\u001b[0;34m,\u001b[0m \u001b[0miterable\u001b[0m\u001b[0;34m,\u001b[0m \u001b[0mchunksize\u001b[0m\u001b[0;34m=\u001b[0m\u001b[0;32mNone\u001b[0m\u001b[0;34m)\u001b[0m\u001b[0;34m:\u001b[0m\u001b[0;34m\u001b[0m\u001b[0;34m\u001b[0m\u001b[0m\n",
            "\u001b[0;32m/usr/lib/python3.7/multiprocessing/pool.py\u001b[0m in \u001b[0;36mget\u001b[0;34m(self, timeout)\u001b[0m\n\u001b[1;32m    655\u001b[0m             \u001b[0;32mreturn\u001b[0m \u001b[0mself\u001b[0m\u001b[0;34m.\u001b[0m\u001b[0m_value\u001b[0m\u001b[0;34m\u001b[0m\u001b[0;34m\u001b[0m\u001b[0m\n\u001b[1;32m    656\u001b[0m         \u001b[0;32melse\u001b[0m\u001b[0;34m:\u001b[0m\u001b[0;34m\u001b[0m\u001b[0;34m\u001b[0m\u001b[0m\n\u001b[0;32m--> 657\u001b[0;31m             \u001b[0;32mraise\u001b[0m \u001b[0mself\u001b[0m\u001b[0;34m.\u001b[0m\u001b[0m_value\u001b[0m\u001b[0;34m\u001b[0m\u001b[0;34m\u001b[0m\u001b[0m\n\u001b[0m\u001b[1;32m    658\u001b[0m \u001b[0;34m\u001b[0m\u001b[0m\n\u001b[1;32m    659\u001b[0m     \u001b[0;32mdef\u001b[0m \u001b[0m_set\u001b[0m\u001b[0;34m(\u001b[0m\u001b[0mself\u001b[0m\u001b[0;34m,\u001b[0m \u001b[0mi\u001b[0m\u001b[0;34m,\u001b[0m \u001b[0mobj\u001b[0m\u001b[0;34m)\u001b[0m\u001b[0;34m:\u001b[0m\u001b[0;34m\u001b[0m\u001b[0;34m\u001b[0m\u001b[0m\n",
            "\u001b[0;31mTypeError\u001b[0m: describe_unique_1d() got an unexpected keyword argument 'title'"
          ]
        }
      ]
    },
    {
      "cell_type": "code",
      "execution_count": null,
      "metadata": {
        "colab": {
          "base_uri": "https://localhost:8080/"
        },
        "id": "lo1GUrUKl-_V",
        "outputId": "2b47f26b-44ce-4235-add5-f67a0cbf88bb"
      },
      "outputs": [
        {
          "output_type": "execute_result",
          "data": {
            "text/plain": [
              "Index(['web-scraper-order', 'web-scraper-start-url', 'coins', 'coins-href',\n",
              "       'name', 'currPrice', 'makcap', '24hrsVol', 'ATH', 'ATL', 'TotalSupply',\n",
              "       'CircuSupply', 'maxSupply', '24hrs', '7days', '30days'],\n",
              "      dtype='object')"
            ]
          },
          "metadata": {},
          "execution_count": 4
        }
      ],
      "source": [
        "df.columns"
      ]
    },
    {
      "cell_type": "code",
      "execution_count": null,
      "metadata": {
        "colab": {
          "base_uri": "https://localhost:8080/"
        },
        "id": "LUehP9U3mPo5",
        "outputId": "03066405-0a2a-4b95-f883-86288fe550b1"
      },
      "outputs": [
        {
          "output_type": "execute_result",
          "data": {
            "text/plain": [
              "(100, 16)"
            ]
          },
          "metadata": {},
          "execution_count": 5
        }
      ],
      "source": [
        "df.shape"
      ]
    },
    {
      "cell_type": "code",
      "execution_count": null,
      "metadata": {
        "colab": {
          "base_uri": "https://localhost:8080/"
        },
        "id": "xLQusxw9mVDG",
        "outputId": "3a166e27-698c-4dbd-d0de-b01d8fe07626"
      },
      "outputs": [
        {
          "output_type": "execute_result",
          "data": {
            "text/plain": [
              "web-scraper-order          0\n",
              "web-scraper-start-url      0\n",
              "coins                      0\n",
              "coins-href                 0\n",
              "name                       0\n",
              "currPrice                  0\n",
              "makcap                     0\n",
              "24hrsVol                 100\n",
              "ATH                        0\n",
              "ATL                        0\n",
              "TotalSupply                0\n",
              "CircuSupply                0\n",
              "maxSupply                 33\n",
              "24hrs                      0\n",
              "7days                      0\n",
              "30days                    42\n",
              "dtype: int64"
            ]
          },
          "metadata": {},
          "execution_count": 6
        }
      ],
      "source": [
        "df.isnull().sum()"
      ]
    },
    {
      "cell_type": "markdown",
      "metadata": {
        "id": "YS4ryz_Dnrhy"
      },
      "source": [
        "As we can see, I will be deleting some of the columns that will not contribute to the analysis.\n",
        "\n",
        "\n",
        "1.   I will remove the web-scraper-order,web-scraper-order-url, coins and coins-href columns.\n",
        "2.   Also, I will remove the 24hrs volume columns, as it cointains only null values.\n",
        "3. 30days changes isn't complete, it has 42 nulls, that columns will be removed too.\n",
        "4. Although, the MaxSupply column is not complete.Therefore, it will deleted because it is not needed for this analysis.\n",
        "\n"
      ]
    },
    {
      "cell_type": "code",
      "execution_count": null,
      "metadata": {
        "id": "1AlkAqpMtmQH"
      },
      "outputs": [],
      "source": [
        "df.drop(['web-scraper-order','web-scraper-start-url','coins','coins-href','24hrsVol','30days', 'maxSupply'], axis=1,inplace=True)"
      ]
    },
    {
      "cell_type": "code",
      "execution_count": null,
      "metadata": {
        "colab": {
          "base_uri": "https://localhost:8080/"
        },
        "id": "sTgqf9ldmYhZ",
        "outputId": "cec78058-0018-4502-c9d3-52afd7e4cfe7"
      },
      "outputs": [
        {
          "output_type": "execute_result",
          "data": {
            "text/plain": [
              "0"
            ]
          },
          "metadata": {},
          "execution_count": 8
        }
      ],
      "source": [
        "df.duplicated().sum()"
      ]
    },
    {
      "cell_type": "code",
      "execution_count": null,
      "metadata": {
        "colab": {
          "base_uri": "https://localhost:8080/",
          "height": 206
        },
        "id": "Yjga-k7iu51f",
        "outputId": "18ccdd6b-a0ae-4c86-89bd-9d18b335dcd6"
      },
      "outputs": [
        {
          "output_type": "execute_result",
          "data": {
            "text/html": [
              "\n",
              "  <div id=\"df-575af93a-52ac-491a-a9da-072bd7b948c3\">\n",
              "    <div class=\"colab-df-container\">\n",
              "      <div>\n",
              "<style scoped>\n",
              "    .dataframe tbody tr th:only-of-type {\n",
              "        vertical-align: middle;\n",
              "    }\n",
              "\n",
              "    .dataframe tbody tr th {\n",
              "        vertical-align: top;\n",
              "    }\n",
              "\n",
              "    .dataframe thead th {\n",
              "        text-align: right;\n",
              "    }\n",
              "</style>\n",
              "<table border=\"1\" class=\"dataframe\">\n",
              "  <thead>\n",
              "    <tr style=\"text-align: right;\">\n",
              "      <th></th>\n",
              "      <th>name</th>\n",
              "      <th>currPrice</th>\n",
              "      <th>makcap</th>\n",
              "      <th>ATH</th>\n",
              "      <th>ATL</th>\n",
              "      <th>TotalSupply</th>\n",
              "      <th>CircuSupply</th>\n",
              "      <th>24hrs</th>\n",
              "      <th>7days</th>\n",
              "    </tr>\n",
              "  </thead>\n",
              "  <tbody>\n",
              "    <tr>\n",
              "      <th>0</th>\n",
              "      <td>FTX Token (FTT)</td>\n",
              "      <td>$46.39</td>\n",
              "      <td>$6,392,788,401</td>\n",
              "      <td>$84.18</td>\n",
              "      <td>$1.15</td>\n",
              "      <td>333,688,070</td>\n",
              "      <td>137,818,734</td>\n",
              "      <td>11.3%</td>\n",
              "      <td>16.2%</td>\n",
              "    </tr>\n",
              "    <tr>\n",
              "      <th>1</th>\n",
              "      <td>cETH (CETH)</td>\n",
              "      <td>$58.64</td>\n",
              "      <td>$3,402,465,396</td>\n",
              "      <td>$97.75</td>\n",
              "      <td>$1.89</td>\n",
              "      <td>58,025,506</td>\n",
              "      <td>58,025,506</td>\n",
              "      <td>11.8%</td>\n",
              "      <td>13.7%</td>\n",
              "    </tr>\n",
              "    <tr>\n",
              "      <th>2</th>\n",
              "      <td>Internet Computer (ICP)</td>\n",
              "      <td>$19.98</td>\n",
              "      <td>$4,146,340,107</td>\n",
              "      <td>$700.65</td>\n",
              "      <td>$14.88</td>\n",
              "      <td>469,213,710</td>\n",
              "      <td>207,645,595</td>\n",
              "      <td>12.6%</td>\n",
              "      <td>12.5%</td>\n",
              "    </tr>\n",
              "    <tr>\n",
              "      <th>3</th>\n",
              "      <td>Uniswap (UNI)</td>\n",
              "      <td>$10.37</td>\n",
              "      <td>$4,735,409,685</td>\n",
              "      <td>$44.92</td>\n",
              "      <td>$1.03</td>\n",
              "      <td>1,000,000,000</td>\n",
              "      <td>456,489,583</td>\n",
              "      <td>8.2%</td>\n",
              "      <td>20.9%</td>\n",
              "    </tr>\n",
              "    <tr>\n",
              "      <th>4</th>\n",
              "      <td>Cronos (CRO)</td>\n",
              "      <td>$0.441677</td>\n",
              "      <td>$11,163,055,867</td>\n",
              "      <td>$0.965407</td>\n",
              "      <td>$0.01211960</td>\n",
              "      <td>30,263,013,692</td>\n",
              "      <td>25,263,013,692</td>\n",
              "      <td>11.3%</td>\n",
              "      <td>14.3%</td>\n",
              "    </tr>\n",
              "  </tbody>\n",
              "</table>\n",
              "</div>\n",
              "      <button class=\"colab-df-convert\" onclick=\"convertToInteractive('df-575af93a-52ac-491a-a9da-072bd7b948c3')\"\n",
              "              title=\"Convert this dataframe to an interactive table.\"\n",
              "              style=\"display:none;\">\n",
              "        \n",
              "  <svg xmlns=\"http://www.w3.org/2000/svg\" height=\"24px\"viewBox=\"0 0 24 24\"\n",
              "       width=\"24px\">\n",
              "    <path d=\"M0 0h24v24H0V0z\" fill=\"none\"/>\n",
              "    <path d=\"M18.56 5.44l.94 2.06.94-2.06 2.06-.94-2.06-.94-.94-2.06-.94 2.06-2.06.94zm-11 1L8.5 8.5l.94-2.06 2.06-.94-2.06-.94L8.5 2.5l-.94 2.06-2.06.94zm10 10l.94 2.06.94-2.06 2.06-.94-2.06-.94-.94-2.06-.94 2.06-2.06.94z\"/><path d=\"M17.41 7.96l-1.37-1.37c-.4-.4-.92-.59-1.43-.59-.52 0-1.04.2-1.43.59L10.3 9.45l-7.72 7.72c-.78.78-.78 2.05 0 2.83L4 21.41c.39.39.9.59 1.41.59.51 0 1.02-.2 1.41-.59l7.78-7.78 2.81-2.81c.8-.78.8-2.07 0-2.86zM5.41 20L4 18.59l7.72-7.72 1.47 1.35L5.41 20z\"/>\n",
              "  </svg>\n",
              "      </button>\n",
              "      \n",
              "  <style>\n",
              "    .colab-df-container {\n",
              "      display:flex;\n",
              "      flex-wrap:wrap;\n",
              "      gap: 12px;\n",
              "    }\n",
              "\n",
              "    .colab-df-convert {\n",
              "      background-color: #E8F0FE;\n",
              "      border: none;\n",
              "      border-radius: 50%;\n",
              "      cursor: pointer;\n",
              "      display: none;\n",
              "      fill: #1967D2;\n",
              "      height: 32px;\n",
              "      padding: 0 0 0 0;\n",
              "      width: 32px;\n",
              "    }\n",
              "\n",
              "    .colab-df-convert:hover {\n",
              "      background-color: #E2EBFA;\n",
              "      box-shadow: 0px 1px 2px rgba(60, 64, 67, 0.3), 0px 1px 3px 1px rgba(60, 64, 67, 0.15);\n",
              "      fill: #174EA6;\n",
              "    }\n",
              "\n",
              "    [theme=dark] .colab-df-convert {\n",
              "      background-color: #3B4455;\n",
              "      fill: #D2E3FC;\n",
              "    }\n",
              "\n",
              "    [theme=dark] .colab-df-convert:hover {\n",
              "      background-color: #434B5C;\n",
              "      box-shadow: 0px 1px 3px 1px rgba(0, 0, 0, 0.15);\n",
              "      filter: drop-shadow(0px 1px 2px rgba(0, 0, 0, 0.3));\n",
              "      fill: #FFFFFF;\n",
              "    }\n",
              "  </style>\n",
              "\n",
              "      <script>\n",
              "        const buttonEl =\n",
              "          document.querySelector('#df-575af93a-52ac-491a-a9da-072bd7b948c3 button.colab-df-convert');\n",
              "        buttonEl.style.display =\n",
              "          google.colab.kernel.accessAllowed ? 'block' : 'none';\n",
              "\n",
              "        async function convertToInteractive(key) {\n",
              "          const element = document.querySelector('#df-575af93a-52ac-491a-a9da-072bd7b948c3');\n",
              "          const dataTable =\n",
              "            await google.colab.kernel.invokeFunction('convertToInteractive',\n",
              "                                                     [key], {});\n",
              "          if (!dataTable) return;\n",
              "\n",
              "          const docLinkHtml = 'Like what you see? Visit the ' +\n",
              "            '<a target=\"_blank\" href=https://colab.research.google.com/notebooks/data_table.ipynb>data table notebook</a>'\n",
              "            + ' to learn more about interactive tables.';\n",
              "          element.innerHTML = '';\n",
              "          dataTable['output_type'] = 'display_data';\n",
              "          await google.colab.output.renderOutput(dataTable, element);\n",
              "          const docLink = document.createElement('div');\n",
              "          docLink.innerHTML = docLinkHtml;\n",
              "          element.appendChild(docLink);\n",
              "        }\n",
              "      </script>\n",
              "    </div>\n",
              "  </div>\n",
              "  "
            ],
            "text/plain": [
              "                      name  currPrice           makcap        ATH  \\\n",
              "0          FTX Token (FTT)     $46.39   $6,392,788,401     $84.18   \n",
              "1              cETH (CETH)     $58.64   $3,402,465,396     $97.75   \n",
              "2  Internet Computer (ICP)     $19.98   $4,146,340,107    $700.65   \n",
              "3            Uniswap (UNI)     $10.37   $4,735,409,685     $44.92   \n",
              "4             Cronos (CRO)  $0.441677  $11,163,055,867  $0.965407   \n",
              "\n",
              "           ATL     TotalSupply     CircuSupply  24hrs  7days  \n",
              "0        $1.15     333,688,070     137,818,734  11.3%  16.2%  \n",
              "1        $1.89      58,025,506      58,025,506  11.8%  13.7%  \n",
              "2       $14.88     469,213,710     207,645,595  12.6%  12.5%  \n",
              "3        $1.03   1,000,000,000     456,489,583   8.2%  20.9%  \n",
              "4  $0.01211960  30,263,013,692  25,263,013,692  11.3%  14.3%  "
            ]
          },
          "metadata": {},
          "execution_count": 9
        }
      ],
      "source": [
        "df.head()"
      ]
    },
    {
      "cell_type": "code",
      "source": [
        "df.dtypes"
      ],
      "metadata": {
        "colab": {
          "base_uri": "https://localhost:8080/"
        },
        "id": "Fl1qxK70Yl1R",
        "outputId": "5bb5009d-6130-42a9-a427-fad7ada7b3f4"
      },
      "execution_count": null,
      "outputs": [
        {
          "output_type": "execute_result",
          "data": {
            "text/plain": [
              "name           object\n",
              "currPrice      object\n",
              "makcap         object\n",
              "ATH            object\n",
              "ATL            object\n",
              "TotalSupply    object\n",
              "CircuSupply    object\n",
              "24hrs          object\n",
              "7days          object\n",
              "dtype: object"
            ]
          },
          "metadata": {},
          "execution_count": 10
        }
      ]
    },
    {
      "cell_type": "code",
      "execution_count": null,
      "metadata": {
        "id": "G0-wNsPCgtBv"
      },
      "outputs": [],
      "source": [
        "# split column and add new columns to df\n",
        "df[['name', 'symbol']] = df['name'].str.split('(', expand=True)\n",
        "# display the dataframe"
      ]
    },
    {
      "cell_type": "code",
      "execution_count": null,
      "metadata": {
        "colab": {
          "base_uri": "https://localhost:8080/",
          "height": 305
        },
        "id": "mGnb1mJWZQEf",
        "outputId": "2c6937d6-e4aa-46a7-9d50-6ec96d2195b6"
      },
      "outputs": [
        {
          "output_type": "execute_result",
          "data": {
            "text/html": [
              "\n",
              "  <div id=\"df-8e65e711-91b8-43ba-b8d2-7f7cc4c95714\">\n",
              "    <div class=\"colab-df-container\">\n",
              "      <div>\n",
              "<style scoped>\n",
              "    .dataframe tbody tr th:only-of-type {\n",
              "        vertical-align: middle;\n",
              "    }\n",
              "\n",
              "    .dataframe tbody tr th {\n",
              "        vertical-align: top;\n",
              "    }\n",
              "\n",
              "    .dataframe thead th {\n",
              "        text-align: right;\n",
              "    }\n",
              "</style>\n",
              "<table border=\"1\" class=\"dataframe\">\n",
              "  <thead>\n",
              "    <tr style=\"text-align: right;\">\n",
              "      <th></th>\n",
              "      <th>name</th>\n",
              "      <th>currPrice</th>\n",
              "      <th>makcap</th>\n",
              "      <th>ATH</th>\n",
              "      <th>ATL</th>\n",
              "      <th>TotalSupply</th>\n",
              "      <th>CircuSupply</th>\n",
              "      <th>24hrs</th>\n",
              "      <th>7days</th>\n",
              "      <th>symbol</th>\n",
              "      <th>MarketCapt</th>\n",
              "      <th>CurrentPrice</th>\n",
              "      <th>all_timeHigh</th>\n",
              "      <th>all_timeLow</th>\n",
              "      <th>24hrsPercentChange</th>\n",
              "      <th>7daysPercentChange</th>\n",
              "    </tr>\n",
              "  </thead>\n",
              "  <tbody>\n",
              "    <tr>\n",
              "      <th>0</th>\n",
              "      <td>FTX Token</td>\n",
              "      <td>$46.39</td>\n",
              "      <td>$6,392,788,401</td>\n",
              "      <td>$84.18</td>\n",
              "      <td>$1.15</td>\n",
              "      <td>333,688,070</td>\n",
              "      <td>137,818,734</td>\n",
              "      <td>11.3%</td>\n",
              "      <td>16.2%</td>\n",
              "      <td>FTT)</td>\n",
              "      <td>6.392788e+09</td>\n",
              "      <td>46.390000</td>\n",
              "      <td>84.180000</td>\n",
              "      <td>1.15000</td>\n",
              "      <td>11.3</td>\n",
              "      <td>16.2</td>\n",
              "    </tr>\n",
              "    <tr>\n",
              "      <th>1</th>\n",
              "      <td>cETH</td>\n",
              "      <td>$58.64</td>\n",
              "      <td>$3,402,465,396</td>\n",
              "      <td>$97.75</td>\n",
              "      <td>$1.89</td>\n",
              "      <td>58,025,506</td>\n",
              "      <td>58,025,506</td>\n",
              "      <td>11.8%</td>\n",
              "      <td>13.7%</td>\n",
              "      <td>CETH)</td>\n",
              "      <td>3.402465e+09</td>\n",
              "      <td>58.640000</td>\n",
              "      <td>97.750000</td>\n",
              "      <td>1.89000</td>\n",
              "      <td>11.8</td>\n",
              "      <td>13.7</td>\n",
              "    </tr>\n",
              "    <tr>\n",
              "      <th>2</th>\n",
              "      <td>Internet Computer</td>\n",
              "      <td>$19.98</td>\n",
              "      <td>$4,146,340,107</td>\n",
              "      <td>$700.65</td>\n",
              "      <td>$14.88</td>\n",
              "      <td>469,213,710</td>\n",
              "      <td>207,645,595</td>\n",
              "      <td>12.6%</td>\n",
              "      <td>12.5%</td>\n",
              "      <td>ICP)</td>\n",
              "      <td>4.146340e+09</td>\n",
              "      <td>19.980000</td>\n",
              "      <td>700.650000</td>\n",
              "      <td>14.88000</td>\n",
              "      <td>12.6</td>\n",
              "      <td>12.5</td>\n",
              "    </tr>\n",
              "    <tr>\n",
              "      <th>3</th>\n",
              "      <td>Uniswap</td>\n",
              "      <td>$10.37</td>\n",
              "      <td>$4,735,409,685</td>\n",
              "      <td>$44.92</td>\n",
              "      <td>$1.03</td>\n",
              "      <td>1,000,000,000</td>\n",
              "      <td>456,489,583</td>\n",
              "      <td>8.2%</td>\n",
              "      <td>20.9%</td>\n",
              "      <td>UNI)</td>\n",
              "      <td>4.735410e+09</td>\n",
              "      <td>10.370000</td>\n",
              "      <td>44.920000</td>\n",
              "      <td>1.03000</td>\n",
              "      <td>8.2</td>\n",
              "      <td>20.9</td>\n",
              "    </tr>\n",
              "    <tr>\n",
              "      <th>4</th>\n",
              "      <td>Cronos</td>\n",
              "      <td>$0.441677</td>\n",
              "      <td>$11,163,055,867</td>\n",
              "      <td>$0.965407</td>\n",
              "      <td>$0.01211960</td>\n",
              "      <td>30,263,013,692</td>\n",
              "      <td>25,263,013,692</td>\n",
              "      <td>11.3%</td>\n",
              "      <td>14.3%</td>\n",
              "      <td>CRO)</td>\n",
              "      <td>1.116306e+10</td>\n",
              "      <td>0.441677</td>\n",
              "      <td>0.965407</td>\n",
              "      <td>0.01212</td>\n",
              "      <td>11.3</td>\n",
              "      <td>14.3</td>\n",
              "    </tr>\n",
              "  </tbody>\n",
              "</table>\n",
              "</div>\n",
              "      <button class=\"colab-df-convert\" onclick=\"convertToInteractive('df-8e65e711-91b8-43ba-b8d2-7f7cc4c95714')\"\n",
              "              title=\"Convert this dataframe to an interactive table.\"\n",
              "              style=\"display:none;\">\n",
              "        \n",
              "  <svg xmlns=\"http://www.w3.org/2000/svg\" height=\"24px\"viewBox=\"0 0 24 24\"\n",
              "       width=\"24px\">\n",
              "    <path d=\"M0 0h24v24H0V0z\" fill=\"none\"/>\n",
              "    <path d=\"M18.56 5.44l.94 2.06.94-2.06 2.06-.94-2.06-.94-.94-2.06-.94 2.06-2.06.94zm-11 1L8.5 8.5l.94-2.06 2.06-.94-2.06-.94L8.5 2.5l-.94 2.06-2.06.94zm10 10l.94 2.06.94-2.06 2.06-.94-2.06-.94-.94-2.06-.94 2.06-2.06.94z\"/><path d=\"M17.41 7.96l-1.37-1.37c-.4-.4-.92-.59-1.43-.59-.52 0-1.04.2-1.43.59L10.3 9.45l-7.72 7.72c-.78.78-.78 2.05 0 2.83L4 21.41c.39.39.9.59 1.41.59.51 0 1.02-.2 1.41-.59l7.78-7.78 2.81-2.81c.8-.78.8-2.07 0-2.86zM5.41 20L4 18.59l7.72-7.72 1.47 1.35L5.41 20z\"/>\n",
              "  </svg>\n",
              "      </button>\n",
              "      \n",
              "  <style>\n",
              "    .colab-df-container {\n",
              "      display:flex;\n",
              "      flex-wrap:wrap;\n",
              "      gap: 12px;\n",
              "    }\n",
              "\n",
              "    .colab-df-convert {\n",
              "      background-color: #E8F0FE;\n",
              "      border: none;\n",
              "      border-radius: 50%;\n",
              "      cursor: pointer;\n",
              "      display: none;\n",
              "      fill: #1967D2;\n",
              "      height: 32px;\n",
              "      padding: 0 0 0 0;\n",
              "      width: 32px;\n",
              "    }\n",
              "\n",
              "    .colab-df-convert:hover {\n",
              "      background-color: #E2EBFA;\n",
              "      box-shadow: 0px 1px 2px rgba(60, 64, 67, 0.3), 0px 1px 3px 1px rgba(60, 64, 67, 0.15);\n",
              "      fill: #174EA6;\n",
              "    }\n",
              "\n",
              "    [theme=dark] .colab-df-convert {\n",
              "      background-color: #3B4455;\n",
              "      fill: #D2E3FC;\n",
              "    }\n",
              "\n",
              "    [theme=dark] .colab-df-convert:hover {\n",
              "      background-color: #434B5C;\n",
              "      box-shadow: 0px 1px 3px 1px rgba(0, 0, 0, 0.15);\n",
              "      filter: drop-shadow(0px 1px 2px rgba(0, 0, 0, 0.3));\n",
              "      fill: #FFFFFF;\n",
              "    }\n",
              "  </style>\n",
              "\n",
              "      <script>\n",
              "        const buttonEl =\n",
              "          document.querySelector('#df-8e65e711-91b8-43ba-b8d2-7f7cc4c95714 button.colab-df-convert');\n",
              "        buttonEl.style.display =\n",
              "          google.colab.kernel.accessAllowed ? 'block' : 'none';\n",
              "\n",
              "        async function convertToInteractive(key) {\n",
              "          const element = document.querySelector('#df-8e65e711-91b8-43ba-b8d2-7f7cc4c95714');\n",
              "          const dataTable =\n",
              "            await google.colab.kernel.invokeFunction('convertToInteractive',\n",
              "                                                     [key], {});\n",
              "          if (!dataTable) return;\n",
              "\n",
              "          const docLinkHtml = 'Like what you see? Visit the ' +\n",
              "            '<a target=\"_blank\" href=https://colab.research.google.com/notebooks/data_table.ipynb>data table notebook</a>'\n",
              "            + ' to learn more about interactive tables.';\n",
              "          element.innerHTML = '';\n",
              "          dataTable['output_type'] = 'display_data';\n",
              "          await google.colab.output.renderOutput(dataTable, element);\n",
              "          const docLink = document.createElement('div');\n",
              "          docLink.innerHTML = docLinkHtml;\n",
              "          element.appendChild(docLink);\n",
              "        }\n",
              "      </script>\n",
              "    </div>\n",
              "  </div>\n",
              "  "
            ],
            "text/plain": [
              "                 name  currPrice           makcap        ATH          ATL  \\\n",
              "0          FTX Token      $46.39   $6,392,788,401     $84.18        $1.15   \n",
              "1               cETH      $58.64   $3,402,465,396     $97.75        $1.89   \n",
              "2  Internet Computer      $19.98   $4,146,340,107    $700.65       $14.88   \n",
              "3            Uniswap      $10.37   $4,735,409,685     $44.92        $1.03   \n",
              "4             Cronos   $0.441677  $11,163,055,867  $0.965407  $0.01211960   \n",
              "\n",
              "      TotalSupply     CircuSupply  24hrs  7days symbol    MarketCapt  \\\n",
              "0     333,688,070     137,818,734  11.3%  16.2%   FTT)  6.392788e+09   \n",
              "1      58,025,506      58,025,506  11.8%  13.7%  CETH)  3.402465e+09   \n",
              "2     469,213,710     207,645,595  12.6%  12.5%   ICP)  4.146340e+09   \n",
              "3   1,000,000,000     456,489,583   8.2%  20.9%   UNI)  4.735410e+09   \n",
              "4  30,263,013,692  25,263,013,692  11.3%  14.3%   CRO)  1.116306e+10   \n",
              "\n",
              "   CurrentPrice  all_timeHigh  all_timeLow  24hrsPercentChange  \\\n",
              "0     46.390000     84.180000      1.15000                11.3   \n",
              "1     58.640000     97.750000      1.89000                11.8   \n",
              "2     19.980000    700.650000     14.88000                12.6   \n",
              "3     10.370000     44.920000      1.03000                 8.2   \n",
              "4      0.441677      0.965407      0.01212                11.3   \n",
              "\n",
              "   7daysPercentChange  \n",
              "0                16.2  \n",
              "1                13.7  \n",
              "2                12.5  \n",
              "3                20.9  \n",
              "4                14.3  "
            ]
          },
          "metadata": {},
          "execution_count": 12
        }
      ],
      "source": [
        "#Here, I will be adding additional columns, which will be in the float data type as opppose to object data type, also remooving all the signs($,%,and ,)\n",
        "df['MarketCapt']= df['makcap'].replace('[^\\d.]','',regex=True).astype(float)\n",
        "df['CurrentPrice']= df['currPrice'].replace('[^\\d.]','',regex=True).astype(float)\n",
        "df['all_timeHigh']= df['ATH'].replace('[^\\d.]','',regex=True).astype(float)\n",
        "df['all_timeLow']= df['ATL'].replace('[^\\d.]','',regex=True).astype(float)\n",
        "df['24hrsPercentChange']= df['24hrs'].replace('[^\\d.]','',regex=True).astype(float)\n",
        "df['7daysPercentChange']= df['7days'].replace('[^\\d.]','',regex=True).astype(float)\n",
        "df.head()\n"
      ]
    },
    {
      "cell_type": "code",
      "execution_count": null,
      "metadata": {
        "colab": {
          "base_uri": "https://localhost:8080/",
          "height": 206
        },
        "id": "FJUTJx9zZQSA",
        "outputId": "765250f8-5335-4179-ccac-1a3f947f977a"
      },
      "outputs": [
        {
          "output_type": "execute_result",
          "data": {
            "text/html": [
              "\n",
              "  <div id=\"df-fc1b2c2b-c72f-4cfb-9e1d-abe1d44ad62f\">\n",
              "    <div class=\"colab-df-container\">\n",
              "      <div>\n",
              "<style scoped>\n",
              "    .dataframe tbody tr th:only-of-type {\n",
              "        vertical-align: middle;\n",
              "    }\n",
              "\n",
              "    .dataframe tbody tr th {\n",
              "        vertical-align: top;\n",
              "    }\n",
              "\n",
              "    .dataframe thead th {\n",
              "        text-align: right;\n",
              "    }\n",
              "</style>\n",
              "<table border=\"1\" class=\"dataframe\">\n",
              "  <thead>\n",
              "    <tr style=\"text-align: right;\">\n",
              "      <th></th>\n",
              "      <th>name</th>\n",
              "      <th>symbol</th>\n",
              "      <th>MarketCapt</th>\n",
              "      <th>CurrentPrice</th>\n",
              "      <th>all_timeHigh</th>\n",
              "      <th>all_timeLow</th>\n",
              "      <th>24hrsPercentChange</th>\n",
              "      <th>7daysPercentChange</th>\n",
              "    </tr>\n",
              "  </thead>\n",
              "  <tbody>\n",
              "    <tr>\n",
              "      <th>0</th>\n",
              "      <td>FTX Token</td>\n",
              "      <td>FTT)</td>\n",
              "      <td>6.392788e+09</td>\n",
              "      <td>46.390000</td>\n",
              "      <td>84.180000</td>\n",
              "      <td>1.15000</td>\n",
              "      <td>11.3</td>\n",
              "      <td>16.2</td>\n",
              "    </tr>\n",
              "    <tr>\n",
              "      <th>1</th>\n",
              "      <td>cETH</td>\n",
              "      <td>CETH)</td>\n",
              "      <td>3.402465e+09</td>\n",
              "      <td>58.640000</td>\n",
              "      <td>97.750000</td>\n",
              "      <td>1.89000</td>\n",
              "      <td>11.8</td>\n",
              "      <td>13.7</td>\n",
              "    </tr>\n",
              "    <tr>\n",
              "      <th>2</th>\n",
              "      <td>Internet Computer</td>\n",
              "      <td>ICP)</td>\n",
              "      <td>4.146340e+09</td>\n",
              "      <td>19.980000</td>\n",
              "      <td>700.650000</td>\n",
              "      <td>14.88000</td>\n",
              "      <td>12.6</td>\n",
              "      <td>12.5</td>\n",
              "    </tr>\n",
              "    <tr>\n",
              "      <th>3</th>\n",
              "      <td>Uniswap</td>\n",
              "      <td>UNI)</td>\n",
              "      <td>4.735410e+09</td>\n",
              "      <td>10.370000</td>\n",
              "      <td>44.920000</td>\n",
              "      <td>1.03000</td>\n",
              "      <td>8.2</td>\n",
              "      <td>20.9</td>\n",
              "    </tr>\n",
              "    <tr>\n",
              "      <th>4</th>\n",
              "      <td>Cronos</td>\n",
              "      <td>CRO)</td>\n",
              "      <td>1.116306e+10</td>\n",
              "      <td>0.441677</td>\n",
              "      <td>0.965407</td>\n",
              "      <td>0.01212</td>\n",
              "      <td>11.3</td>\n",
              "      <td>14.3</td>\n",
              "    </tr>\n",
              "  </tbody>\n",
              "</table>\n",
              "</div>\n",
              "      <button class=\"colab-df-convert\" onclick=\"convertToInteractive('df-fc1b2c2b-c72f-4cfb-9e1d-abe1d44ad62f')\"\n",
              "              title=\"Convert this dataframe to an interactive table.\"\n",
              "              style=\"display:none;\">\n",
              "        \n",
              "  <svg xmlns=\"http://www.w3.org/2000/svg\" height=\"24px\"viewBox=\"0 0 24 24\"\n",
              "       width=\"24px\">\n",
              "    <path d=\"M0 0h24v24H0V0z\" fill=\"none\"/>\n",
              "    <path d=\"M18.56 5.44l.94 2.06.94-2.06 2.06-.94-2.06-.94-.94-2.06-.94 2.06-2.06.94zm-11 1L8.5 8.5l.94-2.06 2.06-.94-2.06-.94L8.5 2.5l-.94 2.06-2.06.94zm10 10l.94 2.06.94-2.06 2.06-.94-2.06-.94-.94-2.06-.94 2.06-2.06.94z\"/><path d=\"M17.41 7.96l-1.37-1.37c-.4-.4-.92-.59-1.43-.59-.52 0-1.04.2-1.43.59L10.3 9.45l-7.72 7.72c-.78.78-.78 2.05 0 2.83L4 21.41c.39.39.9.59 1.41.59.51 0 1.02-.2 1.41-.59l7.78-7.78 2.81-2.81c.8-.78.8-2.07 0-2.86zM5.41 20L4 18.59l7.72-7.72 1.47 1.35L5.41 20z\"/>\n",
              "  </svg>\n",
              "      </button>\n",
              "      \n",
              "  <style>\n",
              "    .colab-df-container {\n",
              "      display:flex;\n",
              "      flex-wrap:wrap;\n",
              "      gap: 12px;\n",
              "    }\n",
              "\n",
              "    .colab-df-convert {\n",
              "      background-color: #E8F0FE;\n",
              "      border: none;\n",
              "      border-radius: 50%;\n",
              "      cursor: pointer;\n",
              "      display: none;\n",
              "      fill: #1967D2;\n",
              "      height: 32px;\n",
              "      padding: 0 0 0 0;\n",
              "      width: 32px;\n",
              "    }\n",
              "\n",
              "    .colab-df-convert:hover {\n",
              "      background-color: #E2EBFA;\n",
              "      box-shadow: 0px 1px 2px rgba(60, 64, 67, 0.3), 0px 1px 3px 1px rgba(60, 64, 67, 0.15);\n",
              "      fill: #174EA6;\n",
              "    }\n",
              "\n",
              "    [theme=dark] .colab-df-convert {\n",
              "      background-color: #3B4455;\n",
              "      fill: #D2E3FC;\n",
              "    }\n",
              "\n",
              "    [theme=dark] .colab-df-convert:hover {\n",
              "      background-color: #434B5C;\n",
              "      box-shadow: 0px 1px 3px 1px rgba(0, 0, 0, 0.15);\n",
              "      filter: drop-shadow(0px 1px 2px rgba(0, 0, 0, 0.3));\n",
              "      fill: #FFFFFF;\n",
              "    }\n",
              "  </style>\n",
              "\n",
              "      <script>\n",
              "        const buttonEl =\n",
              "          document.querySelector('#df-fc1b2c2b-c72f-4cfb-9e1d-abe1d44ad62f button.colab-df-convert');\n",
              "        buttonEl.style.display =\n",
              "          google.colab.kernel.accessAllowed ? 'block' : 'none';\n",
              "\n",
              "        async function convertToInteractive(key) {\n",
              "          const element = document.querySelector('#df-fc1b2c2b-c72f-4cfb-9e1d-abe1d44ad62f');\n",
              "          const dataTable =\n",
              "            await google.colab.kernel.invokeFunction('convertToInteractive',\n",
              "                                                     [key], {});\n",
              "          if (!dataTable) return;\n",
              "\n",
              "          const docLinkHtml = 'Like what you see? Visit the ' +\n",
              "            '<a target=\"_blank\" href=https://colab.research.google.com/notebooks/data_table.ipynb>data table notebook</a>'\n",
              "            + ' to learn more about interactive tables.';\n",
              "          element.innerHTML = '';\n",
              "          dataTable['output_type'] = 'display_data';\n",
              "          await google.colab.output.renderOutput(dataTable, element);\n",
              "          const docLink = document.createElement('div');\n",
              "          docLink.innerHTML = docLinkHtml;\n",
              "          element.appendChild(docLink);\n",
              "        }\n",
              "      </script>\n",
              "    </div>\n",
              "  </div>\n",
              "  "
            ],
            "text/plain": [
              "                 name symbol    MarketCapt  CurrentPrice  all_timeHigh  \\\n",
              "0          FTX Token    FTT)  6.392788e+09     46.390000     84.180000   \n",
              "1               cETH   CETH)  3.402465e+09     58.640000     97.750000   \n",
              "2  Internet Computer    ICP)  4.146340e+09     19.980000    700.650000   \n",
              "3            Uniswap    UNI)  4.735410e+09     10.370000     44.920000   \n",
              "4             Cronos    CRO)  1.116306e+10      0.441677      0.965407   \n",
              "\n",
              "   all_timeLow  24hrsPercentChange  7daysPercentChange  \n",
              "0      1.15000                11.3                16.2  \n",
              "1      1.89000                11.8                13.7  \n",
              "2     14.88000                12.6                12.5  \n",
              "3      1.03000                 8.2                20.9  \n",
              "4      0.01212                11.3                14.3  "
            ]
          },
          "metadata": {},
          "execution_count": 13
        }
      ],
      "source": [
        "cols= ['currPrice','makcap','ATH','ATL','TotalSupply','CircuSupply','24hrs','7days']\n",
        "df = df.drop(cols, axis=1)\n",
        "df.head()"
      ]
    },
    {
      "cell_type": "code",
      "execution_count": null,
      "metadata": {
        "colab": {
          "base_uri": "https://localhost:8080/"
        },
        "id": "xULCdXE3GheK",
        "outputId": "58d2cac3-e0cb-40fd-ac59-3601ca507b5f"
      },
      "outputs": [
        {
          "output_type": "execute_result",
          "data": {
            "text/plain": [
              "name                   object\n",
              "symbol                 object\n",
              "MarketCapt            float64\n",
              "CurrentPrice          float64\n",
              "all_timeHigh          float64\n",
              "all_timeLow           float64\n",
              "24hrsPercentChange    float64\n",
              "7daysPercentChange    float64\n",
              "dtype: object"
            ]
          },
          "metadata": {},
          "execution_count": 14
        }
      ],
      "source": [
        "#Rechecking the df data type, all the numerical columns are now in float, and ready for arithmetic operations.\n",
        "df.dtypes"
      ]
    },
    {
      "cell_type": "code",
      "execution_count": null,
      "metadata": {
        "colab": {
          "base_uri": "https://localhost:8080/",
          "height": 394
        },
        "id": "uZPpL1B_6cwA",
        "outputId": "93ad83aa-e3c9-4030-e657-ed1108aa9f4b"
      },
      "outputs": [
        {
          "output_type": "execute_result",
          "data": {
            "text/html": [
              "\n",
              "  <div id=\"df-3e632985-44e7-4567-ab89-9695f5a0626b\">\n",
              "    <div class=\"colab-df-container\">\n",
              "      <div>\n",
              "<style scoped>\n",
              "    .dataframe tbody tr th:only-of-type {\n",
              "        vertical-align: middle;\n",
              "    }\n",
              "\n",
              "    .dataframe tbody tr th {\n",
              "        vertical-align: top;\n",
              "    }\n",
              "\n",
              "    .dataframe thead th {\n",
              "        text-align: right;\n",
              "    }\n",
              "</style>\n",
              "<table border=\"1\" class=\"dataframe\">\n",
              "  <thead>\n",
              "    <tr style=\"text-align: right;\">\n",
              "      <th></th>\n",
              "      <th>MarketCapt</th>\n",
              "    </tr>\n",
              "    <tr>\n",
              "      <th>name</th>\n",
              "      <th></th>\n",
              "    </tr>\n",
              "  </thead>\n",
              "  <tbody>\n",
              "    <tr>\n",
              "      <th>Bitcoin</th>\n",
              "      <td>8.259074e+11</td>\n",
              "    </tr>\n",
              "    <tr>\n",
              "      <th>Ethereum</th>\n",
              "      <td>3.502374e+11</td>\n",
              "    </tr>\n",
              "    <tr>\n",
              "      <th>Tether</th>\n",
              "      <td>7.973741e+10</td>\n",
              "    </tr>\n",
              "    <tr>\n",
              "      <th>BNB</th>\n",
              "      <td>6.862430e+10</td>\n",
              "    </tr>\n",
              "    <tr>\n",
              "      <th>USD Coin</th>\n",
              "      <td>5.357091e+10</td>\n",
              "    </tr>\n",
              "    <tr>\n",
              "      <th>XRP</th>\n",
              "      <td>3.717316e+10</td>\n",
              "    </tr>\n",
              "    <tr>\n",
              "      <th>Terra</th>\n",
              "      <td>3.330008e+10</td>\n",
              "    </tr>\n",
              "    <tr>\n",
              "      <th>Cardano</th>\n",
              "      <td>3.111075e+10</td>\n",
              "    </tr>\n",
              "    <tr>\n",
              "      <th>Solana</th>\n",
              "      <td>3.100828e+10</td>\n",
              "    </tr>\n",
              "    <tr>\n",
              "      <th>Avalanche</th>\n",
              "      <td>2.140029e+10</td>\n",
              "    </tr>\n",
              "  </tbody>\n",
              "</table>\n",
              "</div>\n",
              "      <button class=\"colab-df-convert\" onclick=\"convertToInteractive('df-3e632985-44e7-4567-ab89-9695f5a0626b')\"\n",
              "              title=\"Convert this dataframe to an interactive table.\"\n",
              "              style=\"display:none;\">\n",
              "        \n",
              "  <svg xmlns=\"http://www.w3.org/2000/svg\" height=\"24px\"viewBox=\"0 0 24 24\"\n",
              "       width=\"24px\">\n",
              "    <path d=\"M0 0h24v24H0V0z\" fill=\"none\"/>\n",
              "    <path d=\"M18.56 5.44l.94 2.06.94-2.06 2.06-.94-2.06-.94-.94-2.06-.94 2.06-2.06.94zm-11 1L8.5 8.5l.94-2.06 2.06-.94-2.06-.94L8.5 2.5l-.94 2.06-2.06.94zm10 10l.94 2.06.94-2.06 2.06-.94-2.06-.94-.94-2.06-.94 2.06-2.06.94z\"/><path d=\"M17.41 7.96l-1.37-1.37c-.4-.4-.92-.59-1.43-.59-.52 0-1.04.2-1.43.59L10.3 9.45l-7.72 7.72c-.78.78-.78 2.05 0 2.83L4 21.41c.39.39.9.59 1.41.59.51 0 1.02-.2 1.41-.59l7.78-7.78 2.81-2.81c.8-.78.8-2.07 0-2.86zM5.41 20L4 18.59l7.72-7.72 1.47 1.35L5.41 20z\"/>\n",
              "  </svg>\n",
              "      </button>\n",
              "      \n",
              "  <style>\n",
              "    .colab-df-container {\n",
              "      display:flex;\n",
              "      flex-wrap:wrap;\n",
              "      gap: 12px;\n",
              "    }\n",
              "\n",
              "    .colab-df-convert {\n",
              "      background-color: #E8F0FE;\n",
              "      border: none;\n",
              "      border-radius: 50%;\n",
              "      cursor: pointer;\n",
              "      display: none;\n",
              "      fill: #1967D2;\n",
              "      height: 32px;\n",
              "      padding: 0 0 0 0;\n",
              "      width: 32px;\n",
              "    }\n",
              "\n",
              "    .colab-df-convert:hover {\n",
              "      background-color: #E2EBFA;\n",
              "      box-shadow: 0px 1px 2px rgba(60, 64, 67, 0.3), 0px 1px 3px 1px rgba(60, 64, 67, 0.15);\n",
              "      fill: #174EA6;\n",
              "    }\n",
              "\n",
              "    [theme=dark] .colab-df-convert {\n",
              "      background-color: #3B4455;\n",
              "      fill: #D2E3FC;\n",
              "    }\n",
              "\n",
              "    [theme=dark] .colab-df-convert:hover {\n",
              "      background-color: #434B5C;\n",
              "      box-shadow: 0px 1px 3px 1px rgba(0, 0, 0, 0.15);\n",
              "      filter: drop-shadow(0px 1px 2px rgba(0, 0, 0, 0.3));\n",
              "      fill: #FFFFFF;\n",
              "    }\n",
              "  </style>\n",
              "\n",
              "      <script>\n",
              "        const buttonEl =\n",
              "          document.querySelector('#df-3e632985-44e7-4567-ab89-9695f5a0626b button.colab-df-convert');\n",
              "        buttonEl.style.display =\n",
              "          google.colab.kernel.accessAllowed ? 'block' : 'none';\n",
              "\n",
              "        async function convertToInteractive(key) {\n",
              "          const element = document.querySelector('#df-3e632985-44e7-4567-ab89-9695f5a0626b');\n",
              "          const dataTable =\n",
              "            await google.colab.kernel.invokeFunction('convertToInteractive',\n",
              "                                                     [key], {});\n",
              "          if (!dataTable) return;\n",
              "\n",
              "          const docLinkHtml = 'Like what you see? Visit the ' +\n",
              "            '<a target=\"_blank\" href=https://colab.research.google.com/notebooks/data_table.ipynb>data table notebook</a>'\n",
              "            + ' to learn more about interactive tables.';\n",
              "          element.innerHTML = '';\n",
              "          dataTable['output_type'] = 'display_data';\n",
              "          await google.colab.output.renderOutput(dataTable, element);\n",
              "          const docLink = document.createElement('div');\n",
              "          docLink.innerHTML = docLinkHtml;\n",
              "          element.appendChild(docLink);\n",
              "        }\n",
              "      </script>\n",
              "    </div>\n",
              "  </div>\n",
              "  "
            ],
            "text/plain": [
              "              MarketCapt\n",
              "name                    \n",
              "Bitcoin     8.259074e+11\n",
              "Ethereum    3.502374e+11\n",
              "Tether      7.973741e+10\n",
              "BNB         6.862430e+10\n",
              "USD Coin    5.357091e+10\n",
              "XRP         3.717316e+10\n",
              "Terra       3.330008e+10\n",
              "Cardano     3.111075e+10\n",
              "Solana      3.100828e+10\n",
              "Avalanche   2.140029e+10"
            ]
          },
          "metadata": {},
          "execution_count": 15
        }
      ],
      "source": [
        "marketCap = df[['name','MarketCapt']]\n",
        "Cap = marketCap.sort_values(by='MarketCapt',ascending=False)\n",
        "Cap10 = Cap[:10].set_index('name')\n",
        "Cap10"
      ]
    },
    {
      "cell_type": "code",
      "execution_count": null,
      "metadata": {
        "id": "pirrskkfJpNf"
      },
      "outputs": [],
      "source": [
        "#Declaring these now for later use in the plots\n",
        "TOP_CAP_TITLE = 'Top 10 market capitalization'\n",
        "TOP_CAP_YLABEL = '% of total cap'"
      ]
    },
    {
      "cell_type": "code",
      "execution_count": null,
      "metadata": {
        "id": "eNzZlj2g-XWZ"
      },
      "outputs": [],
      "source": [
        "colors=['green', 'blue', 'purple', 'magenta', 'cyan', 'green','yellow','lightblue', 'red','black']"
      ]
    },
    {
      "cell_type": "code",
      "execution_count": null,
      "metadata": {
        "id": "3b5LaLin7AAb"
      },
      "outputs": [],
      "source": [
        "Cap10= Cap10.assign(market_cap_perc = lambda x: ( x.MarketCapt\n",
        "                               / x.MarketCapt.sum())*100)"
      ]
    },
    {
      "cell_type": "code",
      "execution_count": null,
      "metadata": {
        "colab": {
          "base_uri": "https://localhost:8080/",
          "height": 340
        },
        "id": "arOIniWN7jrY",
        "outputId": "066b1b7c-95be-45b1-a65b-5a8b1e256873"
      },
      "outputs": [
        {
          "output_type": "display_data",
          "data": {
            "image/png": "[encoded data removed]",
            "text/plain": [
              "<Figure size 432x288 with 1 Axes>"
            ]
          },
          "metadata": {
            "needs_background": "light"
          }
        }
      ],
      "source": [
        "import seaborn as sns\n",
        "ax = Cap10.market_cap_perc.plot.bar(title=TOP_CAP_TITLE, color=colors)\n",
        "ax.set_xlabel('Names of Coins/Token')\n",
        "ax.set_ylabel(TOP_CAP_YLABEL)\n",
        "plt.show()"
      ]
    },
    {
      "cell_type": "code",
      "execution_count": null,
      "metadata": {
        "id": "ApplRHdE0tVF"
      },
      "outputs": [],
      "source": [
        "# Selecting everything bigger than 30 billion \n",
        "LargeCaps = df.query('MarketCapt > 3E+10')\n",
        "# Selecting coins with market capital between 2 billion and less than 30 billion \n",
        "MediumCaps = df.query('MarketCapt >= 2E+9 & MarketCapt < 3E+10')\n",
        "# Selecting coins with market capital less than 2billion \n",
        "LowCaps = df.query('MarketCapt < 2E+9')\n",
        "\n"
      ]
    },
    {
      "cell_type": "code",
      "execution_count": null,
      "metadata": {
        "id": "Z-3zuh0CBxFS"
      },
      "outputs": [],
      "source": [
        "label = ['largeCaps','mediumCaps','lowCaps']\n",
        "values = [len(LargeCaps),len(MediumCaps),len(LowCaps)]\n"
      ]
    },
    {
      "cell_type": "code",
      "execution_count": null,
      "metadata": {
        "colab": {
          "base_uri": "https://localhost:8080/",
          "height": 265
        },
        "id": "aeZj6Mq7M7AH",
        "outputId": "e69c3360-028c-4e82-ba72-4a2682fdf580"
      },
      "outputs": [
        {
          "output_type": "display_data",
          "data": {
            "image/png": "[encoded data removed]",
            "text/plain": [
              "<Figure size 432x288 with 1 Axes>"
            ]
          },
          "metadata": {
            "needs_background": "light"
          }
        }
      ],
      "source": [
        "plt.bar(label,values,color='g')\n",
        "plt.show()"
      ]
    },
    {
      "cell_type": "code",
      "source": [
        "newdf = df.query('MarketCapt > 2.14E+10')\n",
        "newdf"
      ],
      "metadata": {
        "colab": {
          "base_uri": "https://localhost:8080/",
          "height": 363
        },
        "id": "3MLDFyxZcu_G",
        "outputId": "1802af88-aa0e-4802-b793-646ed67bd422"
      },
      "execution_count": null,
      "outputs": [
        {
          "output_type": "execute_result",
          "data": {
            "text/html": [
              "\n",
              "  <div id=\"df-19f58df4-362b-439d-b23c-d5e9971cfbd3\">\n",
              "    <div class=\"colab-df-container\">\n",
              "      <div>\n",
              "<style scoped>\n",
              "    .dataframe tbody tr th:only-of-type {\n",
              "        vertical-align: middle;\n",
              "    }\n",
              "\n",
              "    .dataframe tbody tr th {\n",
              "        vertical-align: top;\n",
              "    }\n",
              "\n",
              "    .dataframe thead th {\n",
              "        text-align: right;\n",
              "    }\n",
              "</style>\n",
              "<table border=\"1\" class=\"dataframe\">\n",
              "  <thead>\n",
              "    <tr style=\"text-align: right;\">\n",
              "      <th></th>\n",
              "      <th>name</th>\n",
              "      <th>symbol</th>\n",
              "      <th>MarketCapt</th>\n",
              "      <th>CurrentPrice</th>\n",
              "      <th>all_timeHigh</th>\n",
              "      <th>all_timeLow</th>\n",
              "      <th>24hrsPercentChange</th>\n",
              "      <th>7daysPercentChange</th>\n",
              "    </tr>\n",
              "  </thead>\n",
              "  <tbody>\n",
              "    <tr>\n",
              "      <th>8</th>\n",
              "      <td>USD Coin</td>\n",
              "      <td>USDC)</td>\n",
              "      <td>5.357091e+10</td>\n",
              "      <td>1.000000</td>\n",
              "      <td>1.17</td>\n",
              "      <td>0.891848</td>\n",
              "      <td>0.1</td>\n",
              "      <td>0.1</td>\n",
              "    </tr>\n",
              "    <tr>\n",
              "      <th>39</th>\n",
              "      <td>XRP</td>\n",
              "      <td>XRP)</td>\n",
              "      <td>3.717316e+10</td>\n",
              "      <td>0.775432</td>\n",
              "      <td>3.40</td>\n",
              "      <td>0.002686</td>\n",
              "      <td>7.2</td>\n",
              "      <td>9.9</td>\n",
              "    </tr>\n",
              "    <tr>\n",
              "      <th>40</th>\n",
              "      <td>Avalanche</td>\n",
              "      <td>AVAX)</td>\n",
              "      <td>2.140029e+10</td>\n",
              "      <td>86.940000</td>\n",
              "      <td>144.96</td>\n",
              "      <td>2.800000</td>\n",
              "      <td>17.5</td>\n",
              "      <td>24.2</td>\n",
              "    </tr>\n",
              "    <tr>\n",
              "      <th>44</th>\n",
              "      <td>Cardano</td>\n",
              "      <td>ADA)</td>\n",
              "      <td>3.111075e+10</td>\n",
              "      <td>0.970074</td>\n",
              "      <td>3.09</td>\n",
              "      <td>0.019253</td>\n",
              "      <td>11.1</td>\n",
              "      <td>12.8</td>\n",
              "    </tr>\n",
              "    <tr>\n",
              "      <th>59</th>\n",
              "      <td>BNB</td>\n",
              "      <td>BNB)</td>\n",
              "      <td>6.862430e+10</td>\n",
              "      <td>408.350000</td>\n",
              "      <td>686.31</td>\n",
              "      <td>0.039818</td>\n",
              "      <td>12.4</td>\n",
              "      <td>14.4</td>\n",
              "    </tr>\n",
              "    <tr>\n",
              "      <th>60</th>\n",
              "      <td>Ethereum</td>\n",
              "      <td>ETH)</td>\n",
              "      <td>3.502374e+11</td>\n",
              "      <td>2926.430000</td>\n",
              "      <td>4878.26</td>\n",
              "      <td>0.432979</td>\n",
              "      <td>12.0</td>\n",
              "      <td>13.7</td>\n",
              "    </tr>\n",
              "    <tr>\n",
              "      <th>70</th>\n",
              "      <td>Terra</td>\n",
              "      <td>LUNA)</td>\n",
              "      <td>3.330008e+10</td>\n",
              "      <td>88.740000</td>\n",
              "      <td>103.34</td>\n",
              "      <td>0.121798</td>\n",
              "      <td>22.4</td>\n",
              "      <td>76.6</td>\n",
              "    </tr>\n",
              "    <tr>\n",
              "      <th>88</th>\n",
              "      <td>Solana</td>\n",
              "      <td>SOL)</td>\n",
              "      <td>3.100828e+10</td>\n",
              "      <td>96.730000</td>\n",
              "      <td>259.96</td>\n",
              "      <td>0.500801</td>\n",
              "      <td>11.3</td>\n",
              "      <td>16.3</td>\n",
              "    </tr>\n",
              "    <tr>\n",
              "      <th>98</th>\n",
              "      <td>Tether</td>\n",
              "      <td>USDT)</td>\n",
              "      <td>7.973741e+10</td>\n",
              "      <td>1.000000</td>\n",
              "      <td>1.32</td>\n",
              "      <td>0.572521</td>\n",
              "      <td>0.0</td>\n",
              "      <td>0.1</td>\n",
              "    </tr>\n",
              "    <tr>\n",
              "      <th>99</th>\n",
              "      <td>Bitcoin</td>\n",
              "      <td>BTC)</td>\n",
              "      <td>8.259074e+11</td>\n",
              "      <td>43534.700000</td>\n",
              "      <td>69044.77</td>\n",
              "      <td>67.810000</td>\n",
              "      <td>14.5</td>\n",
              "      <td>17.5</td>\n",
              "    </tr>\n",
              "  </tbody>\n",
              "</table>\n",
              "</div>\n",
              "      <button class=\"colab-df-convert\" onclick=\"convertToInteractive('df-19f58df4-362b-439d-b23c-d5e9971cfbd3')\"\n",
              "              title=\"Convert this dataframe to an interactive table.\"\n",
              "              style=\"display:none;\">\n",
              "        \n",
              "  <svg xmlns=\"http://www.w3.org/2000/svg\" height=\"24px\"viewBox=\"0 0 24 24\"\n",
              "       width=\"24px\">\n",
              "    <path d=\"M0 0h24v24H0V0z\" fill=\"none\"/>\n",
              "    <path d=\"M18.56 5.44l.94 2.06.94-2.06 2.06-.94-2.06-.94-.94-2.06-.94 2.06-2.06.94zm-11 1L8.5 8.5l.94-2.06 2.06-.94-2.06-.94L8.5 2.5l-.94 2.06-2.06.94zm10 10l.94 2.06.94-2.06 2.06-.94-2.06-.94-.94-2.06-.94 2.06-2.06.94z\"/><path d=\"M17.41 7.96l-1.37-1.37c-.4-.4-.92-.59-1.43-.59-.52 0-1.04.2-1.43.59L10.3 9.45l-7.72 7.72c-.78.78-.78 2.05 0 2.83L4 21.41c.39.39.9.59 1.41.59.51 0 1.02-.2 1.41-.59l7.78-7.78 2.81-2.81c.8-.78.8-2.07 0-2.86zM5.41 20L4 18.59l7.72-7.72 1.47 1.35L5.41 20z\"/>\n",
              "  </svg>\n",
              "      </button>\n",
              "      \n",
              "  <style>\n",
              "    .colab-df-container {\n",
              "      display:flex;\n",
              "      flex-wrap:wrap;\n",
              "      gap: 12px;\n",
              "    }\n",
              "\n",
              "    .colab-df-convert {\n",
              "      background-color: #E8F0FE;\n",
              "      border: none;\n",
              "      border-radius: 50%;\n",
              "      cursor: pointer;\n",
              "      display: none;\n",
              "      fill: #1967D2;\n",
              "      height: 32px;\n",
              "      padding: 0 0 0 0;\n",
              "      width: 32px;\n",
              "    }\n",
              "\n",
              "    .colab-df-convert:hover {\n",
              "      background-color: #E2EBFA;\n",
              "      box-shadow: 0px 1px 2px rgba(60, 64, 67, 0.3), 0px 1px 3px 1px rgba(60, 64, 67, 0.15);\n",
              "      fill: #174EA6;\n",
              "    }\n",
              "\n",
              "    [theme=dark] .colab-df-convert {\n",
              "      background-color: #3B4455;\n",
              "      fill: #D2E3FC;\n",
              "    }\n",
              "\n",
              "    [theme=dark] .colab-df-convert:hover {\n",
              "      background-color: #434B5C;\n",
              "      box-shadow: 0px 1px 3px 1px rgba(0, 0, 0, 0.15);\n",
              "      filter: drop-shadow(0px 1px 2px rgba(0, 0, 0, 0.3));\n",
              "      fill: #FFFFFF;\n",
              "    }\n",
              "  </style>\n",
              "\n",
              "      <script>\n",
              "        const buttonEl =\n",
              "          document.querySelector('#df-19f58df4-362b-439d-b23c-d5e9971cfbd3 button.colab-df-convert');\n",
              "        buttonEl.style.display =\n",
              "          google.colab.kernel.accessAllowed ? 'block' : 'none';\n",
              "\n",
              "        async function convertToInteractive(key) {\n",
              "          const element = document.querySelector('#df-19f58df4-362b-439d-b23c-d5e9971cfbd3');\n",
              "          const dataTable =\n",
              "            await google.colab.kernel.invokeFunction('convertToInteractive',\n",
              "                                                     [key], {});\n",
              "          if (!dataTable) return;\n",
              "\n",
              "          const docLinkHtml = 'Like what you see? Visit the ' +\n",
              "            '<a target=\"_blank\" href=https://colab.research.google.com/notebooks/data_table.ipynb>data table notebook</a>'\n",
              "            + ' to learn more about interactive tables.';\n",
              "          element.innerHTML = '';\n",
              "          dataTable['output_type'] = 'display_data';\n",
              "          await google.colab.output.renderOutput(dataTable, element);\n",
              "          const docLink = document.createElement('div');\n",
              "          docLink.innerHTML = docLinkHtml;\n",
              "          element.appendChild(docLink);\n",
              "        }\n",
              "      </script>\n",
              "    </div>\n",
              "  </div>\n",
              "  "
            ],
            "text/plain": [
              "          name symbol    MarketCapt  CurrentPrice  all_timeHigh  all_timeLow  \\\n",
              "8    USD Coin   USDC)  5.357091e+10      1.000000          1.17     0.891848   \n",
              "39        XRP    XRP)  3.717316e+10      0.775432          3.40     0.002686   \n",
              "40  Avalanche   AVAX)  2.140029e+10     86.940000        144.96     2.800000   \n",
              "44    Cardano    ADA)  3.111075e+10      0.970074          3.09     0.019253   \n",
              "59        BNB    BNB)  6.862430e+10    408.350000        686.31     0.039818   \n",
              "60   Ethereum    ETH)  3.502374e+11   2926.430000       4878.26     0.432979   \n",
              "70      Terra   LUNA)  3.330008e+10     88.740000        103.34     0.121798   \n",
              "88     Solana    SOL)  3.100828e+10     96.730000        259.96     0.500801   \n",
              "98     Tether   USDT)  7.973741e+10      1.000000          1.32     0.572521   \n",
              "99    Bitcoin    BTC)  8.259074e+11  43534.700000      69044.77    67.810000   \n",
              "\n",
              "    24hrsPercentChange  7daysPercentChange  \n",
              "8                  0.1                 0.1  \n",
              "39                 7.2                 9.9  \n",
              "40                17.5                24.2  \n",
              "44                11.1                12.8  \n",
              "59                12.4                14.4  \n",
              "60                12.0                13.7  \n",
              "70                22.4                76.6  \n",
              "88                11.3                16.3  \n",
              "98                 0.0                 0.1  \n",
              "99                14.5                17.5  "
            ]
          },
          "metadata": {},
          "execution_count": 25
        }
      ]
    },
    {
      "cell_type": "code",
      "source": [
        "fig, ax = plt.subplots()\n",
        "newdf.plot.bar(x = 'name', y = ['CurrentPrice', 'all_timeHigh'], rot = 90, ax = ax, color=['red','green'])\n",
        "ax.set_yscale('log')\n",
        "plt.show()"
      ],
      "metadata": {
        "colab": {
          "base_uri": "https://localhost:8080/",
          "height": 327
        },
        "id": "n3Jwql1jdWfI",
        "outputId": "281bac82-dcae-4c75-d763-dd1123b7a170"
      },
      "execution_count": null,
      "outputs": [
        {
          "output_type": "display_data",
          "data": {
            "image/png": "[encoded data removed]",
            "text/plain": [
              "<Figure size 432x288 with 1 Axes>"
            ]
          },
          "metadata": {
            "needs_background": "light"
          }
        }
      ]
    },
    {
      "cell_type": "markdown",
      "metadata": {
        "id": "MFJe-jQ68u7q"
      },
      "source": [
        "\n",
        "\n",
        "*   The above plot show a group bar chart, comparing the current price as at the day the data was scraped and the all-time-high price of the top coins.\n",
        "\n",
        "*   The Log scale was used due to inbalance in the scale of the different coins\n",
        "\n",
        "*   Coins like XRP(Ripple), ADA(Cardano), and SOL(Solana) are still yet to recovered from the dip in the market, this can be seen by the wide difference between the all-time-high and the current price.\n",
        "\n",
        "*   Coins like BTC(Bitcoin), ETH(Ethereum), Avalanche, and Terra are trading close to their all-time-high.\n",
        "\n",
        "*   While their is no significant difference between the current Values and AllTimeHigh price of USD coin and USDT(Tether) because they are stable coins.\n",
        "\n",
        "\n",
        "\n",
        "\n",
        "\n",
        "\n"
      ]
    },
    {
      "cell_type": "code",
      "source": [
        "fig, ax = plt.subplots()\n",
        "newdf.plot.bar(x = 'name', y = ['all_timeLow','CurrentPrice'], rot = 90, ax = ax, color=['red','green'])\n",
        "ax.set_yscale('log')\n",
        "plt.show()"
      ],
      "metadata": {
        "colab": {
          "base_uri": "https://localhost:8080/",
          "height": 324
        },
        "id": "Ca00Wo44bID-",
        "outputId": "a7260f8c-48e1-456f-9894-2d77d6ce0204"
      },
      "execution_count": null,
      "outputs": [
        {
          "output_type": "display_data",
          "data": {
            "image/png": "[encoded data removed]",
            "text/plain": [
              "<Figure size 432x288 with 1 Axes>"
            ]
          },
          "metadata": {
            "needs_background": "light"
          }
        }
      ]
    },
    {
      "cell_type": "markdown",
      "source": [
        "\n",
        "\n",
        "*   All the coins show a major upward movements  from their all-time-low compared to the current prices except USD Coin and Tether (USDT). For example, XRP had an all-time low of 0.002686 and a current price of 3.4, which implies a 1265% increase. This means that a user who invested just 100  dollar when it was at its all-time low will now have the investment increased to $126500– let's remember that the coin is still far below its all-time high, hmmm🤔.\n",
        "*   Nill or non-significant movement in USD Coin and Tether also further confirms that both are examples of stable coins.\n",
        "\n"
      ],
      "metadata": {
        "id": "rYEGbzw-dp7G"
      }
    },
    {
      "cell_type": "code",
      "source": [
        "fig, ax = plt.subplots()\n",
        "newdf.plot.bar(x = 'name', y = ['all_timeLow','CurrentPrice','all_timeHigh'], rot = 90, ax = ax, color=['red','purple','green'])\n",
        "ax.set_yscale('log')\n",
        "plt.show()"
      ],
      "metadata": {
        "colab": {
          "base_uri": "https://localhost:8080/",
          "height": 324
        },
        "id": "ELwOw1xLbYcB",
        "outputId": "4bab6cb6-2fcb-4e77-af17-faba0fdc7504"
      },
      "execution_count": null,
      "outputs": [
        {
          "output_type": "display_data",
          "data": {
            "image/png": "[encoded data removed]",
            "text/plain": [
              "<Figure size 432x288 with 1 Axes>"
            ]
          },
          "metadata": {
            "needs_background": "light"
          }
        }
      ]
    },
    {
      "cell_type": "markdown",
      "source": [
        "## Conclusion\n",
        "\n",
        "\n",
        "\n",
        "*   USD Coin and Tether (USDT) are examples of stable coins whose values are not significantly affected by changes in the market. Therefore, citizens of countries whose currency always face devaluations can consider saving their funds in this type of currency. (NB: NFA)\n",
        "*   Movement of coins/tokens cannot be adequately predicted– an investor can gain 100% today and lose 5000% tomorrow.\n",
        "\n",
        "*   The greatest rule in this asset class is to BUY low and SELL high, not the other way around.\n",
        "*   Investors should always perceive this asset class as a long-term investment and not view it as a get-rich-quick scheme.\n",
        "\n",
        "\n",
        "\n",
        "\n",
        "\n"
      ],
      "metadata": {
        "id": "pTt4JlzgeXd6"
      }
    },
    {
      "cell_type": "markdown",
      "source": [
        "# Thank You!"
      ],
      "metadata": {
        "id": "qFOl1cWOe9WM"
      }
    },
    {
      "cell_type": "code",
      "source": [
        ""
      ],
      "metadata": {
        "id": "wHlZsY3yfBQH"
      },
      "execution_count": null,
      "outputs": []
    }
  ],
  "metadata": {
    "colab": {
      "collapsed_sections": [],
      "name": "Cryptocurrency_Volatility",
      "provenance": [],
      "authorship_tag": "ABX9TyOH7fMoUfpR0ne7uoP1+odj",
      "include_colab_link": true
    },
    "kernelspec": {
      "display_name": "Python 3",
      "name": "python3"
    },
    "language_info": {
      "name": "python"
    }
  },
  "nbformat": 4,
  "nbformat_minor": 0
}
