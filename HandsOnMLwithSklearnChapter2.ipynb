{
  "nbformat": 4,
  "nbformat_minor": 0,
  "metadata": {
    "colab": {
      "name": "HandsOnMLwithSklearnChapter2.ipynb",
      "provenance": [],
      "collapsed_sections": [],
      "authorship_tag": "ABX9TyMOqk3l5leBrwyS96SGwbuO",
      "include_colab_link": true
    },
    "kernelspec": {
      "name": "python3",
      "display_name": "Python 3"
    },
    "language_info": {
      "name": "python"
    }
  },
  "cells": [
    {
      "cell_type": "markdown",
      "metadata": {
        "id": "view-in-github",
        "colab_type": "text"
      },
      "source": [
        "<a href=\"https://colab.research.google.com/github/favourphilic/Python-Project/blob/main/HandsOnMLwithSklearnChapter2.ipynb\" target=\"_parent\"><img src=\"https://colab.research.google.com/assets/colab-badge.svg\" alt=\"Open In Colab\"/></a>"
      ]
    },
    {
      "cell_type": "markdown",
      "source": [
        "### In this file, I share the code and summary from the end-to-end project, the  cjapter 2 of Hands on wmachine learning with scikit learn."
      ],
      "metadata": {
        "id": "Pms5FuXo9b1w"
      }
    },
    {
      "cell_type": "code",
      "source": [
        "# To support both python 2 and python 3\n",
        "from __future__ import division, print_function, unicode_literals\n",
        "\n",
        "# Common imports\n",
        "import numpy as np\n",
        "import os\n",
        "\n",
        "# to make this notebook's output stable across runs\n",
        "np.random.seed(42)\n",
        "\n",
        "# To plot pretty figures\n",
        "%matplotlib inline\n",
        "import matplotlib as mpl\n",
        "import matplotlib.pyplot as plt\n",
        "mpl.rc('axes', labelsize=14)\n",
        "mpl.rc('xtick', labelsize=12)\n",
        "mpl.rc('ytick', labelsize=12)\n",
        "\n",
        "# Where to save the figures\n",
        "PROJECT_ROOT_DIR = \".\"\n",
        "CHAPTER_ID = \"end_to_end_project\"\n",
        "IMAGES_PATH = os.path.join(PROJECT_ROOT_DIR, \"images\", CHAPTER_ID)\n",
        "os.makedirs(IMAGES_PATH, exist_ok=True)\n",
        "\n",
        "def save_fig(fig_id, tight_layout=True, fig_extension=\"png\", resolution=300):\n",
        "    path = os.path.join(IMAGES_PATH, fig_id + \".\" + fig_extension)\n",
        "    print(\"Saving figure\", fig_id)\n",
        "    if tight_layout:\n",
        "        plt.tight_layout()\n",
        "    plt.savefig(path, format=fig_extension, dpi=resolution)"
      ],
      "metadata": {
        "id": "P5v2tBCONWFk"
      },
      "execution_count": null,
      "outputs": []
    },
    {
      "cell_type": "code",
      "source": [
        "# Getting the Data\n",
        "import os\n",
        "import tarfile\n",
        "import urllib.request\n",
        "\n",
        "DOWNLOAD_ROOT = \"https://raw.githubusercontent.com/ageron/handson-ml/master/\"\n",
        "HOUSING_PATH = os.path.join(\"datasets\", \"housing\")\n",
        "HOUSING_URL = DOWNLOAD_ROOT + \"datasets/housing/housing.tgz\"\n",
        "\n",
        "def fetch_housing_data(housing_url=HOUSING_URL, housing_path=HOUSING_PATH):\n",
        "    os.makedirs(housing_path, exist_ok=True)\n",
        "    tgz_path = os.path.join(housing_path, \"housing.tgz\")\n",
        "    urllib.request.urlretrieve(housing_url, tgz_path)\n",
        "    housing_tgz = tarfile.open(tgz_path)\n",
        "    housing_tgz.extractall(path=housing_path)\n",
        "    housing_tgz.close()"
      ],
      "metadata": {
        "id": "3q4TA_68cXul"
      },
      "execution_count": null,
      "outputs": []
    },
    {
      "cell_type": "markdown",
      "source": [
        ""
      ],
      "metadata": {
        "id": "ZonsbyaG9WDM"
      }
    },
    {
      "cell_type": "code",
      "source": [
        "fetch_housing_data()\n",
        "\n",
        "import pandas as pd\n",
        "\n",
        "def load_housing_data(housing_path=HOUSING_PATH):\n",
        "    csv_path = os.path.join(housing_path, \"housing.csv\")\n",
        "    return pd.read_csv(csv_path)"
      ],
      "metadata": {
        "id": "MJX1PPQFcic0"
      },
      "execution_count": null,
      "outputs": []
    },
    {
      "cell_type": "code",
      "source": [
        "housing = load_housing_data()\n",
        "housing.head()\n"
      ],
      "metadata": {
        "colab": {
          "base_uri": "https://localhost:8080/",
          "height": 206
        },
        "id": "VJcwowfAcosa",
        "outputId": "62e907af-621e-4b79-a4ec-28aebc5aaaf5"
      },
      "execution_count": null,
      "outputs": [
        {
          "output_type": "execute_result",
          "data": {
            "text/plain": [
              "   longitude  latitude  housing_median_age  total_rooms  total_bedrooms  \\\n",
              "0    -122.23     37.88                41.0        880.0           129.0   \n",
              "1    -122.22     37.86                21.0       7099.0          1106.0   \n",
              "2    -122.24     37.85                52.0       1467.0           190.0   \n",
              "3    -122.25     37.85                52.0       1274.0           235.0   \n",
              "4    -122.25     37.85                52.0       1627.0           280.0   \n",
              "\n",
              "   population  households  median_income  median_house_value ocean_proximity  \n",
              "0       322.0       126.0         8.3252            452600.0        NEAR BAY  \n",
              "1      2401.0      1138.0         8.3014            358500.0        NEAR BAY  \n",
              "2       496.0       177.0         7.2574            352100.0        NEAR BAY  \n",
              "3       558.0       219.0         5.6431            341300.0        NEAR BAY  \n",
              "4       565.0       259.0         3.8462            342200.0        NEAR BAY  "
            ],
            "text/html": [
              "\n",
              "  <div id=\"df-fc635ff1-5744-4ba4-9aa3-230e8576eb42\">\n",
              "    <div class=\"colab-df-container\">\n",
              "      <div>\n",
              "<style scoped>\n",
              "    .dataframe tbody tr th:only-of-type {\n",
              "        vertical-align: middle;\n",
              "    }\n",
              "\n",
              "    .dataframe tbody tr th {\n",
              "        vertical-align: top;\n",
              "    }\n",
              "\n",
              "    .dataframe thead th {\n",
              "        text-align: right;\n",
              "    }\n",
              "</style>\n",
              "<table border=\"1\" class=\"dataframe\">\n",
              "  <thead>\n",
              "    <tr style=\"text-align: right;\">\n",
              "      <th></th>\n",
              "      <th>longitude</th>\n",
              "      <th>latitude</th>\n",
              "      <th>housing_median_age</th>\n",
              "      <th>total_rooms</th>\n",
              "      <th>total_bedrooms</th>\n",
              "      <th>population</th>\n",
              "      <th>households</th>\n",
              "      <th>median_income</th>\n",
              "      <th>median_house_value</th>\n",
              "      <th>ocean_proximity</th>\n",
              "    </tr>\n",
              "  </thead>\n",
              "  <tbody>\n",
              "    <tr>\n",
              "      <th>0</th>\n",
              "      <td>-122.23</td>\n",
              "      <td>37.88</td>\n",
              "      <td>41.0</td>\n",
              "      <td>880.0</td>\n",
              "      <td>129.0</td>\n",
              "      <td>322.0</td>\n",
              "      <td>126.0</td>\n",
              "      <td>8.3252</td>\n",
              "      <td>452600.0</td>\n",
              "      <td>NEAR BAY</td>\n",
              "    </tr>\n",
              "    <tr>\n",
              "      <th>1</th>\n",
              "      <td>-122.22</td>\n",
              "      <td>37.86</td>\n",
              "      <td>21.0</td>\n",
              "      <td>7099.0</td>\n",
              "      <td>1106.0</td>\n",
              "      <td>2401.0</td>\n",
              "      <td>1138.0</td>\n",
              "      <td>8.3014</td>\n",
              "      <td>358500.0</td>\n",
              "      <td>NEAR BAY</td>\n",
              "    </tr>\n",
              "    <tr>\n",
              "      <th>2</th>\n",
              "      <td>-122.24</td>\n",
              "      <td>37.85</td>\n",
              "      <td>52.0</td>\n",
              "      <td>1467.0</td>\n",
              "      <td>190.0</td>\n",
              "      <td>496.0</td>\n",
              "      <td>177.0</td>\n",
              "      <td>7.2574</td>\n",
              "      <td>352100.0</td>\n",
              "      <td>NEAR BAY</td>\n",
              "    </tr>\n",
              "    <tr>\n",
              "      <th>3</th>\n",
              "      <td>-122.25</td>\n",
              "      <td>37.85</td>\n",
              "      <td>52.0</td>\n",
              "      <td>1274.0</td>\n",
              "      <td>235.0</td>\n",
              "      <td>558.0</td>\n",
              "      <td>219.0</td>\n",
              "      <td>5.6431</td>\n",
              "      <td>341300.0</td>\n",
              "      <td>NEAR BAY</td>\n",
              "    </tr>\n",
              "    <tr>\n",
              "      <th>4</th>\n",
              "      <td>-122.25</td>\n",
              "      <td>37.85</td>\n",
              "      <td>52.0</td>\n",
              "      <td>1627.0</td>\n",
              "      <td>280.0</td>\n",
              "      <td>565.0</td>\n",
              "      <td>259.0</td>\n",
              "      <td>3.8462</td>\n",
              "      <td>342200.0</td>\n",
              "      <td>NEAR BAY</td>\n",
              "    </tr>\n",
              "  </tbody>\n",
              "</table>\n",
              "</div>\n",
              "      <button class=\"colab-df-convert\" onclick=\"convertToInteractive('df-fc635ff1-5744-4ba4-9aa3-230e8576eb42')\"\n",
              "              title=\"Convert this dataframe to an interactive table.\"\n",
              "              style=\"display:none;\">\n",
              "        \n",
              "  <svg xmlns=\"http://www.w3.org/2000/svg\" height=\"24px\"viewBox=\"0 0 24 24\"\n",
              "       width=\"24px\">\n",
              "    <path d=\"M0 0h24v24H0V0z\" fill=\"none\"/>\n",
              "    <path d=\"M18.56 5.44l.94 2.06.94-2.06 2.06-.94-2.06-.94-.94-2.06-.94 2.06-2.06.94zm-11 1L8.5 8.5l.94-2.06 2.06-.94-2.06-.94L8.5 2.5l-.94 2.06-2.06.94zm10 10l.94 2.06.94-2.06 2.06-.94-2.06-.94-.94-2.06-.94 2.06-2.06.94z\"/><path d=\"M17.41 7.96l-1.37-1.37c-.4-.4-.92-.59-1.43-.59-.52 0-1.04.2-1.43.59L10.3 9.45l-7.72 7.72c-.78.78-.78 2.05 0 2.83L4 21.41c.39.39.9.59 1.41.59.51 0 1.02-.2 1.41-.59l7.78-7.78 2.81-2.81c.8-.78.8-2.07 0-2.86zM5.41 20L4 18.59l7.72-7.72 1.47 1.35L5.41 20z\"/>\n",
              "  </svg>\n",
              "      </button>\n",
              "      \n",
              "  <style>\n",
              "    .colab-df-container {\n",
              "      display:flex;\n",
              "      flex-wrap:wrap;\n",
              "      gap: 12px;\n",
              "    }\n",
              "\n",
              "    .colab-df-convert {\n",
              "      background-color: #E8F0FE;\n",
              "      border: none;\n",
              "      border-radius: 50%;\n",
              "      cursor: pointer;\n",
              "      display: none;\n",
              "      fill: #1967D2;\n",
              "      height: 32px;\n",
              "      padding: 0 0 0 0;\n",
              "      width: 32px;\n",
              "    }\n",
              "\n",
              "    .colab-df-convert:hover {\n",
              "      background-color: #E2EBFA;\n",
              "      box-shadow: 0px 1px 2px rgba(60, 64, 67, 0.3), 0px 1px 3px 1px rgba(60, 64, 67, 0.15);\n",
              "      fill: #174EA6;\n",
              "    }\n",
              "\n",
              "    [theme=dark] .colab-df-convert {\n",
              "      background-color: #3B4455;\n",
              "      fill: #D2E3FC;\n",
              "    }\n",
              "\n",
              "    [theme=dark] .colab-df-convert:hover {\n",
              "      background-color: #434B5C;\n",
              "      box-shadow: 0px 1px 3px 1px rgba(0, 0, 0, 0.15);\n",
              "      filter: drop-shadow(0px 1px 2px rgba(0, 0, 0, 0.3));\n",
              "      fill: #FFFFFF;\n",
              "    }\n",
              "  </style>\n",
              "\n",
              "      <script>\n",
              "        const buttonEl =\n",
              "          document.querySelector('#df-fc635ff1-5744-4ba4-9aa3-230e8576eb42 button.colab-df-convert');\n",
              "        buttonEl.style.display =\n",
              "          google.colab.kernel.accessAllowed ? 'block' : 'none';\n",
              "\n",
              "        async function convertToInteractive(key) {\n",
              "          const element = document.querySelector('#df-fc635ff1-5744-4ba4-9aa3-230e8576eb42');\n",
              "          const dataTable =\n",
              "            await google.colab.kernel.invokeFunction('convertToInteractive',\n",
              "                                                     [key], {});\n",
              "          if (!dataTable) return;\n",
              "\n",
              "          const docLinkHtml = 'Like what you see? Visit the ' +\n",
              "            '<a target=\"_blank\" href=https://colab.research.google.com/notebooks/data_table.ipynb>data table notebook</a>'\n",
              "            + ' to learn more about interactive tables.';\n",
              "          element.innerHTML = '';\n",
              "          dataTable['output_type'] = 'display_data';\n",
              "          await google.colab.output.renderOutput(dataTable, element);\n",
              "          const docLink = document.createElement('div');\n",
              "          docLink.innerHTML = docLinkHtml;\n",
              "          element.appendChild(docLink);\n",
              "        }\n",
              "      </script>\n",
              "    </div>\n",
              "  </div>\n",
              "  "
            ]
          },
          "metadata": {},
          "execution_count": 121
        }
      ]
    },
    {
      "cell_type": "code",
      "source": [
        "#To get a quick info about the dataset\n",
        "housing.info()"
      ],
      "metadata": {
        "colab": {
          "base_uri": "https://localhost:8080/"
        },
        "id": "90wfu_2Wcs3Q",
        "outputId": "08cfbb12-e6b5-4261-d8c4-85a7fb337851"
      },
      "execution_count": null,
      "outputs": [
        {
          "output_type": "stream",
          "name": "stdout",
          "text": [
            "<class 'pandas.core.frame.DataFrame'>\n",
            "RangeIndex: 20640 entries, 0 to 20639\n",
            "Data columns (total 10 columns):\n",
            " #   Column              Non-Null Count  Dtype  \n",
            "---  ------              --------------  -----  \n",
            " 0   longitude           20640 non-null  float64\n",
            " 1   latitude            20640 non-null  float64\n",
            " 2   housing_median_age  20640 non-null  float64\n",
            " 3   total_rooms         20640 non-null  float64\n",
            " 4   total_bedrooms      20433 non-null  float64\n",
            " 5   population          20640 non-null  float64\n",
            " 6   households          20640 non-null  float64\n",
            " 7   median_income       20640 non-null  float64\n",
            " 8   median_house_value  20640 non-null  float64\n",
            " 9   ocean_proximity     20640 non-null  object \n",
            "dtypes: float64(9), object(1)\n",
            "memory usage: 1.6+ MB\n"
          ]
        }
      ]
    },
    {
      "cell_type": "markdown",
      "source": [
        "There are 20,640 instances in the dataset, which means that it is fairly small by\n",
        "Machine Learning standards, but it’s perfect to get started. \n",
        "\n",
        "Notice that the total_bed\n",
        "rooms attribute has only 20,433 non-null values, meaning that 207 districts are miss‐\n",
        "ing this feature. We will need to take care of this later."
      ],
      "metadata": {
        "id": "Sp7HaAQGdWkh"
      }
    },
    {
      "cell_type": "markdown",
      "source": [
        "All attributes are numerical, except the ocean_proximity field. Its type is object.\n",
        "\n",
        " You can find out what categories exist and how many\n",
        "districts belong to each category by using the value_counts() method:"
      ],
      "metadata": {
        "id": "PjNrCca4dpb0"
      }
    },
    {
      "cell_type": "code",
      "source": [
        "housing.ocean_proximity.value_counts()"
      ],
      "metadata": {
        "colab": {
          "base_uri": "https://localhost:8080/"
        },
        "id": "FQNn19c0dGW3",
        "outputId": "4cccbe30-8659-4aba-e947-52d6deb58ecf"
      },
      "execution_count": null,
      "outputs": [
        {
          "output_type": "execute_result",
          "data": {
            "text/plain": [
              "<1H OCEAN     9136\n",
              "INLAND        6551\n",
              "NEAR OCEAN    2658\n",
              "NEAR BAY      2290\n",
              "ISLAND           5\n",
              "Name: ocean_proximity, dtype: int64"
            ]
          },
          "metadata": {},
          "execution_count": 123
        }
      ]
    },
    {
      "cell_type": "code",
      "source": [
        "#Lets take a quick look at the summary of the numerical features of the dataset\n",
        "housing.describe()"
      ],
      "metadata": {
        "colab": {
          "base_uri": "https://localhost:8080/",
          "height": 300
        },
        "id": "uD101iU3d7yt",
        "outputId": "c022d505-1a40-462b-86df-c8b2cc972779"
      },
      "execution_count": null,
      "outputs": [
        {
          "output_type": "execute_result",
          "data": {
            "text/plain": [
              "          longitude      latitude  housing_median_age   total_rooms  \\\n",
              "count  20640.000000  20640.000000        20640.000000  20640.000000   \n",
              "mean    -119.569704     35.631861           28.639486   2635.763081   \n",
              "std        2.003532      2.135952           12.585558   2181.615252   \n",
              "min     -124.350000     32.540000            1.000000      2.000000   \n",
              "25%     -121.800000     33.930000           18.000000   1447.750000   \n",
              "50%     -118.490000     34.260000           29.000000   2127.000000   \n",
              "75%     -118.010000     37.710000           37.000000   3148.000000   \n",
              "max     -114.310000     41.950000           52.000000  39320.000000   \n",
              "\n",
              "       total_bedrooms    population    households  median_income  \\\n",
              "count    20433.000000  20640.000000  20640.000000   20640.000000   \n",
              "mean       537.870553   1425.476744    499.539680       3.870671   \n",
              "std        421.385070   1132.462122    382.329753       1.899822   \n",
              "min          1.000000      3.000000      1.000000       0.499900   \n",
              "25%        296.000000    787.000000    280.000000       2.563400   \n",
              "50%        435.000000   1166.000000    409.000000       3.534800   \n",
              "75%        647.000000   1725.000000    605.000000       4.743250   \n",
              "max       6445.000000  35682.000000   6082.000000      15.000100   \n",
              "\n",
              "       median_house_value  \n",
              "count        20640.000000  \n",
              "mean        206855.816909  \n",
              "std         115395.615874  \n",
              "min          14999.000000  \n",
              "25%         119600.000000  \n",
              "50%         179700.000000  \n",
              "75%         264725.000000  \n",
              "max         500001.000000  "
            ],
            "text/html": [
              "\n",
              "  <div id=\"df-63747e6e-d073-4753-be17-2744feaf133e\">\n",
              "    <div class=\"colab-df-container\">\n",
              "      <div>\n",
              "<style scoped>\n",
              "    .dataframe tbody tr th:only-of-type {\n",
              "        vertical-align: middle;\n",
              "    }\n",
              "\n",
              "    .dataframe tbody tr th {\n",
              "        vertical-align: top;\n",
              "    }\n",
              "\n",
              "    .dataframe thead th {\n",
              "        text-align: right;\n",
              "    }\n",
              "</style>\n",
              "<table border=\"1\" class=\"dataframe\">\n",
              "  <thead>\n",
              "    <tr style=\"text-align: right;\">\n",
              "      <th></th>\n",
              "      <th>longitude</th>\n",
              "      <th>latitude</th>\n",
              "      <th>housing_median_age</th>\n",
              "      <th>total_rooms</th>\n",
              "      <th>total_bedrooms</th>\n",
              "      <th>population</th>\n",
              "      <th>households</th>\n",
              "      <th>median_income</th>\n",
              "      <th>median_house_value</th>\n",
              "    </tr>\n",
              "  </thead>\n",
              "  <tbody>\n",
              "    <tr>\n",
              "      <th>count</th>\n",
              "      <td>20640.000000</td>\n",
              "      <td>20640.000000</td>\n",
              "      <td>20640.000000</td>\n",
              "      <td>20640.000000</td>\n",
              "      <td>20433.000000</td>\n",
              "      <td>20640.000000</td>\n",
              "      <td>20640.000000</td>\n",
              "      <td>20640.000000</td>\n",
              "      <td>20640.000000</td>\n",
              "    </tr>\n",
              "    <tr>\n",
              "      <th>mean</th>\n",
              "      <td>-119.569704</td>\n",
              "      <td>35.631861</td>\n",
              "      <td>28.639486</td>\n",
              "      <td>2635.763081</td>\n",
              "      <td>537.870553</td>\n",
              "      <td>1425.476744</td>\n",
              "      <td>499.539680</td>\n",
              "      <td>3.870671</td>\n",
              "      <td>206855.816909</td>\n",
              "    </tr>\n",
              "    <tr>\n",
              "      <th>std</th>\n",
              "      <td>2.003532</td>\n",
              "      <td>2.135952</td>\n",
              "      <td>12.585558</td>\n",
              "      <td>2181.615252</td>\n",
              "      <td>421.385070</td>\n",
              "      <td>1132.462122</td>\n",
              "      <td>382.329753</td>\n",
              "      <td>1.899822</td>\n",
              "      <td>115395.615874</td>\n",
              "    </tr>\n",
              "    <tr>\n",
              "      <th>min</th>\n",
              "      <td>-124.350000</td>\n",
              "      <td>32.540000</td>\n",
              "      <td>1.000000</td>\n",
              "      <td>2.000000</td>\n",
              "      <td>1.000000</td>\n",
              "      <td>3.000000</td>\n",
              "      <td>1.000000</td>\n",
              "      <td>0.499900</td>\n",
              "      <td>14999.000000</td>\n",
              "    </tr>\n",
              "    <tr>\n",
              "      <th>25%</th>\n",
              "      <td>-121.800000</td>\n",
              "      <td>33.930000</td>\n",
              "      <td>18.000000</td>\n",
              "      <td>1447.750000</td>\n",
              "      <td>296.000000</td>\n",
              "      <td>787.000000</td>\n",
              "      <td>280.000000</td>\n",
              "      <td>2.563400</td>\n",
              "      <td>119600.000000</td>\n",
              "    </tr>\n",
              "    <tr>\n",
              "      <th>50%</th>\n",
              "      <td>-118.490000</td>\n",
              "      <td>34.260000</td>\n",
              "      <td>29.000000</td>\n",
              "      <td>2127.000000</td>\n",
              "      <td>435.000000</td>\n",
              "      <td>1166.000000</td>\n",
              "      <td>409.000000</td>\n",
              "      <td>3.534800</td>\n",
              "      <td>179700.000000</td>\n",
              "    </tr>\n",
              "    <tr>\n",
              "      <th>75%</th>\n",
              "      <td>-118.010000</td>\n",
              "      <td>37.710000</td>\n",
              "      <td>37.000000</td>\n",
              "      <td>3148.000000</td>\n",
              "      <td>647.000000</td>\n",
              "      <td>1725.000000</td>\n",
              "      <td>605.000000</td>\n",
              "      <td>4.743250</td>\n",
              "      <td>264725.000000</td>\n",
              "    </tr>\n",
              "    <tr>\n",
              "      <th>max</th>\n",
              "      <td>-114.310000</td>\n",
              "      <td>41.950000</td>\n",
              "      <td>52.000000</td>\n",
              "      <td>39320.000000</td>\n",
              "      <td>6445.000000</td>\n",
              "      <td>35682.000000</td>\n",
              "      <td>6082.000000</td>\n",
              "      <td>15.000100</td>\n",
              "      <td>500001.000000</td>\n",
              "    </tr>\n",
              "  </tbody>\n",
              "</table>\n",
              "</div>\n",
              "      <button class=\"colab-df-convert\" onclick=\"convertToInteractive('df-63747e6e-d073-4753-be17-2744feaf133e')\"\n",
              "              title=\"Convert this dataframe to an interactive table.\"\n",
              "              style=\"display:none;\">\n",
              "        \n",
              "  <svg xmlns=\"http://www.w3.org/2000/svg\" height=\"24px\"viewBox=\"0 0 24 24\"\n",
              "       width=\"24px\">\n",
              "    <path d=\"M0 0h24v24H0V0z\" fill=\"none\"/>\n",
              "    <path d=\"M18.56 5.44l.94 2.06.94-2.06 2.06-.94-2.06-.94-.94-2.06-.94 2.06-2.06.94zm-11 1L8.5 8.5l.94-2.06 2.06-.94-2.06-.94L8.5 2.5l-.94 2.06-2.06.94zm10 10l.94 2.06.94-2.06 2.06-.94-2.06-.94-.94-2.06-.94 2.06-2.06.94z\"/><path d=\"M17.41 7.96l-1.37-1.37c-.4-.4-.92-.59-1.43-.59-.52 0-1.04.2-1.43.59L10.3 9.45l-7.72 7.72c-.78.78-.78 2.05 0 2.83L4 21.41c.39.39.9.59 1.41.59.51 0 1.02-.2 1.41-.59l7.78-7.78 2.81-2.81c.8-.78.8-2.07 0-2.86zM5.41 20L4 18.59l7.72-7.72 1.47 1.35L5.41 20z\"/>\n",
              "  </svg>\n",
              "      </button>\n",
              "      \n",
              "  <style>\n",
              "    .colab-df-container {\n",
              "      display:flex;\n",
              "      flex-wrap:wrap;\n",
              "      gap: 12px;\n",
              "    }\n",
              "\n",
              "    .colab-df-convert {\n",
              "      background-color: #E8F0FE;\n",
              "      border: none;\n",
              "      border-radius: 50%;\n",
              "      cursor: pointer;\n",
              "      display: none;\n",
              "      fill: #1967D2;\n",
              "      height: 32px;\n",
              "      padding: 0 0 0 0;\n",
              "      width: 32px;\n",
              "    }\n",
              "\n",
              "    .colab-df-convert:hover {\n",
              "      background-color: #E2EBFA;\n",
              "      box-shadow: 0px 1px 2px rgba(60, 64, 67, 0.3), 0px 1px 3px 1px rgba(60, 64, 67, 0.15);\n",
              "      fill: #174EA6;\n",
              "    }\n",
              "\n",
              "    [theme=dark] .colab-df-convert {\n",
              "      background-color: #3B4455;\n",
              "      fill: #D2E3FC;\n",
              "    }\n",
              "\n",
              "    [theme=dark] .colab-df-convert:hover {\n",
              "      background-color: #434B5C;\n",
              "      box-shadow: 0px 1px 3px 1px rgba(0, 0, 0, 0.15);\n",
              "      filter: drop-shadow(0px 1px 2px rgba(0, 0, 0, 0.3));\n",
              "      fill: #FFFFFF;\n",
              "    }\n",
              "  </style>\n",
              "\n",
              "      <script>\n",
              "        const buttonEl =\n",
              "          document.querySelector('#df-63747e6e-d073-4753-be17-2744feaf133e button.colab-df-convert');\n",
              "        buttonEl.style.display =\n",
              "          google.colab.kernel.accessAllowed ? 'block' : 'none';\n",
              "\n",
              "        async function convertToInteractive(key) {\n",
              "          const element = document.querySelector('#df-63747e6e-d073-4753-be17-2744feaf133e');\n",
              "          const dataTable =\n",
              "            await google.colab.kernel.invokeFunction('convertToInteractive',\n",
              "                                                     [key], {});\n",
              "          if (!dataTable) return;\n",
              "\n",
              "          const docLinkHtml = 'Like what you see? Visit the ' +\n",
              "            '<a target=\"_blank\" href=https://colab.research.google.com/notebooks/data_table.ipynb>data table notebook</a>'\n",
              "            + ' to learn more about interactive tables.';\n",
              "          element.innerHTML = '';\n",
              "          dataTable['output_type'] = 'display_data';\n",
              "          await google.colab.output.renderOutput(dataTable, element);\n",
              "          const docLink = document.createElement('div');\n",
              "          docLink.innerHTML = docLinkHtml;\n",
              "          element.appendChild(docLink);\n",
              "        }\n",
              "      </script>\n",
              "    </div>\n",
              "  </div>\n",
              "  "
            ]
          },
          "metadata": {},
          "execution_count": 124
        }
      ]
    },
    {
      "cell_type": "markdown",
      "source": [
        " Note that the null values are\n",
        "ignored (so, for example, count of total_bedrooms is 20,433, not 20,640)\n",
        "\n",
        "\n",
        "The std\n",
        "row shows the standard deviation (which measures how dispersed the values are).\n",
        "The 25%, 50%, and 75% rows show the corresponding percentiles: a percentile indi‐\n",
        "cates the value below which a given percentage of observations in a group of observa‐\n",
        "tions falls. For example, 25% of the districts have a housing_median_age lower than\n",
        "18, while 50% are lower than 29 and 75% are lower than 37. These are often called the\n",
        "25th percentile (or 1st quartile), the median, and the 75th percentile (or 3rd quartile).\n"
      ],
      "metadata": {
        "id": "GMhNW53leqqA"
      }
    },
    {
      "cell_type": "code",
      "source": [
        "import matplotlib.pyplot as plt\n",
        "housing.hist(bins=50, figsize=(20,15))\n",
        "plt.show()"
      ],
      "metadata": {
        "colab": {
          "base_uri": "https://localhost:8080/",
          "height": 882
        },
        "id": "m0Afq7SkeVGU",
        "outputId": "b00e563d-d3e9-4fb2-9e7c-8fa3ff4e6a6c"
      },
      "execution_count": null,
      "outputs": [
        {
          "output_type": "display_data",
          "data": {
            "text/plain": [
              "<Figure size 1440x1080 with 9 Axes>"
            ],
            "image/png": "[encoded data removed]"
          },
          "metadata": {
            "needs_background": "light"
          }
        }
      ]
    },
    {
      "cell_type": "markdown",
      "source": [
        "A histogram shows the number of instances\n",
        "(on the vertical axis) that have a given value range (on the horizontal axis). "
      ],
      "metadata": {
        "id": "wIjAh2VBf_HO"
      }
    },
    {
      "cell_type": "markdown",
      "source": [
        "1. First, the median income attribute does not look like it is expressed in US dollars\n",
        "(USD). After checking with the team that collected the data, you are told that the\n",
        "data has been scaled and capped at 15 (actually 15.0001) for higher median\n",
        "incomes, and at 0.5 (actually 0.4999) for lower median incomes. Working with \n",
        "preprocessed attributes is common in Machine Learning, and it is not necessarily\n",
        "a problem, but you should try to understand how the data was computed.\n",
        "\n",
        "2. . The housing median age and the median house value were also capped. The lat‐\n",
        "ter may be a serious problem since it is your target attribute (your labels). Your\n",
        "Machine Learning algorithms may learn that prices never go beyond that limit.\n",
        "You need to check with your client team (the team that will use your system’s out‐\n",
        "put) to see if this is a problem or not. If they tell you that they need precise pre‐\n",
        "dictions even beyond $500,000, then you have mainly two options:\n",
        "\n",
        "a. Collect proper labels for the districts whose labels were capped.\n",
        "b. Remove those districts from the training set (and also from the test set, since\n",
        "your system should not be evaluated poorly if it predicts values beyond\n",
        "$500,000)."
      ],
      "metadata": {
        "id": "b4uCUfWHhggW"
      }
    },
    {
      "cell_type": "markdown",
      "source": [
        "3. These attributes have very different scales. We will be exploring feature scaling later.\n",
        "\n",
        "\n",
        "4.  Finally, the histograms are tail heavy: they extend much farther to the right of\n",
        "the median than to the left. This may make it a bit harder for some Machine\n",
        "Learning algorithms to detect patterns. We will try transforming these attributes\n",
        "later on to have more bell-shaped distributions.\n"
      ],
      "metadata": {
        "id": "JmcwFNHTjzQj"
      }
    },
    {
      "cell_type": "code",
      "source": [
        "# Randomly creating a test set\n",
        "import numpy as np\n",
        "def split_train_test(data, test_ratio):\n",
        " shuffled_indices = np.random.permutation(len(data))\n",
        " test_set_size = int(len(data) * test_ratio)\n",
        " test_indices = shuffled_indices[:test_set_size]\n",
        " train_indices = shuffled_indices[test_set_size:]\n",
        " return data.iloc[train_indices], data.iloc[test_indices]\n"
      ],
      "metadata": {
        "id": "8BiPtDP4f7sE"
      },
      "execution_count": null,
      "outputs": []
    },
    {
      "cell_type": "code",
      "source": [
        "#Then use the function created\n",
        "train_set, test_set = split_train_test(housing, 0.2)\n",
        "print(len(train_set), \"train +\", len(test_set), \"test\")\n"
      ],
      "metadata": {
        "colab": {
          "base_uri": "https://localhost:8080/"
        },
        "id": "Wi44CvfslRAz",
        "outputId": "9b3c598f-4e25-4cc6-cad5-ae4d3fa4f630"
      },
      "execution_count": null,
      "outputs": [
        {
          "output_type": "stream",
          "name": "stdout",
          "text": [
            "16512 train + 4128 test\n"
          ]
        }
      ]
    },
    {
      "cell_type": "markdown",
      "source": [
        "* Well, this works, but it is not perfect: if you run the program again, it will generate a different test set! Over time, you (or your Machine Learning a algorithms) will get to see the whole dataset, which is what you want to avoid.\n",
        "* One solution is to save the test set on the first run and then load it in subsequent runs. Another option is to set the random number generator’s seed (e.g., np.random.seed(42)) before calling np.random.permutation(), so that it always generates the same shuffled indices.\n",
        "* But both these solutions will break next time you fetch an updated dataset. A com‐mon solution is to use each instance’s identifier to decide whether or not it should go in the test set (assuming instances have a unique and immutable identifier). \n",
        "* For example, you could compute a hash of each instance’s identifier, keep only the last byte of the hash, and put the instance in the test set if this value is lower or equal to\n",
        "51 (~20% of 256). This ensures that the test set will remain consistent across multiple\n",
        "runs, even if you refresh the dataset. The new test set will contain 20% of the new\n",
        "instances, but it will not contain any instance that was previously in the training set.\n",
        "Here is a possible implementation:\n",
        "\n"
      ],
      "metadata": {
        "id": "8QhoKYBBw3KQ"
      }
    },
    {
      "cell_type": "code",
      "source": [
        "housing.head(3)"
      ],
      "metadata": {
        "colab": {
          "base_uri": "https://localhost:8080/",
          "height": 143
        },
        "id": "bVCd1e5lzAcQ",
        "outputId": "60edc5eb-7ad8-4976-abbe-3170c06e4e5c"
      },
      "execution_count": null,
      "outputs": [
        {
          "output_type": "execute_result",
          "data": {
            "text/plain": [
              "   longitude  latitude  housing_median_age  total_rooms  total_bedrooms  \\\n",
              "0    -122.23     37.88                41.0        880.0           129.0   \n",
              "1    -122.22     37.86                21.0       7099.0          1106.0   \n",
              "2    -122.24     37.85                52.0       1467.0           190.0   \n",
              "\n",
              "   population  households  median_income  median_house_value ocean_proximity  \n",
              "0       322.0       126.0         8.3252            452600.0        NEAR BAY  \n",
              "1      2401.0      1138.0         8.3014            358500.0        NEAR BAY  \n",
              "2       496.0       177.0         7.2574            352100.0        NEAR BAY  "
            ],
            "text/html": [
              "\n",
              "  <div id=\"df-0d743caf-3951-4d23-a7ad-08d95525ec0e\">\n",
              "    <div class=\"colab-df-container\">\n",
              "      <div>\n",
              "<style scoped>\n",
              "    .dataframe tbody tr th:only-of-type {\n",
              "        vertical-align: middle;\n",
              "    }\n",
              "\n",
              "    .dataframe tbody tr th {\n",
              "        vertical-align: top;\n",
              "    }\n",
              "\n",
              "    .dataframe thead th {\n",
              "        text-align: right;\n",
              "    }\n",
              "</style>\n",
              "<table border=\"1\" class=\"dataframe\">\n",
              "  <thead>\n",
              "    <tr style=\"text-align: right;\">\n",
              "      <th></th>\n",
              "      <th>longitude</th>\n",
              "      <th>latitude</th>\n",
              "      <th>housing_median_age</th>\n",
              "      <th>total_rooms</th>\n",
              "      <th>total_bedrooms</th>\n",
              "      <th>population</th>\n",
              "      <th>households</th>\n",
              "      <th>median_income</th>\n",
              "      <th>median_house_value</th>\n",
              "      <th>ocean_proximity</th>\n",
              "    </tr>\n",
              "  </thead>\n",
              "  <tbody>\n",
              "    <tr>\n",
              "      <th>0</th>\n",
              "      <td>-122.23</td>\n",
              "      <td>37.88</td>\n",
              "      <td>41.0</td>\n",
              "      <td>880.0</td>\n",
              "      <td>129.0</td>\n",
              "      <td>322.0</td>\n",
              "      <td>126.0</td>\n",
              "      <td>8.3252</td>\n",
              "      <td>452600.0</td>\n",
              "      <td>NEAR BAY</td>\n",
              "    </tr>\n",
              "    <tr>\n",
              "      <th>1</th>\n",
              "      <td>-122.22</td>\n",
              "      <td>37.86</td>\n",
              "      <td>21.0</td>\n",
              "      <td>7099.0</td>\n",
              "      <td>1106.0</td>\n",
              "      <td>2401.0</td>\n",
              "      <td>1138.0</td>\n",
              "      <td>8.3014</td>\n",
              "      <td>358500.0</td>\n",
              "      <td>NEAR BAY</td>\n",
              "    </tr>\n",
              "    <tr>\n",
              "      <th>2</th>\n",
              "      <td>-122.24</td>\n",
              "      <td>37.85</td>\n",
              "      <td>52.0</td>\n",
              "      <td>1467.0</td>\n",
              "      <td>190.0</td>\n",
              "      <td>496.0</td>\n",
              "      <td>177.0</td>\n",
              "      <td>7.2574</td>\n",
              "      <td>352100.0</td>\n",
              "      <td>NEAR BAY</td>\n",
              "    </tr>\n",
              "  </tbody>\n",
              "</table>\n",
              "</div>\n",
              "      <button class=\"colab-df-convert\" onclick=\"convertToInteractive('df-0d743caf-3951-4d23-a7ad-08d95525ec0e')\"\n",
              "              title=\"Convert this dataframe to an interactive table.\"\n",
              "              style=\"display:none;\">\n",
              "        \n",
              "  <svg xmlns=\"http://www.w3.org/2000/svg\" height=\"24px\"viewBox=\"0 0 24 24\"\n",
              "       width=\"24px\">\n",
              "    <path d=\"M0 0h24v24H0V0z\" fill=\"none\"/>\n",
              "    <path d=\"M18.56 5.44l.94 2.06.94-2.06 2.06-.94-2.06-.94-.94-2.06-.94 2.06-2.06.94zm-11 1L8.5 8.5l.94-2.06 2.06-.94-2.06-.94L8.5 2.5l-.94 2.06-2.06.94zm10 10l.94 2.06.94-2.06 2.06-.94-2.06-.94-.94-2.06-.94 2.06-2.06.94z\"/><path d=\"M17.41 7.96l-1.37-1.37c-.4-.4-.92-.59-1.43-.59-.52 0-1.04.2-1.43.59L10.3 9.45l-7.72 7.72c-.78.78-.78 2.05 0 2.83L4 21.41c.39.39.9.59 1.41.59.51 0 1.02-.2 1.41-.59l7.78-7.78 2.81-2.81c.8-.78.8-2.07 0-2.86zM5.41 20L4 18.59l7.72-7.72 1.47 1.35L5.41 20z\"/>\n",
              "  </svg>\n",
              "      </button>\n",
              "      \n",
              "  <style>\n",
              "    .colab-df-container {\n",
              "      display:flex;\n",
              "      flex-wrap:wrap;\n",
              "      gap: 12px;\n",
              "    }\n",
              "\n",
              "    .colab-df-convert {\n",
              "      background-color: #E8F0FE;\n",
              "      border: none;\n",
              "      border-radius: 50%;\n",
              "      cursor: pointer;\n",
              "      display: none;\n",
              "      fill: #1967D2;\n",
              "      height: 32px;\n",
              "      padding: 0 0 0 0;\n",
              "      width: 32px;\n",
              "    }\n",
              "\n",
              "    .colab-df-convert:hover {\n",
              "      background-color: #E2EBFA;\n",
              "      box-shadow: 0px 1px 2px rgba(60, 64, 67, 0.3), 0px 1px 3px 1px rgba(60, 64, 67, 0.15);\n",
              "      fill: #174EA6;\n",
              "    }\n",
              "\n",
              "    [theme=dark] .colab-df-convert {\n",
              "      background-color: #3B4455;\n",
              "      fill: #D2E3FC;\n",
              "    }\n",
              "\n",
              "    [theme=dark] .colab-df-convert:hover {\n",
              "      background-color: #434B5C;\n",
              "      box-shadow: 0px 1px 3px 1px rgba(0, 0, 0, 0.15);\n",
              "      filter: drop-shadow(0px 1px 2px rgba(0, 0, 0, 0.3));\n",
              "      fill: #FFFFFF;\n",
              "    }\n",
              "  </style>\n",
              "\n",
              "      <script>\n",
              "        const buttonEl =\n",
              "          document.querySelector('#df-0d743caf-3951-4d23-a7ad-08d95525ec0e button.colab-df-convert');\n",
              "        buttonEl.style.display =\n",
              "          google.colab.kernel.accessAllowed ? 'block' : 'none';\n",
              "\n",
              "        async function convertToInteractive(key) {\n",
              "          const element = document.querySelector('#df-0d743caf-3951-4d23-a7ad-08d95525ec0e');\n",
              "          const dataTable =\n",
              "            await google.colab.kernel.invokeFunction('convertToInteractive',\n",
              "                                                     [key], {});\n",
              "          if (!dataTable) return;\n",
              "\n",
              "          const docLinkHtml = 'Like what you see? Visit the ' +\n",
              "            '<a target=\"_blank\" href=https://colab.research.google.com/notebooks/data_table.ipynb>data table notebook</a>'\n",
              "            + ' to learn more about interactive tables.';\n",
              "          element.innerHTML = '';\n",
              "          dataTable['output_type'] = 'display_data';\n",
              "          await google.colab.output.renderOutput(dataTable, element);\n",
              "          const docLink = document.createElement('div');\n",
              "          docLink.innerHTML = docLinkHtml;\n",
              "          element.appendChild(docLink);\n",
              "        }\n",
              "      </script>\n",
              "    </div>\n",
              "  </div>\n",
              "  "
            ]
          },
          "metadata": {},
          "execution_count": 128
        }
      ]
    },
    {
      "cell_type": "code",
      "source": [
        "import hashlib\n",
        "def test_set_check(identifier, test_ratio, hash):\n",
        " return hash(np.int64(identifier)).digest()[-1] < 256 * test_ratio\n",
        "def split_train_test_by_id(data, test_ratio, id_column, hash=hashlib.md5):\n",
        " ids = data[id_column]\n",
        " in_test_set = ids.apply(lambda id_: test_set_check(id_, test_ratio, hash))\n",
        " return data.loc[~in_test_set], data.loc[in_test_set]\n",
        "\n",
        "#Unfortunately, the housing dataset does not have an identifier column. The simplest\n",
        "#solution is to use the row index as the ID:\n",
        "\n",
        "housing_with_id = housing.reset_index() # adds an `index` column\n",
        "train_set, test_set = split_train_test_by_id(housing_with_id, 0.2, \"index\")\n",
        "\n"
      ],
      "metadata": {
        "id": "GN1CTXxomihS"
      },
      "execution_count": null,
      "outputs": []
    },
    {
      "cell_type": "code",
      "source": [
        "housing_with_id.head(2)"
      ],
      "metadata": {
        "colab": {
          "base_uri": "https://localhost:8080/",
          "height": 112
        },
        "id": "QYtps-fozT_X",
        "outputId": "0bbdc1d3-7758-4665-f167-87f646bc0906"
      },
      "execution_count": null,
      "outputs": [
        {
          "output_type": "execute_result",
          "data": {
            "text/plain": [
              "   index  longitude  latitude  housing_median_age  total_rooms  \\\n",
              "0      0    -122.23     37.88                41.0        880.0   \n",
              "1      1    -122.22     37.86                21.0       7099.0   \n",
              "\n",
              "   total_bedrooms  population  households  median_income  median_house_value  \\\n",
              "0           129.0       322.0       126.0         8.3252            452600.0   \n",
              "1          1106.0      2401.0      1138.0         8.3014            358500.0   \n",
              "\n",
              "  ocean_proximity  \n",
              "0        NEAR BAY  \n",
              "1        NEAR BAY  "
            ],
            "text/html": [
              "\n",
              "  <div id=\"df-44f8072e-fe9c-4a88-aeff-76645e623637\">\n",
              "    <div class=\"colab-df-container\">\n",
              "      <div>\n",
              "<style scoped>\n",
              "    .dataframe tbody tr th:only-of-type {\n",
              "        vertical-align: middle;\n",
              "    }\n",
              "\n",
              "    .dataframe tbody tr th {\n",
              "        vertical-align: top;\n",
              "    }\n",
              "\n",
              "    .dataframe thead th {\n",
              "        text-align: right;\n",
              "    }\n",
              "</style>\n",
              "<table border=\"1\" class=\"dataframe\">\n",
              "  <thead>\n",
              "    <tr style=\"text-align: right;\">\n",
              "      <th></th>\n",
              "      <th>index</th>\n",
              "      <th>longitude</th>\n",
              "      <th>latitude</th>\n",
              "      <th>housing_median_age</th>\n",
              "      <th>total_rooms</th>\n",
              "      <th>total_bedrooms</th>\n",
              "      <th>population</th>\n",
              "      <th>households</th>\n",
              "      <th>median_income</th>\n",
              "      <th>median_house_value</th>\n",
              "      <th>ocean_proximity</th>\n",
              "    </tr>\n",
              "  </thead>\n",
              "  <tbody>\n",
              "    <tr>\n",
              "      <th>0</th>\n",
              "      <td>0</td>\n",
              "      <td>-122.23</td>\n",
              "      <td>37.88</td>\n",
              "      <td>41.0</td>\n",
              "      <td>880.0</td>\n",
              "      <td>129.0</td>\n",
              "      <td>322.0</td>\n",
              "      <td>126.0</td>\n",
              "      <td>8.3252</td>\n",
              "      <td>452600.0</td>\n",
              "      <td>NEAR BAY</td>\n",
              "    </tr>\n",
              "    <tr>\n",
              "      <th>1</th>\n",
              "      <td>1</td>\n",
              "      <td>-122.22</td>\n",
              "      <td>37.86</td>\n",
              "      <td>21.0</td>\n",
              "      <td>7099.0</td>\n",
              "      <td>1106.0</td>\n",
              "      <td>2401.0</td>\n",
              "      <td>1138.0</td>\n",
              "      <td>8.3014</td>\n",
              "      <td>358500.0</td>\n",
              "      <td>NEAR BAY</td>\n",
              "    </tr>\n",
              "  </tbody>\n",
              "</table>\n",
              "</div>\n",
              "      <button class=\"colab-df-convert\" onclick=\"convertToInteractive('df-44f8072e-fe9c-4a88-aeff-76645e623637')\"\n",
              "              title=\"Convert this dataframe to an interactive table.\"\n",
              "              style=\"display:none;\">\n",
              "        \n",
              "  <svg xmlns=\"http://www.w3.org/2000/svg\" height=\"24px\"viewBox=\"0 0 24 24\"\n",
              "       width=\"24px\">\n",
              "    <path d=\"M0 0h24v24H0V0z\" fill=\"none\"/>\n",
              "    <path d=\"M18.56 5.44l.94 2.06.94-2.06 2.06-.94-2.06-.94-.94-2.06-.94 2.06-2.06.94zm-11 1L8.5 8.5l.94-2.06 2.06-.94-2.06-.94L8.5 2.5l-.94 2.06-2.06.94zm10 10l.94 2.06.94-2.06 2.06-.94-2.06-.94-.94-2.06-.94 2.06-2.06.94z\"/><path d=\"M17.41 7.96l-1.37-1.37c-.4-.4-.92-.59-1.43-.59-.52 0-1.04.2-1.43.59L10.3 9.45l-7.72 7.72c-.78.78-.78 2.05 0 2.83L4 21.41c.39.39.9.59 1.41.59.51 0 1.02-.2 1.41-.59l7.78-7.78 2.81-2.81c.8-.78.8-2.07 0-2.86zM5.41 20L4 18.59l7.72-7.72 1.47 1.35L5.41 20z\"/>\n",
              "  </svg>\n",
              "      </button>\n",
              "      \n",
              "  <style>\n",
              "    .colab-df-container {\n",
              "      display:flex;\n",
              "      flex-wrap:wrap;\n",
              "      gap: 12px;\n",
              "    }\n",
              "\n",
              "    .colab-df-convert {\n",
              "      background-color: #E8F0FE;\n",
              "      border: none;\n",
              "      border-radius: 50%;\n",
              "      cursor: pointer;\n",
              "      display: none;\n",
              "      fill: #1967D2;\n",
              "      height: 32px;\n",
              "      padding: 0 0 0 0;\n",
              "      width: 32px;\n",
              "    }\n",
              "\n",
              "    .colab-df-convert:hover {\n",
              "      background-color: #E2EBFA;\n",
              "      box-shadow: 0px 1px 2px rgba(60, 64, 67, 0.3), 0px 1px 3px 1px rgba(60, 64, 67, 0.15);\n",
              "      fill: #174EA6;\n",
              "    }\n",
              "\n",
              "    [theme=dark] .colab-df-convert {\n",
              "      background-color: #3B4455;\n",
              "      fill: #D2E3FC;\n",
              "    }\n",
              "\n",
              "    [theme=dark] .colab-df-convert:hover {\n",
              "      background-color: #434B5C;\n",
              "      box-shadow: 0px 1px 3px 1px rgba(0, 0, 0, 0.15);\n",
              "      filter: drop-shadow(0px 1px 2px rgba(0, 0, 0, 0.3));\n",
              "      fill: #FFFFFF;\n",
              "    }\n",
              "  </style>\n",
              "\n",
              "      <script>\n",
              "        const buttonEl =\n",
              "          document.querySelector('#df-44f8072e-fe9c-4a88-aeff-76645e623637 button.colab-df-convert');\n",
              "        buttonEl.style.display =\n",
              "          google.colab.kernel.accessAllowed ? 'block' : 'none';\n",
              "\n",
              "        async function convertToInteractive(key) {\n",
              "          const element = document.querySelector('#df-44f8072e-fe9c-4a88-aeff-76645e623637');\n",
              "          const dataTable =\n",
              "            await google.colab.kernel.invokeFunction('convertToInteractive',\n",
              "                                                     [key], {});\n",
              "          if (!dataTable) return;\n",
              "\n",
              "          const docLinkHtml = 'Like what you see? Visit the ' +\n",
              "            '<a target=\"_blank\" href=https://colab.research.google.com/notebooks/data_table.ipynb>data table notebook</a>'\n",
              "            + ' to learn more about interactive tables.';\n",
              "          element.innerHTML = '';\n",
              "          dataTable['output_type'] = 'display_data';\n",
              "          await google.colab.output.renderOutput(dataTable, element);\n",
              "          const docLink = document.createElement('div');\n",
              "          docLink.innerHTML = docLinkHtml;\n",
              "          element.appendChild(docLink);\n",
              "        }\n",
              "      </script>\n",
              "    </div>\n",
              "  </div>\n",
              "  "
            ]
          },
          "metadata": {},
          "execution_count": 130
        }
      ]
    },
    {
      "cell_type": "markdown",
      "source": [
        "* If you use the row index as a unique identifier, you need to make sure that new data\n",
        "gets appended to the end of the dataset, and no row ever gets deleted. If this is not\n",
        "possible, then you can try to use the most stable features to build a unique identifier.\n",
        "For example, a district’s latitude and longitude are guaranteed to be stable for a few\n",
        "million years, so you could combine them into an ID like so"
      ],
      "metadata": {
        "id": "a6t4aJY1zxur"
      }
    },
    {
      "cell_type": "code",
      "source": [
        "housing_with_id[\"id\"] = housing[\"longitude\"] * 1000 + housing[\"latitude\"]\n",
        "train_set, test_set = split_train_test_by_id(housing_with_id, 0.2, \"id\")\n"
      ],
      "metadata": {
        "id": "7skOPNwIz-V8"
      },
      "execution_count": null,
      "outputs": []
    },
    {
      "cell_type": "markdown",
      "source": [
        "* Scikit-Learn provides a few functions to split datasets into multiple subsets in various\n",
        "ways. The simplest function is train_test_split, which does pretty much the same\n",
        "thing as the function split_train_test defined earlier, with a couple of additional\n",
        "features. First there is a random_state parameter that allows you to set the random\n",
        "generator seed as explained previously, and second you can pass it multiple datasets\n",
        "with an identical number of rows, and it will split them on the same indices (this is\n",
        "very useful, for example, if you have a separate DataFrame for labels)"
      ],
      "metadata": {
        "id": "fsID38cQ0VVr"
      }
    },
    {
      "cell_type": "code",
      "source": [
        "\n",
        "from sklearn.model_selection import train_test_split\n",
        "\n",
        "train_set, test_set = train_test_split(housing, test_size=0.2, random_state=42)"
      ],
      "metadata": {
        "id": "HAhRtTwT0qHd"
      },
      "execution_count": null,
      "outputs": []
    },
    {
      "cell_type": "markdown",
      "source": [
        "* So far we have considered purely random sampling methods. This is generally fine if\n",
        "your dataset is large enough (especially relative to the number of attributes), but if it\n",
        "is not, you run the risk of introducing a significant sampling bias. When a survey\n",
        "company decides to call 1,000 people to ask them a few questions, they don’t just pick\n",
        "1,000 people randomly in a phone booth. They try to ensure that these 1,000 people\n",
        "are representative of the whole population. For example, the US population is com‐\n",
        "posed of 51.3% female and 48.7% male, so a well-conducted survey in the US would\n",
        "try to maintain this ratio in the sample: 513 female and 487 male. This is called strati‐\n",
        "fied sampling: the population is divided into homogeneous subgroups called strata,\n",
        "and the right number of instances is sampled from each stratum to guarantee that the\n",
        "test set is representative of the overall population.\n",
        " * If they used purely random sam‐\n",
        "pling, there would be about 12% chance of sampling a skewed test set with either less\n",
        "than 49% female or more than 54% female. Either way, the survey results would be\n",
        "significantly biased."
      ],
      "metadata": {
        "id": "I1fHdWG308NE"
      }
    },
    {
      "cell_type": "markdown",
      "source": [
        "* Most median income values are clustered around 2–5 (tens of thousands of dollars),\n",
        "but some median incomes go far beyond 6. It is important to have a sufficient number of instances in your dataset for each stratum, or else the estimate of the stratum’s\n",
        "importance may be biased. This means that you should not have too many strata, and\n",
        "each stratum should be large enough.\n",
        "*  The following code creates an income category\n",
        "attribute by dividing the median income by 1.5 (to limit the number of income cate‐\n",
        "gories), and rounding up using ceil (to have discrete categories), and then merging\n",
        "all the categories greater than 5 into category 5:"
      ],
      "metadata": {
        "id": "2V8shigq10nS"
      }
    },
    {
      "cell_type": "code",
      "source": [
        "housing[\"income_cat\"] = np.ceil(housing[\"median_income\"] / 1.5)\n",
        "housing[\"income_cat\"].where(housing[\"income_cat\"] < 5, 5.0, inplace=True)"
      ],
      "metadata": {
        "id": "h6T1KDzW1-jK"
      },
      "execution_count": null,
      "outputs": []
    },
    {
      "cell_type": "markdown",
      "source": [
        "Now you are ready to do stratified sampling based on the income category. For this\n",
        "you can use Scikit-Learn’s StratifiedShuffleSplit class:\n"
      ],
      "metadata": {
        "id": "Dfv-9Vsd2HS4"
      }
    },
    {
      "cell_type": "code",
      "source": [
        "from sklearn.model_selection import StratifiedShuffleSplit\n",
        "split = StratifiedShuffleSplit(n_splits=1, test_size=0.2, random_state=42)\n",
        "for train_index, test_index in split.split(housing, housing[\"income_cat\"]):\n",
        " strat_train_set = housing.loc[train_index]\n",
        " strat_test_set = housing.loc[test_index]\n"
      ],
      "metadata": {
        "id": "Qzi8Rtrc2OHR"
      },
      "execution_count": null,
      "outputs": []
    },
    {
      "cell_type": "code",
      "source": [
        "#Let’s see if this worked as expected. You can start by looking at the income category\n",
        "#proportions in the full housing dataset:\n",
        "housing[\"income_cat\"].value_counts() / len(housing)\n"
      ],
      "metadata": {
        "colab": {
          "base_uri": "https://localhost:8080/"
        },
        "id": "J4oRnZ7y2XQk",
        "outputId": "1f97a7f1-8ed9-4cb6-ee77-f352d0e066ec"
      },
      "execution_count": null,
      "outputs": [
        {
          "output_type": "execute_result",
          "data": {
            "text/plain": [
              "3.0    0.350581\n",
              "2.0    0.318847\n",
              "4.0    0.176308\n",
              "5.0    0.114438\n",
              "1.0    0.039826\n",
              "Name: income_cat, dtype: float64"
            ]
          },
          "metadata": {},
          "execution_count": 135
        }
      ]
    },
    {
      "cell_type": "markdown",
      "source": [
        "* With similar code you can measure the income category proportions in the test set.\n",
        "Figure 2-10 compares the income category proportions in the overall dataset, in the\n",
        "test set generated with stratified sampling, and in a test set generated using purely\n",
        "random sampling. As you can see, the test set generated using stratified sampling has\n",
        "income category proportions almost identical to those in the full dataset, whereas the\n",
        "test set generated using purely random sampling is quite skewed."
      ],
      "metadata": {
        "id": "eaFBomC62io-"
      }
    },
    {
      "cell_type": "code",
      "source": [
        "#Now you should remove the income_cat attribute so the data is back to its original state:\n",
        "for set in (strat_train_set, strat_test_set):\n",
        " set.drop([\"income_cat\"], axis=1, inplace=True)\n"
      ],
      "metadata": {
        "id": "J0hPMStB2yQV"
      },
      "execution_count": null,
      "outputs": []
    },
    {
      "cell_type": "markdown",
      "source": [
        "##Discover and Visualize the data to gain insight"
      ],
      "metadata": {
        "id": "sf11gtvW2_Ep"
      }
    },
    {
      "cell_type": "markdown",
      "source": [
        "* Make sure you have put the test set aside and you are only exploring the train‐\n",
        "ing set. Also, if the training set is very large, you may want to sample an exploration\n",
        "set, to make manipulations easy and fast. In our case, the set is quite small so you can\n",
        "just work directly on the full set. Let’s create a copy so you can play with it without\n",
        "harming the training set:\n"
      ],
      "metadata": {
        "id": "M5_hWxTH3GMG"
      }
    },
    {
      "cell_type": "code",
      "source": [
        "housing = strat_train_set.copy()"
      ],
      "metadata": {
        "id": "-049ZDZv3Lyi"
      },
      "execution_count": null,
      "outputs": []
    },
    {
      "cell_type": "code",
      "source": [
        "#Visualizing the geographical data\n",
        "housing.plot(kind=\"scatter\", x=\"latitude\", y=\"longitude\")"
      ],
      "metadata": {
        "colab": {
          "base_uri": "https://localhost:8080/",
          "height": 305
        },
        "id": "BxcRrWxMne-B",
        "outputId": "991c7098-8ff1-46ba-b0d3-b972ce8da3a2"
      },
      "execution_count": null,
      "outputs": [
        {
          "output_type": "execute_result",
          "data": {
            "text/plain": [
              "<matplotlib.axes._subplots.AxesSubplot at 0x7fd830906850>"
            ]
          },
          "metadata": {},
          "execution_count": 138
        },
        {
          "output_type": "display_data",
          "data": {
            "text/plain": [
              "<Figure size 432x288 with 1 Axes>"
            ],
            "image/png": "[encoded data removed]"
          },
          "metadata": {
            "needs_background": "light"
          }
        }
      ]
    },
    {
      "cell_type": "code",
      "source": [
        "#Visualizing the geographical data\n",
        "housing.plot(kind=\"scatter\", x=\"latitude\", y=\"longitude\", alpha=0.1)\n",
        "#. Setting the alpha option to 0.1 makes it much easier to visualize the places where there is a high density of data points"
      ],
      "metadata": {
        "colab": {
          "base_uri": "https://localhost:8080/",
          "height": 305
        },
        "id": "-PgxYBekn24t",
        "outputId": "e3a6f6b9-03e0-46f8-bc88-1f93a6ed2a8f"
      },
      "execution_count": null,
      "outputs": [
        {
          "output_type": "execute_result",
          "data": {
            "text/plain": [
              "<matplotlib.axes._subplots.AxesSubplot at 0x7fd8309f2110>"
            ]
          },
          "metadata": {},
          "execution_count": 139
        },
        {
          "output_type": "display_data",
          "data": {
            "text/plain": [
              "<Figure size 432x288 with 1 Axes>"
            ],
            "image/png": "[encoded data removed]"
          },
          "metadata": {
            "needs_background": "light"
          }
        }
      ]
    },
    {
      "cell_type": "markdown",
      "source": [
        "Since there is geographical information (latitude and longitude), it is a good idea to\n",
        "create a scatterplot of all districts to visualize the data"
      ],
      "metadata": {
        "id": "GrvD0m3tpJx_"
      }
    },
    {
      "cell_type": "code",
      "source": [
        "# Now, lets look at the housing price\n",
        "housing.plot(kind=\"scatter\", x=\"longitude\", y=\"latitude\", alpha=0.4,\n",
        " s=housing[\"population\"]/100, label=\"population\",\n",
        " c=\"median_house_value\", cmap=plt.get_cmap(\"jet\"), colorbar=True)\n",
        "plt.legend()\n"
      ],
      "metadata": {
        "colab": {
          "base_uri": "https://localhost:8080/",
          "height": 274
        },
        "id": "itXHgAWWo8g1",
        "outputId": "dae8d1e0-dee8-4ad1-a20b-a8dc320ccec1"
      },
      "execution_count": null,
      "outputs": [
        {
          "output_type": "execute_result",
          "data": {
            "text/plain": [
              "<matplotlib.legend.Legend at 0x7fd830a2eed0>"
            ]
          },
          "metadata": {},
          "execution_count": 140
        },
        {
          "output_type": "display_data",
          "data": {
            "text/plain": [
              "<Figure size 432x288 with 2 Axes>"
            ],
            "image/png": "[encoded data removed]"
          },
          "metadata": {
            "needs_background": "light"
          }
        }
      ]
    },
    {
      "cell_type": "markdown",
      "source": [
        "This image tells you that the housing prices are very much related to the location\n",
        "(e.g., close to the ocean) and to the population density, as you probably knew already.\n",
        "It will probably be useful to use a clustering algorithm to detect the main clusters, and\n",
        "add new features that measure the proximity to the cluster centers. The ocean prox‐\n",
        "imity attribute may be useful as well, although in Northern California the housing\n",
        "prices in coastal districts are not too high, so it is not a simple rule"
      ],
      "metadata": {
        "id": "NDMG4wSAq_hT"
      }
    },
    {
      "cell_type": "code",
      "source": [
        "#Lest look for any correlations in the attributes\n",
        "correlation = housing.corr()\n",
        "correlation[\"median_house_value\"].sort_values(ascending=False)\n"
      ],
      "metadata": {
        "colab": {
          "base_uri": "https://localhost:8080/"
        },
        "id": "CZsXUJk_rFso",
        "outputId": "8b9552ab-1179-4704-940c-70a3e5740ae9"
      },
      "execution_count": null,
      "outputs": [
        {
          "output_type": "execute_result",
          "data": {
            "text/plain": [
              "median_house_value    1.000000\n",
              "median_income         0.687151\n",
              "total_rooms           0.135140\n",
              "housing_median_age    0.114146\n",
              "households            0.064590\n",
              "total_bedrooms        0.047781\n",
              "population           -0.026882\n",
              "longitude            -0.047466\n",
              "latitude             -0.142673\n",
              "Name: median_house_value, dtype: float64"
            ]
          },
          "metadata": {},
          "execution_count": 141
        }
      ]
    },
    {
      "cell_type": "markdown",
      "source": [
        "You can see a small negative correlation\n",
        "between the latitude and the median house value (i.e., prices have a slight tendency to\n",
        "go down when you go north)\n",
        "\n",
        "The most promising attribute to predict the median house value is the median\n",
        "income, so let’s zoom in on their correlation scatterplot"
      ],
      "metadata": {
        "id": "VH81eRB7r-Rx"
      }
    },
    {
      "cell_type": "code",
      "source": [
        "housing.plot(kind=\"scatter\", x=\"median_income\", y=\"median_house_value\")"
      ],
      "metadata": {
        "colab": {
          "base_uri": "https://localhost:8080/",
          "height": 303
        },
        "id": "9-kJfCn2rtMZ",
        "outputId": "25a3f374-4cbc-408f-a6b9-5e6b34ca9746"
      },
      "execution_count": null,
      "outputs": [
        {
          "output_type": "execute_result",
          "data": {
            "text/plain": [
              "<matplotlib.axes._subplots.AxesSubplot at 0x7fd830972390>"
            ]
          },
          "metadata": {},
          "execution_count": 142
        },
        {
          "output_type": "display_data",
          "data": {
            "text/plain": [
              "<Figure size 432x288 with 1 Axes>"
            ],
            "image/png": "[encoded data removed]"
          },
          "metadata": {
            "needs_background": "light"
          }
        }
      ]
    },
    {
      "cell_type": "markdown",
      "source": [
        "This plot reveals a few things. First, the correlation is indeed very strong; you can\n",
        "clearly an upward trend.\n",
        "\n",
        "Second, the price\n",
        "cap that we noticed earlier is clearly visible as a horizontal line at $500,000. \n",
        "\n",
        "But this\n",
        "plot reveals other less obvious straight lines: a horizontal line around $450,000, \n",
        "\n",
        "another around $350,000  \n",
        "\n",
        " perhaps one around $280,000, and a few more below that.\n",
        "You may want to try removing the corresponding districts to prevent your algorithms\n",
        "from learning to reproduce these data quirks."
      ],
      "metadata": {
        "id": "gAnCg1gHthGj"
      }
    },
    {
      "cell_type": "markdown",
      "source": [
        "## Attribute Combination\n",
        "\n",
        "One last thing you may want to do before actually preparing the data for Machine\n",
        "Learning algorithms is to try out various attribute combinations. For example, the\n",
        "total number of rooms in a district is not very useful if you don’t know how many\n",
        "households there are. What you really want is the number of rooms per household.\n",
        "Similarly, the total number of bedrooms by itself is not very useful: you probably\n",
        "want to compare it to the number of rooms."
      ],
      "metadata": {
        "id": "m5goXjzvuf72"
      }
    },
    {
      "cell_type": "code",
      "source": [
        "#lets create a new attributes\n",
        "housing[\"rooms_per_household\"] = housing[\"total_rooms\"]/housing[\"households\"]\n",
        "housing[\"bedrooms_per_room\"] = housing[\"total_bedrooms\"]/housing[\"total_rooms\"]\n",
        "housing[\"population_per_household\"]=housing[\"population\"]/housing[\"households\"]"
      ],
      "metadata": {
        "id": "vW31gmXGtUXR"
      },
      "execution_count": null,
      "outputs": []
    },
    {
      "cell_type": "code",
      "source": [
        "#Now, lets take a look at the correllation again.\n",
        "correlation= housing.corr()\n",
        "correlation[\"median_house_value\"].sort_values(ascending=False)"
      ],
      "metadata": {
        "colab": {
          "base_uri": "https://localhost:8080/"
        },
        "id": "yZGro8vcvLhh",
        "outputId": "6cde0cee-5163-4c21-f48c-7088f4ca0440"
      },
      "execution_count": null,
      "outputs": [
        {
          "output_type": "execute_result",
          "data": {
            "text/plain": [
              "median_house_value          1.000000\n",
              "median_income               0.687151\n",
              "rooms_per_household         0.146255\n",
              "total_rooms                 0.135140\n",
              "housing_median_age          0.114146\n",
              "households                  0.064590\n",
              "total_bedrooms              0.047781\n",
              "population_per_household   -0.021991\n",
              "population                 -0.026882\n",
              "longitude                  -0.047466\n",
              "latitude                   -0.142673\n",
              "bedrooms_per_room          -0.259952\n",
              "Name: median_house_value, dtype: float64"
            ]
          },
          "metadata": {},
          "execution_count": 144
        }
      ]
    },
    {
      "cell_type": "markdown",
      "source": [
        "Good, The new bedrooms_per_room attribute is much more correlated with\n",
        "the median house value than the total number of rooms or bedrooms. Apparently\n",
        "houses with a lower bedroom/room ratio tend to be more expensive. The number of\n",
        "rooms per household is also more informative than the total number of rooms in a\n",
        "district—obviously the larger the houses, the more expensive they are"
      ],
      "metadata": {
        "id": "5efUSHkfxlvc"
      }
    },
    {
      "cell_type": "markdown",
      "source": [
        "## Preparing the data for machine learning algorithm"
      ],
      "metadata": {
        "id": "mv34XkEOyT2X"
      }
    },
    {
      "cell_type": "markdown",
      "source": [
        "* It’s time to prepare the data for your Machine Learning algorithms. Instead of just\n",
        "doing this manually, you should write functions to do that, for several good reasons:\n",
        " * This will allow you to reproduce these transformations easily on any dataset (e.g.,\n",
        "the next time you get a fresh dataset).\n",
        " * You will gradually build a library of transformation functions that you can reuse\n",
        "in future projects.\n",
        " * You can use these functions in your live system to transform the new data before\n",
        "feeding it to your algorithms.\n",
        " * This will make it possible for you to easily try various transformations and see\n",
        "which combination of transformations works best.\n",
        "* But first let’s revert to a clean training set (by copying strat_train_set once again),\n",
        "and let’s separate the predictors and the labels since we don’t necessarily want to apply\n",
        "the same transformations to the predictors and the target values (note that drop()\n",
        "creates a copy of the data and does not affect strat_train_set)\n"
      ],
      "metadata": {
        "id": "dViBZe3F4qop"
      }
    },
    {
      "cell_type": "code",
      "source": [
        "housing = strat_train_set.drop(\"median_house_value\", axis=1)\n",
        "housing_labels = strat_train_set[\"median_house_value\"].copy()\n"
      ],
      "metadata": {
        "id": "-TemIHPvvh-t"
      },
      "execution_count": null,
      "outputs": []
    },
    {
      "cell_type": "code",
      "source": [
        "#   1. Data Cleaning\n",
        "# we want to replace the missing values in the dataset with median using Imputer object provided by sklearn.\n",
        "# Since median can only be computed on numerical values, we first drop the categorical feature in the dataset\n",
        "housing_num = housing.drop(\"ocean_proximity\", axis=1)"
      ],
      "metadata": {
        "id": "cyi6FJvnyZXi"
      },
      "execution_count": null,
      "outputs": []
    },
    {
      "cell_type": "code",
      "source": [
        "from sklearn.impute import SimpleImputer\n",
        "imputer = SimpleImputer(missing_values=np.nan, strategy='median')\n"
      ],
      "metadata": {
        "id": "y4tQD2RSycss"
      },
      "execution_count": null,
      "outputs": []
    },
    {
      "cell_type": "code",
      "source": [
        "#Now you can fit the imputer instance to the training data using the fit() method:\n",
        "imputer.fit(housing_num)\n"
      ],
      "metadata": {
        "colab": {
          "base_uri": "https://localhost:8080/"
        },
        "id": "Bv_jl0Ud0jgg",
        "outputId": "e4302348-6189-4752-e82b-ce92d625ac1b"
      },
      "execution_count": null,
      "outputs": [
        {
          "output_type": "execute_result",
          "data": {
            "text/plain": [
              "SimpleImputer(strategy='median')"
            ]
          },
          "metadata": {},
          "execution_count": 148
        }
      ]
    },
    {
      "cell_type": "markdown",
      "source": [
        "The imputer has simply computed the median of each attribute and stored the result\n",
        "in its statistics_ instance variable. Only the total_bedrooms attribute had missing\n",
        "values, but we cannot be sure that there won’t be any missing values in new data after\n",
        "the system goes live, so it is safer to apply the imputer to all the numerical attributes:\n"
      ],
      "metadata": {
        "id": "aymcVGsg12dN"
      }
    },
    {
      "cell_type": "code",
      "source": [
        "print(imputer.statistics_)\n",
        "\n",
        "print(housing_num.median().values)"
      ],
      "metadata": {
        "colab": {
          "base_uri": "https://localhost:8080/"
        },
        "id": "pWuU44g-1PNl",
        "outputId": "7bfd3c05-5133-48c1-f1f9-dcbf81665b21"
      },
      "execution_count": null,
      "outputs": [
        {
          "output_type": "stream",
          "name": "stdout",
          "text": [
            "[-118.51      34.26      29.      2119.       433.      1164.\n",
            "  408.         3.54155]\n",
            "[-118.51      34.26      29.      2119.       433.      1164.\n",
            "  408.         3.54155]\n"
          ]
        }
      ]
    },
    {
      "cell_type": "markdown",
      "source": [
        "Now you can use this “trained” imputer to transform the training set by replacing\n",
        "missing values by the learned medians"
      ],
      "metadata": {
        "id": "Lpn3Z-HI23LV"
      }
    },
    {
      "cell_type": "code",
      "source": [
        "X = imputer.transform(housing_num)"
      ],
      "metadata": {
        "id": "dflzd-9k2Ppx"
      },
      "execution_count": null,
      "outputs": []
    },
    {
      "cell_type": "code",
      "source": [
        "X"
      ],
      "metadata": {
        "colab": {
          "base_uri": "https://localhost:8080/"
        },
        "id": "K_bnJ5RA3Cn_",
        "outputId": "b4bddac5-cbb0-407d-e9fd-bc433328a1b4"
      },
      "execution_count": null,
      "outputs": [
        {
          "output_type": "execute_result",
          "data": {
            "text/plain": [
              "array([[-1.2146e+02,  3.8520e+01,  2.9000e+01, ...,  2.2370e+03,\n",
              "         7.0600e+02,  2.1736e+00],\n",
              "       [-1.1723e+02,  3.3090e+01,  7.0000e+00, ...,  2.0150e+03,\n",
              "         7.6800e+02,  6.3373e+00],\n",
              "       [-1.1904e+02,  3.5370e+01,  4.4000e+01, ...,  6.6700e+02,\n",
              "         3.0000e+02,  2.8750e+00],\n",
              "       ...,\n",
              "       [-1.2272e+02,  3.8440e+01,  4.8000e+01, ...,  4.5800e+02,\n",
              "         1.7200e+02,  3.1797e+00],\n",
              "       [-1.2270e+02,  3.8310e+01,  1.4000e+01, ...,  1.2080e+03,\n",
              "         5.0100e+02,  4.1964e+00],\n",
              "       [-1.2214e+02,  3.9970e+01,  2.7000e+01, ...,  6.2500e+02,\n",
              "         1.9700e+02,  3.1319e+00]])"
            ]
          },
          "metadata": {},
          "execution_count": 151
        }
      ]
    },
    {
      "cell_type": "code",
      "source": [
        "#The result is a plain Numpy array containing the transformed features. If you want to\n",
        "#put it back into a Pandas DataFrame, it’s simple:\n",
        "housing_tr = pd.DataFrame(X, columns=housing_num.columns)\n",
        "housing_tr.head(2)"
      ],
      "metadata": {
        "colab": {
          "base_uri": "https://localhost:8080/",
          "height": 112
        },
        "id": "AGzDFUKf3X_O",
        "outputId": "215cac93-a3f6-4f23-9722-2acdaac6de86"
      },
      "execution_count": null,
      "outputs": [
        {
          "output_type": "execute_result",
          "data": {
            "text/plain": [
              "   longitude  latitude  housing_median_age  total_rooms  total_bedrooms  \\\n",
              "0    -121.46     38.52                29.0       3873.0           797.0   \n",
              "1    -117.23     33.09                 7.0       5320.0           855.0   \n",
              "\n",
              "   population  households  median_income  \n",
              "0      2237.0       706.0         2.1736  \n",
              "1      2015.0       768.0         6.3373  "
            ],
            "text/html": [
              "\n",
              "  <div id=\"df-ad4d69d5-0b03-4efb-aef0-84480607d163\">\n",
              "    <div class=\"colab-df-container\">\n",
              "      <div>\n",
              "<style scoped>\n",
              "    .dataframe tbody tr th:only-of-type {\n",
              "        vertical-align: middle;\n",
              "    }\n",
              "\n",
              "    .dataframe tbody tr th {\n",
              "        vertical-align: top;\n",
              "    }\n",
              "\n",
              "    .dataframe thead th {\n",
              "        text-align: right;\n",
              "    }\n",
              "</style>\n",
              "<table border=\"1\" class=\"dataframe\">\n",
              "  <thead>\n",
              "    <tr style=\"text-align: right;\">\n",
              "      <th></th>\n",
              "      <th>longitude</th>\n",
              "      <th>latitude</th>\n",
              "      <th>housing_median_age</th>\n",
              "      <th>total_rooms</th>\n",
              "      <th>total_bedrooms</th>\n",
              "      <th>population</th>\n",
              "      <th>households</th>\n",
              "      <th>median_income</th>\n",
              "    </tr>\n",
              "  </thead>\n",
              "  <tbody>\n",
              "    <tr>\n",
              "      <th>0</th>\n",
              "      <td>-121.46</td>\n",
              "      <td>38.52</td>\n",
              "      <td>29.0</td>\n",
              "      <td>3873.0</td>\n",
              "      <td>797.0</td>\n",
              "      <td>2237.0</td>\n",
              "      <td>706.0</td>\n",
              "      <td>2.1736</td>\n",
              "    </tr>\n",
              "    <tr>\n",
              "      <th>1</th>\n",
              "      <td>-117.23</td>\n",
              "      <td>33.09</td>\n",
              "      <td>7.0</td>\n",
              "      <td>5320.0</td>\n",
              "      <td>855.0</td>\n",
              "      <td>2015.0</td>\n",
              "      <td>768.0</td>\n",
              "      <td>6.3373</td>\n",
              "    </tr>\n",
              "  </tbody>\n",
              "</table>\n",
              "</div>\n",
              "      <button class=\"colab-df-convert\" onclick=\"convertToInteractive('df-ad4d69d5-0b03-4efb-aef0-84480607d163')\"\n",
              "              title=\"Convert this dataframe to an interactive table.\"\n",
              "              style=\"display:none;\">\n",
              "        \n",
              "  <svg xmlns=\"http://www.w3.org/2000/svg\" height=\"24px\"viewBox=\"0 0 24 24\"\n",
              "       width=\"24px\">\n",
              "    <path d=\"M0 0h24v24H0V0z\" fill=\"none\"/>\n",
              "    <path d=\"M18.56 5.44l.94 2.06.94-2.06 2.06-.94-2.06-.94-.94-2.06-.94 2.06-2.06.94zm-11 1L8.5 8.5l.94-2.06 2.06-.94-2.06-.94L8.5 2.5l-.94 2.06-2.06.94zm10 10l.94 2.06.94-2.06 2.06-.94-2.06-.94-.94-2.06-.94 2.06-2.06.94z\"/><path d=\"M17.41 7.96l-1.37-1.37c-.4-.4-.92-.59-1.43-.59-.52 0-1.04.2-1.43.59L10.3 9.45l-7.72 7.72c-.78.78-.78 2.05 0 2.83L4 21.41c.39.39.9.59 1.41.59.51 0 1.02-.2 1.41-.59l7.78-7.78 2.81-2.81c.8-.78.8-2.07 0-2.86zM5.41 20L4 18.59l7.72-7.72 1.47 1.35L5.41 20z\"/>\n",
              "  </svg>\n",
              "      </button>\n",
              "      \n",
              "  <style>\n",
              "    .colab-df-container {\n",
              "      display:flex;\n",
              "      flex-wrap:wrap;\n",
              "      gap: 12px;\n",
              "    }\n",
              "\n",
              "    .colab-df-convert {\n",
              "      background-color: #E8F0FE;\n",
              "      border: none;\n",
              "      border-radius: 50%;\n",
              "      cursor: pointer;\n",
              "      display: none;\n",
              "      fill: #1967D2;\n",
              "      height: 32px;\n",
              "      padding: 0 0 0 0;\n",
              "      width: 32px;\n",
              "    }\n",
              "\n",
              "    .colab-df-convert:hover {\n",
              "      background-color: #E2EBFA;\n",
              "      box-shadow: 0px 1px 2px rgba(60, 64, 67, 0.3), 0px 1px 3px 1px rgba(60, 64, 67, 0.15);\n",
              "      fill: #174EA6;\n",
              "    }\n",
              "\n",
              "    [theme=dark] .colab-df-convert {\n",
              "      background-color: #3B4455;\n",
              "      fill: #D2E3FC;\n",
              "    }\n",
              "\n",
              "    [theme=dark] .colab-df-convert:hover {\n",
              "      background-color: #434B5C;\n",
              "      box-shadow: 0px 1px 3px 1px rgba(0, 0, 0, 0.15);\n",
              "      filter: drop-shadow(0px 1px 2px rgba(0, 0, 0, 0.3));\n",
              "      fill: #FFFFFF;\n",
              "    }\n",
              "  </style>\n",
              "\n",
              "      <script>\n",
              "        const buttonEl =\n",
              "          document.querySelector('#df-ad4d69d5-0b03-4efb-aef0-84480607d163 button.colab-df-convert');\n",
              "        buttonEl.style.display =\n",
              "          google.colab.kernel.accessAllowed ? 'block' : 'none';\n",
              "\n",
              "        async function convertToInteractive(key) {\n",
              "          const element = document.querySelector('#df-ad4d69d5-0b03-4efb-aef0-84480607d163');\n",
              "          const dataTable =\n",
              "            await google.colab.kernel.invokeFunction('convertToInteractive',\n",
              "                                                     [key], {});\n",
              "          if (!dataTable) return;\n",
              "\n",
              "          const docLinkHtml = 'Like what you see? Visit the ' +\n",
              "            '<a target=\"_blank\" href=https://colab.research.google.com/notebooks/data_table.ipynb>data table notebook</a>'\n",
              "            + ' to learn more about interactive tables.';\n",
              "          element.innerHTML = '';\n",
              "          dataTable['output_type'] = 'display_data';\n",
              "          await google.colab.output.renderOutput(dataTable, element);\n",
              "          const docLink = document.createElement('div');\n",
              "          docLink.innerHTML = docLinkHtml;\n",
              "          element.appendChild(docLink);\n",
              "        }\n",
              "      </script>\n",
              "    </div>\n",
              "  </div>\n",
              "  "
            ]
          },
          "metadata": {},
          "execution_count": 152
        }
      ]
    },
    {
      "cell_type": "markdown",
      "source": [
        "# Preprocessing the Categorical Input feature."
      ],
      "metadata": {
        "id": "xWcxiBckZY_0"
      }
    },
    {
      "cell_type": "code",
      "source": [
        "from sklearn.preprocessing import LabelEncoder\n",
        "encoder = LabelEncoder()\n",
        "housing_cat = housing[\"ocean_proximity\"]\n",
        "housing_cat_encoded = encoder.fit_transform(housing_cat)\n",
        "housing_cat_encoded\n"
      ],
      "metadata": {
        "id": "mB13-J8D4FzD",
        "colab": {
          "base_uri": "https://localhost:8080/"
        },
        "outputId": "11e7e5bc-06ee-4e32-d5f9-68141d805acb"
      },
      "execution_count": null,
      "outputs": [
        {
          "output_type": "execute_result",
          "data": {
            "text/plain": [
              "array([1, 4, 1, ..., 0, 0, 1])"
            ]
          },
          "metadata": {},
          "execution_count": 153
        }
      ]
    },
    {
      "cell_type": "code",
      "source": [
        "print(encoder.classes_)"
      ],
      "metadata": {
        "colab": {
          "base_uri": "https://localhost:8080/"
        },
        "id": "F28C6LIxaAPu",
        "outputId": "6337acb4-3027-4812-fd6b-2a661ae692b6"
      },
      "execution_count": null,
      "outputs": [
        {
          "output_type": "stream",
          "name": "stdout",
          "text": [
            "['<1H OCEAN' 'INLAND' 'ISLAND' 'NEAR BAY' 'NEAR OCEAN']\n"
          ]
        }
      ]
    },
    {
      "cell_type": "markdown",
      "source": [
        "One issue with this representation is that ML algorithms will assume that two nearby\n",
        "values are more similar than two distant values. Obviously this is not the case (for\n",
        "example, categories 0 and 4 are more similar than categories 0 and 1). To fix this\n",
        "issue, a common solution is to create one binary attribute per category"
      ],
      "metadata": {
        "id": "VVeRUz_tbDdu"
      }
    },
    {
      "cell_type": "code",
      "source": [
        "#Note that  fit_transform() expects a 2D array, but housing_cat_encoded is a 1D array, so we need to reshape it\n",
        "from sklearn.preprocessing import OneHotEncoder\n",
        "encoder = OneHotEncoder()\n",
        "housing_cat_1hot = encoder.fit_transform(housing_cat_encoded.reshape(-1,1))\n",
        "housing_cat_1hot"
      ],
      "metadata": {
        "colab": {
          "base_uri": "https://localhost:8080/"
        },
        "id": "WmEyej_aaare",
        "outputId": "b6f9e7eb-eb5a-47fd-ab7c-6cf1723414a5"
      },
      "execution_count": null,
      "outputs": [
        {
          "output_type": "execute_result",
          "data": {
            "text/plain": [
              "<16512x5 sparse matrix of type '<class 'numpy.float64'>'\n",
              "\twith 16512 stored elements in Compressed Sparse Row format>"
            ]
          },
          "metadata": {},
          "execution_count": 155
        }
      ]
    },
    {
      "cell_type": "markdown",
      "source": [
        " NumPy’s reshape() function allows one dimension to be –1, which means “unspecified”:\n",
        " \n",
        "  the value is inferred\n",
        "from the length of the array and the remaining dimensions."
      ],
      "metadata": {
        "id": "78MeOHUxdm_t"
      }
    },
    {
      "cell_type": "markdown",
      "source": [
        "Notice that the output is a SciPy **sparse matrix**, instead of a NumPy array. This is very\n",
        "useful when you have categorical attributes with thousands of categories. After one\u0002hot encoding we get a matrix with thousands of columns, and the matrix is full of\n",
        "zeros except for one 1 per row. Using up tons of memory mostly to store zeros would\n",
        "be very wasteful, so instead a sparse matrix only stores the location of the nonzero\n",
        "elements. You can use it mostly like a normal 2D array,19 but if you really want to con‐\n",
        "vert it to a (dense) NumPy array, \n",
        "\n",
        "just use the  .toarray()\n"
      ],
      "metadata": {
        "id": "T3TrdCL2ctAJ"
      }
    },
    {
      "cell_type": "code",
      "source": [
        "housing_cat_1hot.toarray()"
      ],
      "metadata": {
        "colab": {
          "base_uri": "https://localhost:8080/"
        },
        "id": "QpYI_GdCcGsD",
        "outputId": "5f7da5e3-57a7-47a6-f675-50120365cf4c"
      },
      "execution_count": null,
      "outputs": [
        {
          "output_type": "execute_result",
          "data": {
            "text/plain": [
              "array([[0., 1., 0., 0., 0.],\n",
              "       [0., 0., 0., 0., 1.],\n",
              "       [0., 1., 0., 0., 0.],\n",
              "       ...,\n",
              "       [1., 0., 0., 0., 0.],\n",
              "       [1., 0., 0., 0., 0.],\n",
              "       [0., 1., 0., 0., 0.]])"
            ]
          },
          "metadata": {},
          "execution_count": 156
        }
      ]
    },
    {
      "cell_type": "markdown",
      "source": [
        "We can apply both transformations (from text categories to integer categories, then\n",
        "\n",
        "from integer categories to one-hot vectors) in one shot using the LabelBinarizer\n",
        "class:"
      ],
      "metadata": {
        "id": "06xKTJE3dz4B"
      }
    },
    {
      "cell_type": "code",
      "source": [
        "from sklearn.preprocessing import LabelBinarizer \n",
        "encoder = LabelBinarizer()\n",
        "housing_cat_1hot = encoder.fit_transform(housing_cat)\n",
        "housing_cat_1hot"
      ],
      "metadata": {
        "colab": {
          "base_uri": "https://localhost:8080/"
        },
        "id": "N-hMtcZMcOKu",
        "outputId": "3e7df0fd-6398-4ac1-a622-d68f9cd9ea55"
      },
      "execution_count": null,
      "outputs": [
        {
          "output_type": "execute_result",
          "data": {
            "text/plain": [
              "array([[0, 1, 0, 0, 0],\n",
              "       [0, 0, 0, 0, 1],\n",
              "       [0, 1, 0, 0, 0],\n",
              "       ...,\n",
              "       [1, 0, 0, 0, 0],\n",
              "       [1, 0, 0, 0, 0],\n",
              "       [0, 1, 0, 0, 0]])"
            ]
          },
          "metadata": {},
          "execution_count": 157
        }
      ]
    },
    {
      "cell_type": "markdown",
      "source": [
        "Note that this returns a dense NumPy array by default. You can get a sparse matrix\n",
        "instead by passing sparse_output=True to the LabelBinarizer constructor."
      ],
      "metadata": {
        "id": "I140fa9CejIo"
      }
    },
    {
      "cell_type": "markdown",
      "source": [
        "### Custom Tranformer\n",
        "Although Scikit-Learn provides many useful transformers, you will need to write\n",
        "your own for tasks such as custom cleanup operations or combining specific\n",
        "attributes. You will want your transformer to work seamlessly with Scikit-Learn func‐\n",
        "tionalities (such as pipelines), and since Scikit-Learn relies on duck typing (not inher‐\n",
        "itance), all you need is to create a class and implement three methods: fit()\n",
        "(returning self), transform(), and fit_transform(). You can get the last one for\n",
        "free by simply adding TransformerMixin as a base class. Also, if you add BaseEstima\n",
        "tor as a base class (and avoid *args and **kargs in your constructor) you will get\n",
        "two extra methods (get_params() and set_params()) that will be useful for auto‐\n",
        "matic hyperparameter tuning. For example, here is a small transformer class that adds\n",
        "the combined attributes we discussed earlier:"
      ],
      "metadata": {
        "id": "YeJqEQ2ajMAB"
      }
    },
    {
      "cell_type": "code",
      "source": [
        "from sklearn.base import BaseEstimator, TransformerMixin\n",
        "rooms_ix, bedrooms_ix, population_ix, household_ix = 3, 4, 5, 6\n",
        "class CombinedAttributesAdder(BaseEstimator, TransformerMixin):\n",
        "  def __init__(self, add_bedrooms_per_room = True):\n",
        "    self.add_bedrooms_per_room = add_bedrooms_per_room\n",
        "  def fit(self, X, y=None):\n",
        "    return self # nothing else to do\n",
        "  def transform(self, X, y=None):\n",
        "    rooms_per_household = X[:, rooms_ix] / X[:, household_ix]\n",
        "    population_per_household = X[:, population_ix] / X[:, household_ix]\n",
        "    if self.add_bedrooms_per_room:\n",
        "      bedrooms_per_room = X[:, bedrooms_ix] / X[:, rooms_ix]\n",
        "      return np.c_[X, rooms_per_household, population_per_household,bedrooms_per_room]\n",
        "    else:\n",
        "      return np.c_[X, rooms_per_household, population_per_household]\n",
        "attr_adder = CombinedAttributesAdder(add_bedrooms_per_room=False)\n",
        "housing_extra_attribs = attr_adder.transform(housing.values)"
      ],
      "metadata": {
        "id": "O1fDzdXLiHQm"
      },
      "execution_count": null,
      "outputs": []
    },
    {
      "cell_type": "markdown",
      "source": [
        "## Future Scaling\n",
        "1. Transformation Pipeline"
      ],
      "metadata": {
        "id": "LXnMKpaYgxbw"
      }
    },
    {
      "cell_type": "code",
      "source": [
        "#For reference, here is the old solution based on a DataFrameSelector transformer (to just select a subset of the Pandas DataFrame columns), and a FeatureUnion\n",
        "from sklearn.base import BaseEstimator, TransformerMixin\n",
        "\n",
        "# Create a class to select numerical or categorical columns \n",
        "class OldDataFrameSelector(BaseEstimator, TransformerMixin):\n",
        "    def __init__(self, attribute_names):\n",
        "        self.attribute_names = attribute_names\n",
        "    def fit(self, X, y=None):\n",
        "        return self\n",
        "    def transform(self, X):\n",
        "        return X[self.attribute_names].values"
      ],
      "metadata": {
        "id": "tPxzaH2Nni9L"
      },
      "execution_count": null,
      "outputs": []
    },
    {
      "cell_type": "markdown",
      "source": [
        "ABove, There is nothing in Scikit-Learn\n",
        "to handle Pandas DataFrames.\n",
        "\n",
        "so we need to write a simple custom transformer for this task"
      ],
      "metadata": {
        "id": "oZFqAAuYrzr2"
      }
    },
    {
      "cell_type": "code",
      "source": [
        "from sklearn.base import TransformerMixin #gives fit_transform method for free\n",
        "class MyLabelBinarizer(TransformerMixin):\n",
        "    def __init__(self, *args, **kwargs):\n",
        "        self.encoder = LabelBinarizer(*args, **kwargs)\n",
        "    def fit(self, x, y=0):\n",
        "        self.encoder.fit(x)\n",
        "        return self\n",
        "    def transform(self, x, y=0):\n",
        "        return self.encoder.transform(x)"
      ],
      "metadata": {
        "id": "6ySYP7DMrQ-D"
      },
      "execution_count": null,
      "outputs": []
    },
    {
      "cell_type": "markdown",
      "source": [
        "We created the class MyLabelBinarizer to avoid error later in the pipeline. \n",
        "\n",
        "LabelBinarizer is not supposed to be used with X (Features), but is intended for labels only. Hence the fit and fit_transform methods are changed to include only single object y. But the Pipeline (which works on features) will try sending both X and y to it. Hence might want to create  error"
      ],
      "metadata": {
        "id": "mtJIp9Nsr1aQ"
      }
    },
    {
      "cell_type": "markdown",
      "source": [
        " #### Now let's join all these components into a big pipeline that will preprocess both the numerical and the categorical features.\n",
        "\n",
        "\n"
      ],
      "metadata": {
        "id": "Xt2S0oqMohge"
      }
    },
    {
      "cell_type": "code",
      "source": [
        "#Here is a separe pipeline for the numerical  and Categorical attributes:\n",
        "from sklearn.pipeline import Pipeline\n",
        "from sklearn.preprocessing import StandardScaler\n",
        "from sklearn.pipeline import FeatureUnion\n",
        "\n",
        "num_attribs = list(housing_num)\n",
        "cat_attribs = [\"ocean_proximity\"]\n",
        "\n",
        "\n",
        "num_pipeline = Pipeline([\n",
        " ('selector', OldDataFrameSelector(num_attribs)),\n",
        " ('imputer', SimpleImputer(strategy=\"median\")),\n",
        " ('attribs_adder', CombinedAttributesAdder()),\n",
        " ('std_scaler', StandardScaler()),\n",
        " ])\n",
        "cat_pipeline = Pipeline([\n",
        " ('selector', OldDataFrameSelector(cat_attribs)),\n",
        " ('label_binarizer', MyLabelBinarizer()),\n",
        " ])\n",
        "\n",
        "\n",
        "\n",
        "full_pipeline = FeatureUnion(transformer_list=[\n",
        " (\"num_pipeline\", num_pipeline),\n",
        " (\"cat_pipeline\", cat_pipeline),\n",
        " ])\n",
        "\n",
        "housing_prepared = full_pipeline.fit_transform(housing)\n",
        "housing_prepared\n"
      ],
      "metadata": {
        "colab": {
          "base_uri": "https://localhost:8080/"
        },
        "id": "MIkrZH8yecA8",
        "outputId": "ed3ff742-ece4-49c8-ae86-e31df5fb3cc2"
      },
      "execution_count": null,
      "outputs": [
        {
          "output_type": "execute_result",
          "data": {
            "text/plain": [
              "array([[-0.94135046,  1.34743822,  0.02756357, ...,  0.        ,\n",
              "         0.        ,  0.        ],\n",
              "       [ 1.17178212, -1.19243966, -1.72201763, ...,  0.        ,\n",
              "         0.        ,  1.        ],\n",
              "       [ 0.26758118, -0.1259716 ,  1.22045984, ...,  0.        ,\n",
              "         0.        ,  0.        ],\n",
              "       ...,\n",
              "       [-1.5707942 ,  1.31001828,  1.53856552, ...,  0.        ,\n",
              "         0.        ,  0.        ],\n",
              "       [-1.56080303,  1.2492109 , -1.1653327 , ...,  0.        ,\n",
              "         0.        ,  0.        ],\n",
              "       [-1.28105026,  2.02567448, -0.13148926, ...,  0.        ,\n",
              "         0.        ,  0.        ]])"
            ]
          },
          "metadata": {},
          "execution_count": 161
        }
      ]
    },
    {
      "cell_type": "markdown",
      "source": [
        "Pipeline constructor takes a list of name/estimator pairs defining a sequence of\n",
        "steps. All but the last estimator must be transformers (i.e., they must have a\n",
        "fit_transform() method). \n",
        "\n",
        " Scikit-Learn provides a FeatureUnion class, which allow us to combine two pipeline (numeric and categorical to one single pipeline)"
      ],
      "metadata": {
        "id": "36HWWnWgjd9e"
      }
    },
    {
      "cell_type": "markdown",
      "source": [
        "Each subpipeline starts with a selector transformer\n",
        "* it simply transforms the data by\n",
        "* selecting the desired attributes (numerical or categorical), dropping the rest, and con‐verting the resulting DataFrame to a NumPy array"
      ],
      "metadata": {
        "id": "Jl87OuArtOYx"
      }
    },
    {
      "cell_type": "markdown",
      "source": [
        "## Select and Train the Model\n"
      ],
      "metadata": {
        "id": "IieJ9_NEuLc4"
      }
    },
    {
      "cell_type": "code",
      "source": [
        "#Lets first train a LinearRegression Model\n",
        "from sklearn.linear_model import LinearRegression\n",
        "lr = LinearRegression()\n",
        "lr.fit(housing_prepared, housing_labels)\n"
      ],
      "metadata": {
        "colab": {
          "base_uri": "https://localhost:8080/"
        },
        "id": "gvjbGCPpuRsZ",
        "outputId": "6bfce13b-0139-4beb-a5df-8e6678a9a982"
      },
      "execution_count": null,
      "outputs": [
        {
          "output_type": "execute_result",
          "data": {
            "text/plain": [
              "LinearRegression()"
            ]
          },
          "metadata": {},
          "execution_count": 162
        }
      ]
    },
    {
      "cell_type": "markdown",
      "source": [
        "We now have a working Linear Regression model. Let’s try it out on a few\n",
        "instances from the training set:"
      ],
      "metadata": {
        "id": "jTAuPSWe6rZS"
      }
    },
    {
      "cell_type": "code",
      "source": [
        "some_data = housing.iloc[:5]\n",
        "some_labels = housing_labels.iloc[:5]\n",
        "some_data_prepared = full_pipeline.transform(some_data)\n",
        "print(\"Predictions:\\t\", lr.predict(some_data_prepared))\n"
      ],
      "metadata": {
        "colab": {
          "base_uri": "https://localhost:8080/"
        },
        "id": "j-RrqZ_A6l2c",
        "outputId": "b6a1663f-a129-43b9-ef7d-f9c1d86dacda"
      },
      "execution_count": null,
      "outputs": [
        {
          "output_type": "stream",
          "name": "stdout",
          "text": [
            "Predictions:\t [ 85657.90192014 305492.60737488 152056.46122456 186095.70946094\n",
            " 244550.67966089]\n"
          ]
        }
      ]
    },
    {
      "cell_type": "code",
      "source": [
        "print(\"Labels:\\t\\t\", list(some_labels))\n"
      ],
      "metadata": {
        "colab": {
          "base_uri": "https://localhost:8080/"
        },
        "id": "NAO2grxU68fz",
        "outputId": "8848fd94-05b2-4fd4-f84a-602d936a1761"
      },
      "execution_count": null,
      "outputs": [
        {
          "output_type": "stream",
          "name": "stdout",
          "text": [
            "Labels:\t\t [72100.0, 279600.0, 82700.0, 112500.0, 238300.0]\n"
          ]
        }
      ]
    },
    {
      "cell_type": "markdown",
      "source": [
        "* It works, although the predictions are not exactly accurate (e.g., the second prediction\n",
        "is off by more than 50%!). Let’s measure this regression model’s RMSE on the whole\n",
        "training set using Scikit-Learn’s mean_squared_error function:"
      ],
      "metadata": {
        "id": "mef6eaz97Uou"
      }
    },
    {
      "cell_type": "code",
      "source": [
        " from sklearn.metrics import mean_squared_error\n",
        " \n",
        "housing_predictions = lr.predict(housing_prepared)\n",
        "lr_mse = mean_squared_error(housing_labels, housing_predictions)\n",
        "lr_rmse = np.sqrt(lr_mse)\n",
        "lr_rmse"
      ],
      "metadata": {
        "colab": {
          "base_uri": "https://localhost:8080/"
        },
        "id": "11Tng5xv7IJt",
        "outputId": "8606b616-2f00-464c-9add-f0f0d2f77399"
      },
      "execution_count": null,
      "outputs": [
        {
          "output_type": "execute_result",
          "data": {
            "text/plain": [
              "68627.87390018745"
            ]
          },
          "metadata": {},
          "execution_count": 165
        }
      ]
    },
    {
      "cell_type": "markdown",
      "source": [
        "This is better than nothing but clearly not a great score: most districts’\n",
        "median_housing_values range between 120,000 dollars. \n",
        "and 265,000 dollars , so a typical predic‐\n",
        "tion error of $68,628 is not very satisfying."
      ],
      "metadata": {
        "id": "toMCnRq48Caj"
      }
    },
    {
      "cell_type": "markdown",
      "source": [
        "*  This is an example of a model underfitting\n",
        "the training data. When this happens it can mean that the features do not provide\n",
        "enough information to make good predictions, or that the model is not powerful\n",
        "enough. \n",
        "* the main ways to fix underfitting are to\n",
        "select a more powerful model, to feed the training algorithm with better features, or\n",
        "to reduce the constraints on the model. This model is not regularized, so this rules\n",
        "out the last option. You could try to add more features (e.g., the log of the popula‐\n",
        "tion), but first let’s try a more complex model to see how it does\n",
        "* Let’s train a DecisionTreeRegressor. This is a powerful model, capable of finding\n",
        "complex nonlinear relationships in the data"
      ],
      "metadata": {
        "id": "sMg1_cLp8lmn"
      }
    },
    {
      "cell_type": "code",
      "source": [
        "#Decision Tree\n",
        "from sklearn.tree import DecisionTreeRegressor\n",
        "tree_reg = DecisionTreeRegressor()\n",
        "tree_reg.fit(housing_prepared, housing_labels)\n"
      ],
      "metadata": {
        "id": "E4TcXLzw76X8",
        "colab": {
          "base_uri": "https://localhost:8080/"
        },
        "outputId": "02e4ea16-6de2-4175-ceb5-16a48e672e9f"
      },
      "execution_count": null,
      "outputs": [
        {
          "output_type": "execute_result",
          "data": {
            "text/plain": [
              "DecisionTreeRegressor()"
            ]
          },
          "metadata": {},
          "execution_count": 166
        }
      ]
    },
    {
      "cell_type": "code",
      "source": [
        "#Now the model is trained letsevaluate it on the training set\n",
        "housing_predictions = tree_reg.predict(housing_prepared)\n",
        "tree_mse = mean_squared_error(housing_labels, housing_predictions)\n",
        "tree_rmse = np.sqrt(tree_mse)\n",
        "tree_rmse"
      ],
      "metadata": {
        "colab": {
          "base_uri": "https://localhost:8080/"
        },
        "id": "arMEWWYgzS2s",
        "outputId": "f85fa8ed-0508-4a52-fd64-b99e6690ea9a"
      },
      "execution_count": null,
      "outputs": [
        {
          "output_type": "execute_result",
          "data": {
            "text/plain": [
              "0.0"
            ]
          },
          "metadata": {},
          "execution_count": 167
        }
      ]
    },
    {
      "cell_type": "markdown",
      "source": [
        "* No error at all? Could this model really be absolutely perfect? Of course,\n",
        "it is much more likely that the model has badly overfit the data. How can you be sure?\n",
        "As we saw earlier, you don’t want to touch the test set until you are ready to launch a\n",
        "model you are confident about, so you need to use part of the training set for train‐\n",
        "ing, and part for model validation."
      ],
      "metadata": {
        "id": "J6-pcqNyzpPt"
      }
    },
    {
      "cell_type": "markdown",
      "source": [
        "### Evaluaution Using Cross Validation"
      ],
      "metadata": {
        "id": "RfDSxOzuz4EE"
      }
    },
    {
      "cell_type": "code",
      "source": [
        "from sklearn.model_selection import cross_val_score\n",
        "\n",
        "scores = cross_val_score(tree_reg, housing_prepared, housing_labels,\n",
        "                         scoring=\"neg_mean_squared_error\", cv=10)\n",
        "tree_rmse_scores = np.sqrt(-scores)"
      ],
      "metadata": {
        "id": "tcB7wJZT2sq1"
      },
      "execution_count": null,
      "outputs": []
    },
    {
      "cell_type": "code",
      "source": [
        "def display_scores(scores):\n",
        "    print(\"Scores:\", scores)\n",
        "    print(\"Mean:\", scores.mean())\n",
        "    print(\"Standard deviation:\", scores.std())\n",
        "\n",
        "display_scores(tree_rmse_scores)\n"
      ],
      "metadata": {
        "colab": {
          "base_uri": "https://localhost:8080/"
        },
        "id": "hwEVnrPS39pK",
        "outputId": "44e8de51-8741-4697-843d-fb465e91ef77"
      },
      "execution_count": null,
      "outputs": [
        {
          "output_type": "stream",
          "name": "stdout",
          "text": [
            "Scores: [72251.22610062 70811.34799853 68000.08591434 71929.39104752\n",
            " 69328.61392367 77963.99482744 71628.79228943 73511.78648072\n",
            " 69045.58722762 69854.4073967 ]\n",
            "Mean: 71432.52332065887\n",
            "Standard deviation: 2696.6824522410743\n"
          ]
        }
      ]
    },
    {
      "cell_type": "markdown",
      "source": [
        "* Now the Decision Tree doesn’t look as good as it did earlier. In fact, it seems to per‐\n",
        "form worse than the Linear Regression model! Notice that cross-validation allows\n",
        "you to get not only an estimate of the performance of your model, but also a measure\n",
        "of how precise this estimate is (i.e., its standard deviation). The Decision Tree has a\n",
        "score of approximately 71,116, generally ±2426. You would not have this information\n",
        "if you just used one validation set. But cross-validation comes at the cost of training\n",
        "the model several times, so it is not always possible."
      ],
      "metadata": {
        "id": "YrN6yUS950lA"
      }
    },
    {
      "cell_type": "code",
      "source": [
        "#Let’s compute the same scores for the Linear Regression model just to be sure:\n",
        "lin_scores = cross_val_score(lr, housing_prepared, housing_labels,\n",
        " scoring=\"neg_mean_squared_error\", cv=10)\n",
        "\n",
        "lin_rmse_scores = np.sqrt(-lin_scores)\n",
        "display_scores(lin_rmse_scores)\n"
      ],
      "metadata": {
        "colab": {
          "base_uri": "https://localhost:8080/"
        },
        "id": "PDScL2TE4GSM",
        "outputId": "5e4d5ea0-6e18-4897-e41b-ab90690b929b"
      },
      "execution_count": null,
      "outputs": [
        {
          "output_type": "stream",
          "name": "stdout",
          "text": [
            "Scores: [71762.76364394 64114.99166359 67771.17124356 68635.19072082\n",
            " 66846.14089488 72528.03725385 73997.08050233 68802.33629334\n",
            " 66443.28836884 70139.79923956]\n",
            "Mean: 69104.07998247063\n",
            "Standard deviation: 2880.3282098180644\n"
          ]
        }
      ]
    },
    {
      "cell_type": "markdown",
      "source": [
        "That’s right: the Decision Tree model is overfitting so badly that it performs worse\n",
        "than the Linear Regression model.\n"
      ],
      "metadata": {
        "id": "w3rtuz0S6o7k"
      }
    },
    {
      "cell_type": "markdown",
      "source": [
        "* Let’s try one last model now: the RandomForestRegressor.  Random Forests work by training many Decision Trees on random subsets of\n",
        "the features, then averaging out their predictions. Building a model on top of many\n",
        "other models is called Ensemble Learning, and it is often a great way to push ML algo‐\n",
        "rithms even further. We will skip most of the code since it is essentially the same as\n",
        "for the other models:"
      ],
      "metadata": {
        "id": "fzfurMqw7snZ"
      }
    },
    {
      "cell_type": "code",
      "source": [
        "# we specify n_estimators=10 to avoid a warning about the fact that the default value is going to change to 100 in Scikit-Learn 0.22.\n",
        "from sklearn.ensemble import RandomForestRegressor\n",
        "\n",
        "forest_reg = RandomForestRegressor(n_estimators=10, random_state=42)\n",
        "forest_reg.fit(housing_prepared, housing_labels)"
      ],
      "metadata": {
        "colab": {
          "base_uri": "https://localhost:8080/"
        },
        "id": "WsL-QTiZ6hPH",
        "outputId": "d0b65912-c29f-4e92-8510-49c8cd2a3e7a"
      },
      "execution_count": null,
      "outputs": [
        {
          "output_type": "execute_result",
          "data": {
            "text/plain": [
              "RandomForestRegressor(n_estimators=10, random_state=42)"
            ]
          },
          "metadata": {},
          "execution_count": 171
        }
      ]
    },
    {
      "cell_type": "code",
      "source": [
        "housing_predictions = forest_reg.predict(housing_prepared)\n",
        "forest_mse = mean_squared_error(housing_labels, housing_predictions)\n",
        "forest_rmse = np.sqrt(forest_mse)\n",
        "forest_rmse"
      ],
      "metadata": {
        "colab": {
          "base_uri": "https://localhost:8080/"
        },
        "id": "VIVnQ3Qp9ScD",
        "outputId": "857cf559-a2e5-4781-f8be-b7b826496999"
      },
      "execution_count": null,
      "outputs": [
        {
          "output_type": "execute_result",
          "data": {
            "text/plain": [
              "22413.454658589766"
            ]
          },
          "metadata": {},
          "execution_count": 172
        }
      ]
    },
    {
      "cell_type": "code",
      "source": [
        "from sklearn.model_selection import cross_val_score\n",
        "\n",
        "forest_scores = cross_val_score(forest_reg, housing_prepared, housing_labels,\n",
        "                                scoring=\"neg_mean_squared_error\", cv=10)\n",
        "forest_rmse_scores = np.sqrt(-forest_scores)\n",
        "display_scores(forest_rmse_scores)"
      ],
      "metadata": {
        "colab": {
          "base_uri": "https://localhost:8080/"
        },
        "id": "BrPwXbWK9aZL",
        "outputId": "27c9e61a-40e8-42ba-b211-5b2ce5431040"
      },
      "execution_count": null,
      "outputs": [
        {
          "output_type": "stream",
          "name": "stdout",
          "text": [
            "Scores: [53519.05518628 50467.33817051 48924.16513902 53771.72056856\n",
            " 50810.90996358 54876.09682033 56012.79985518 52256.88927227\n",
            " 51527.73185039 55762.56008531]\n",
            "Mean: 52792.92669114079\n",
            "Standard deviation: 2262.8151900582\n"
          ]
        }
      ]
    },
    {
      "cell_type": "markdown",
      "source": [
        " * Random Forests look very promising. However, note that\n",
        "the score on the training set is still much lower than on the validation sets, meaning\n",
        "that the model is still overfitting the training set. Possible solutions for overfitting are\n",
        "to simplify the model, constrain it (i.e., regularize it), or get a lot more training data.\n",
        "However, before you dive much deeper in Random Forests, you should try out many\n",
        "other models from various categories of Machine Learning algorithms (several Support Vector Machines with different kernels, possibly a neural network, etc.), without\n",
        "spending too much time tweaking the hyperparameters. The goal is to shortlist a few\n",
        "(two to five) promising models."
      ],
      "metadata": {
        "id": "NZTq_LAQ9_0p"
      }
    },
    {
      "cell_type": "markdown",
      "source": [
        "### Saving your Model\n",
        "\n",
        "* You should save every model you experiment with, so you can\n",
        "come back easily to any model you want. Make sure you save both\n",
        "the hyperparameters and the trained parameters, as well as the\n",
        "cross-validation scores and perhaps the actual predictions as well.\n",
        "\n",
        "* You can easily save\n",
        "Scikit-Learn models by using Python’s pickle module, or using\n",
        "sklearn.externals.joblib, which is more efficient at serializing \n",
        "large NumPy arrays:"
      ],
      "metadata": {
        "id": "6k6uuEwR-pQE"
      }
    },
    {
      "cell_type": "code",
      "source": [
        "#from sklearn.externals import joblib\n",
        "#joblib.dump(my_model, \"my_model.pkl\")\n",
        "\n",
        "# and later...\n",
        "\n",
        "\n",
        "#my_model_loaded = joblib.load(\"my_model.pkl\")\n"
      ],
      "metadata": {
        "id": "jBMVqHAl9xht"
      },
      "execution_count": null,
      "outputs": []
    },
    {
      "cell_type": "markdown",
      "source": [
        "## Fine Tune the Model\n",
        "\n",
        "* Let’s assume that you now have a shortlist of promising models. You now need to\n",
        "fine-tune them. Let’s look at a few ways you can do that.\n"
      ],
      "metadata": {
        "id": "1EH4rOle31FW"
      }
    },
    {
      "cell_type": "markdown",
      "source": [
        "# GRID SEARCH\n",
        " * Get Scikit-Learn’s GridSearchCV to search for you. All you need to\n",
        "do is tell it which hyperparameters you want it to experiment with, and what values to\n",
        "try out, and it will evaluate all the possible combinations of hyperparameter values,\n",
        "using cross-validation.\n",
        "* For example, the following code searches for the best combi‐\n",
        "nation of hyperparameter values for the RandomForestRegressor:"
      ],
      "metadata": {
        "id": "4czqgwojAhvY"
      }
    },
    {
      "cell_type": "code",
      "source": [
        "from sklearn.model_selection import GridSearchCV\n",
        "\n",
        "param_grid = [\n",
        "    # try 12 (3×4) combinations of hyperparameters\n",
        "    {'n_estimators': [3, 10, 30], 'max_features': [2, 4, 6, 8]},\n",
        "    # then try 6 (2×3) combinations with bootstrap set as False\n",
        "    {'bootstrap': [False], 'n_estimators': [3, 10], 'max_features': [2, 3, 4]},\n",
        "  ]\n",
        "\n",
        "forest_reg = RandomForestRegressor(random_state=42)\n",
        "# train across 5 folds, that's a total of (12+6)*5=90 rounds of training \n",
        "grid_search = GridSearchCV(forest_reg, param_grid, cv=5,\n",
        "                           scoring='neg_mean_squared_error', return_train_score=True)\n",
        "grid_search.fit(housing_prepared, housing_labels)"
      ],
      "metadata": {
        "colab": {
          "base_uri": "https://localhost:8080/"
        },
        "id": "p_sugtTF_Ps3",
        "outputId": "4dc37e21-e389-4245-acc9-90cdb336ad07"
      },
      "execution_count": null,
      "outputs": [
        {
          "output_type": "execute_result",
          "data": {
            "text/plain": [
              "GridSearchCV(cv=5, estimator=RandomForestRegressor(random_state=42),\n",
              "             param_grid=[{'max_features': [2, 4, 6, 8],\n",
              "                          'n_estimators': [3, 10, 30]},\n",
              "                         {'bootstrap': [False], 'max_features': [2, 3, 4],\n",
              "                          'n_estimators': [3, 10]}],\n",
              "             return_train_score=True, scoring='neg_mean_squared_error')"
            ]
          },
          "metadata": {},
          "execution_count": 175
        }
      ]
    },
    {
      "cell_type": "markdown",
      "source": [
        "This param_grid tells Scikit-Learn to first evaluate all 3 × 4 = 12 \n",
        "\n",
        "* combinations of\n",
        "n_estimators and max_features hyperparameter values specified in the first dict\n",
        "(don’t worry about what these hyperparameters mean for now; \n",
        "* then try all 2 × 3 = 6 combinations of hyperparameter values in the\n",
        "second dict, but this time with the bootstrap hyperparameter set to False instead of\n",
        "True (which is the default value for this hyperparameter)."
      ],
      "metadata": {
        "id": "8br7J8qKC2I6"
      }
    },
    {
      "cell_type": "markdown",
      "source": [
        "* When you have no idea what value a hyperparameter should have,\n",
        "a simple approach is to try out consecutive powers of 10 (or a\n",
        "smaller number if you want a more fine-grained search, as shown\n",
        "in this example with the n_estimators hyperparameter).\n"
      ],
      "metadata": {
        "id": "RnqHaK0rBnFl"
      }
    },
    {
      "cell_type": "code",
      "source": [
        "#It may take quite a long time, but when it is done you can get the best combination of parameters like this\n",
        "grid_search.best_params_"
      ],
      "metadata": {
        "colab": {
          "base_uri": "https://localhost:8080/"
        },
        "id": "vVmDn_W2BrwK",
        "outputId": "b18687ca-2510-48ce-d550-78fa958031d2"
      },
      "execution_count": null,
      "outputs": [
        {
          "output_type": "execute_result",
          "data": {
            "text/plain": [
              "{'max_features': 8, 'n_estimators': 30}"
            ]
          },
          "metadata": {},
          "execution_count": 176
        }
      ]
    },
    {
      "cell_type": "markdown",
      "source": [
        "Since 30 is the maximum value of n_estimators that was evalu‐\n",
        "ated, you should probably evaluate higher values as well, since the\n",
        "score may continue to improve.\n"
      ],
      "metadata": {
        "id": "jHTImR-eEaJt"
      }
    },
    {
      "cell_type": "code",
      "source": [
        "#Lets also get the best estimator\n",
        "grid_search.best_estimator_\n",
        "\n"
      ],
      "metadata": {
        "colab": {
          "base_uri": "https://localhost:8080/"
        },
        "id": "PhHv9UR8ETVc",
        "outputId": "824086f6-4212-40f6-bcaa-2dbd925d805b"
      },
      "execution_count": null,
      "outputs": [
        {
          "output_type": "execute_result",
          "data": {
            "text/plain": [
              "RandomForestRegressor(max_features=8, n_estimators=30, random_state=42)"
            ]
          },
          "metadata": {},
          "execution_count": 177
        }
      ]
    },
    {
      "cell_type": "code",
      "source": [
        "#Let's look at the score of each hyperparameter combination tested during the grid search:\n",
        "cvres = grid_search.cv_results_\n",
        "for mean_score, params in zip(cvres[\"mean_test_score\"], cvres[\"params\"]):\n",
        "    print(np.sqrt(-mean_score), params)"
      ],
      "metadata": {
        "colab": {
          "base_uri": "https://localhost:8080/"
        },
        "id": "87XPpIzTF1lk",
        "outputId": "33d1a6ae-dbb5-4e20-f57b-1beb453a28fc"
      },
      "execution_count": null,
      "outputs": [
        {
          "output_type": "stream",
          "name": "stdout",
          "text": [
            "63895.161577951665 {'max_features': 2, 'n_estimators': 3}\n",
            "54916.32386349543 {'max_features': 2, 'n_estimators': 10}\n",
            "52885.86715332332 {'max_features': 2, 'n_estimators': 30}\n",
            "60075.3680329983 {'max_features': 4, 'n_estimators': 3}\n",
            "52495.01284985185 {'max_features': 4, 'n_estimators': 10}\n",
            "50187.24324926565 {'max_features': 4, 'n_estimators': 30}\n",
            "58064.73529982314 {'max_features': 6, 'n_estimators': 3}\n",
            "51519.32062366315 {'max_features': 6, 'n_estimators': 10}\n",
            "49969.80441627874 {'max_features': 6, 'n_estimators': 30}\n",
            "58895.824998155826 {'max_features': 8, 'n_estimators': 3}\n",
            "52459.79624724529 {'max_features': 8, 'n_estimators': 10}\n",
            "49898.98913455217 {'max_features': 8, 'n_estimators': 30}\n",
            "62381.765106921855 {'bootstrap': False, 'max_features': 2, 'n_estimators': 3}\n",
            "54476.57050944266 {'bootstrap': False, 'max_features': 2, 'n_estimators': 10}\n",
            "59974.60028085155 {'bootstrap': False, 'max_features': 3, 'n_estimators': 3}\n",
            "52754.5632813202 {'bootstrap': False, 'max_features': 3, 'n_estimators': 10}\n",
            "57831.136061214274 {'bootstrap': False, 'max_features': 4, 'n_estimators': 3}\n",
            "51278.37877140253 {'bootstrap': False, 'max_features': 4, 'n_estimators': 10}\n"
          ]
        }
      ]
    },
    {
      "cell_type": "markdown",
      "source": [
        "* Don’t forget that you can treat some of the data preparation steps as\n",
        "hyperparameters. For example, the grid search will automatically\n",
        "find out whether or not to add a feature you were not sure about\n",
        "(e.g., using the add_bedrooms_per_room hyperparameter of your\n",
        "CombinedAttributesAdder transformer). It may similarly be used\n",
        "to automatically find the best way to handle outliers, missing fea‐\n",
        "tures, feature selection, and more.\n"
      ],
      "metadata": {
        "id": "zcAU6Hc9GJao"
      }
    },
    {
      "cell_type": "markdown",
      "source": [
        "## RANDOMIZED SEARCH\n",
        "* The grid search approach is fine when you are exploring relatively few combinations,but when the hyperparameter search space is large, it is\n",
        "often preferable to use RandomizedSearchCV instead. This class can be used in much\n",
        "the same way as the GridSearchCV class, but instead of trying out all possible combi‐\n",
        "nations, it evaluates a given number of random combinations by selecting a random\n",
        "value for each hyperparameter at every iteration. This approach has two main bene‐\n",
        "fits\n",
        "  * If you let the randomized search run for, say, 1,000 iterations, this approach will\n",
        "explore 1,000 different values for each hyperparameter (instead of just a few val‐\n",
        "ues per hyperparameter with the grid search approach).\n",
        "  * You have more control over the computing budget you want to allocate to hyper‐\n",
        "parameter search, simply by setting the number of iterations"
      ],
      "metadata": {
        "id": "6e5iePD0GbTA"
      }
    },
    {
      "cell_type": "markdown",
      "source": [
        "## ENSEMBLE METHOD\n",
        "\n"
      ],
      "metadata": {
        "id": "c2l2CQjgHXbu"
      }
    },
    {
      "cell_type": "markdown",
      "source": [
        "* Combining models that perform\n",
        "best 1.e groups (or “ensemble”) will often perform better than the best individual\n",
        "model (just like Random Forests perform better than the individual Decision Trees\n",
        "they rely on), especially if the individual models make very different types of errors."
      ],
      "metadata": {
        "id": "nvZNxpzNR3yB"
      }
    },
    {
      "cell_type": "code",
      "source": [
        "feature_importances = grid_search.best_estimator_.feature_importances_\n",
        "feature_importances\n"
      ],
      "metadata": {
        "colab": {
          "base_uri": "https://localhost:8080/"
        },
        "id": "lLkMjUomF1oh",
        "outputId": "d7a6e67d-1457-4ae7-a943-4c2e4f7a7f10"
      },
      "execution_count": null,
      "outputs": [
        {
          "output_type": "execute_result",
          "data": {
            "text/plain": [
              "array([6.96542523e-02, 6.04213840e-02, 4.21882202e-02, 1.52450557e-02,\n",
              "       1.55545295e-02, 1.58491147e-02, 1.49346552e-02, 3.79009225e-01,\n",
              "       5.47789150e-02, 1.07031322e-01, 4.82031213e-02, 6.79266007e-03,\n",
              "       1.65706303e-01, 7.83480660e-05, 1.52473276e-03, 3.02816106e-03])"
            ]
          },
          "metadata": {},
          "execution_count": 179
        }
      ]
    },
    {
      "cell_type": "code",
      "source": [
        "#Let’s display these importance scores next to their corresponding attribute names\n",
        "extra_attribs = [\"rooms_per_hhold\", \"pop_per_hhold\", \"bedrooms_per_room\"]\n",
        "cat_one_hot_attribs = list(encoder.classes_)\n",
        "attributes = num_attribs + extra_attribs + cat_one_hot_attribs\n",
        "sorted(zip(feature_importances, attributes), reverse=True)\n"
      ],
      "metadata": {
        "colab": {
          "base_uri": "https://localhost:8080/"
        },
        "id": "_V1wCE8YF1sG",
        "outputId": "c667d3cd-58ab-46dd-9f51-3d0728ced9ef"
      },
      "execution_count": null,
      "outputs": [
        {
          "output_type": "execute_result",
          "data": {
            "text/plain": [
              "[(0.3790092248170967, 'median_income'),\n",
              " (0.16570630316895876, 'INLAND'),\n",
              " (0.10703132208204354, 'pop_per_hhold'),\n",
              " (0.06965425227942929, 'longitude'),\n",
              " (0.0604213840080722, 'latitude'),\n",
              " (0.054778915018283726, 'rooms_per_hhold'),\n",
              " (0.048203121338269206, 'bedrooms_per_room'),\n",
              " (0.04218822024391753, 'housing_median_age'),\n",
              " (0.015849114744428634, 'population'),\n",
              " (0.015554529490469328, 'total_bedrooms'),\n",
              " (0.01524505568840977, 'total_rooms'),\n",
              " (0.014934655161887776, 'households'),\n",
              " (0.006792660074259966, '<1H OCEAN'),\n",
              " (0.0030281610628962747, 'NEAR OCEAN'),\n",
              " (0.0015247327555504937, 'NEAR BAY'),\n",
              " (7.834806602687504e-05, 'ISLAND')]"
            ]
          },
          "metadata": {},
          "execution_count": 180
        }
      ]
    },
    {
      "cell_type": "markdown",
      "source": [
        "* With this information, you may want to try dropping some of the less useful features\n",
        "(e.g., apparently only one ocean_proximity category is really useful, so you could try\n",
        "dropping the others).\n",
        "You should also look at the specific errors that your system makes, then try to under‐\n",
        "stand why it makes them and what could fix the problem (adding extra features or, on\n",
        "the contrary, getting rid of uninformative ones, cleaning up outliers, etc.)"
      ],
      "metadata": {
        "id": "Uqf3jGHIUfaz"
      }
    },
    {
      "cell_type": "markdown",
      "source": [
        "## Evaluating the system on the Test Set\n",
        "\n",
        "* There is\n",
        "nothing special about this process; just get the predictors and the labels from your\n",
        "test set, run your full_pipeline to transform the data (call transform(), not\n",
        "fit_transform()!), and evaluate the final model on the test set:"
      ],
      "metadata": {
        "id": "-tAQocMhUnt4"
      }
    },
    {
      "cell_type": "code",
      "source": [
        "final_model = grid_search.best_estimator_\n",
        "\n",
        "X_test = strat_test_set.drop(\"median_house_value\", axis=1)\n",
        "y_test = strat_test_set[\"median_house_value\"].copy()\n",
        "\n",
        "X_test_prepared = full_pipeline.transform(X_test)\n",
        "final_predictions = final_model.predict(X_test_prepared)\n",
        "\n",
        "final_mse = mean_squared_error(y_test, final_predictions)\n",
        "final_rmse = np.sqrt(final_mse)"
      ],
      "metadata": {
        "id": "w_e9yQYRUZWy"
      },
      "execution_count": null,
      "outputs": []
    },
    {
      "cell_type": "code",
      "source": [
        "final_rmse"
      ],
      "metadata": {
        "colab": {
          "base_uri": "https://localhost:8080/"
        },
        "id": "F45s-IxUVSdA",
        "outputId": "4581f27a-d3d4-4b18-f76b-c0d84e336f37"
      },
      "execution_count": null,
      "outputs": [
        {
          "output_type": "execute_result",
          "data": {
            "text/plain": [
              "47873.26095812988"
            ]
          },
          "metadata": {},
          "execution_count": 182
        }
      ]
    },
    {
      "cell_type": "markdown",
      "source": [
        "* The performance will usually be slightly worse than what you measured using cross\u0002validation if you did a lot of hyperparameter tuning (because your system ends up\n",
        "fine-tuned to perform well on the validation data, and will likely not perform as well\n",
        "on unknown datasets). It is not the case in this example, but when this happens you\n",
        "must resist the temptation to tweak the hyperparameters to make the numbers look\n",
        "good on the test set; the improvements would be unlikely to generalize to new data."
      ],
      "metadata": {
        "id": "zTx35xiwVf4k"
      }
    },
    {
      "cell_type": "code",
      "source": [
        ""
      ],
      "metadata": {
        "id": "nU_sA169VWjI"
      },
      "execution_count": null,
      "outputs": []
    },
    {
      "cell_type": "markdown",
      "source": [
        "## Reference\n",
        "1. Hands On Machine Learning with SciKit Learn, Chapter 2.\n",
        "2. https://github.com/ageron/handson-ml/blob/master/02_end_to_end_machine_learning_project.ipynb"
      ],
      "metadata": {
        "id": "_gSdHiMIWAWU"
      }
    },
    {
      "cell_type": "code",
      "source": [
        ""
      ],
      "metadata": {
        "id": "mUwFweKuWQD1"
      },
      "execution_count": null,
      "outputs": []
    }
  ]
}